{
 "cells": [
  {
   "cell_type": "code",
   "execution_count": 1,
   "metadata": {},
   "outputs": [],
   "source": [
    "%load_ext autoreload\n",
    "%autoreload 2"
   ]
  },
  {
   "cell_type": "code",
   "execution_count": 2,
   "metadata": {},
   "outputs": [],
   "source": [
    "import numpy as np\n",
    "import matplotlib.pyplot as plt\n",
    "\n",
    "import sys\n",
    "sys.path.append('../modules')\n",
    "from FSC import GenerationDiscreteObs as FSC_DiscreteObs\n",
    "from FSC import InferenceDiscreteObs as FSC_InferenceDiscreteObs\n",
    "from FSC_DoubleGrad import InferenceDiscreteObs as FSC_DoubleGrad_InferenceDiscreteObs\n",
    "import ObsModels "
   ]
  },
  {
   "cell_type": "code",
   "execution_count": 3,
   "metadata": {},
   "outputs": [],
   "source": [
    "# set matplotlib font to avenir\n",
    "plt.rcParams['font.family'] = 'sans-serif'\n",
    "plt.rcParams['font.sans-serif'] = 'Avenir'"
   ]
  },
  {
   "cell_type": "markdown",
   "metadata": {},
   "source": [
    "# Finite State Controller with $M = 2$, $A = 2$, $Y = 2$"
   ]
  },
  {
   "cell_type": "markdown",
   "metadata": {},
   "source": [
    "# Observations, one step"
   ]
  },
  {
   "cell_type": "code",
   "execution_count": 4,
   "metadata": {},
   "outputs": [],
   "source": [
    "NStepsObs = 1\n",
    "NTraj = 500\n",
    "Y = 2\n",
    "RateMatrixObs = np.ones((Y,Y))\n",
    "RateMatrixObs = RateMatrixObs + 2*np.eye(Y)\n",
    "\n",
    "observations = ObsModels.DiscreteMarkovChain(NTraj, NStepsObs, RateMatrixObs, initial_seed = 0)"
   ]
  },
  {
   "cell_type": "code",
   "execution_count": 5,
   "metadata": {},
   "outputs": [
    {
     "name": "stdout",
     "output_type": "stream",
     "text": [
      "Initializing FSC with 2 memory states, 2 actions, and 2 observations.\n"
     ]
    }
   ],
   "source": [
    "M = 2\n",
    "A = 2\n",
    "\n",
    "np.random.seed(0)\n",
    "Theta = np.random.randn(Y, M, M, A)\n",
    "\n",
    "Psi = np.array([1, 1])\n",
    "\n",
    "FSC = FSC_DiscreteObs(Theta, Psi, verbose = True)"
   ]
  },
  {
   "cell_type": "code",
   "execution_count": 6,
   "metadata": {},
   "outputs": [],
   "source": [
    "FSC.load_observations(observations)"
   ]
  },
  {
   "cell_type": "code",
   "execution_count": 7,
   "metadata": {},
   "outputs": [],
   "source": [
    "NSteps = NStepsObs\n",
    "trajectories = FSC.generate_trajectories(NSteps)\n",
    "Time = np.arange(NSteps)"
   ]
  },
  {
   "cell_type": "code",
   "execution_count": 8,
   "metadata": {},
   "outputs": [
    {
     "data": {
      "image/png": "[encoded data removed]",
      "text/plain": [
       "<Figure size 600x300 with 1 Axes>"
      ]
     },
     "metadata": {},
     "output_type": "display_data"
    }
   ],
   "source": [
    "initial_memories = np.array([tr[\"memories\"][0] for tr in trajectories])\n",
    "\n",
    "fig, ax = plt.subplots(1,1, figsize=(6,3))\n",
    "\n",
    "h, bins_h = np.histogram(initial_memories.flatten(), bins = np.arange(-0.5, M+0.5, 1))\n",
    "h = h/np.sum(h)\n",
    "bins_h = (bins_h[1:] + bins_h[:-1])/2\n",
    "\n",
    "ax.bar(bins_h, h, width = 0.8, color = 'dimgray', alpha = 0.5)\n",
    "\n",
    "ax.set_xlabel('Initial Memories')\n",
    "ax.set_ylabel('Frequency')\n",
    "\n",
    "ax.set_xticks(np.arange(0, M, 1))\n",
    "\n",
    "ax.set_title('Initial memory distribution of the trajectories')\n",
    "\n",
    "plt.show()"
   ]
  },
  {
   "cell_type": "code",
   "execution_count": 10,
   "metadata": {},
   "outputs": [
    {
     "data": {
      "text/plain": [
       "0.4169199915511197"
      ]
     },
     "execution_count": 10,
     "metadata": {},
     "output_type": "execute_result"
    }
   ],
   "source": [
    "FSC.evaluate_nloglikelihood(trajectories[0])"
   ]
  },
  {
   "cell_type": "markdown",
   "metadata": {},
   "source": [
    "### Inference (gradient-based)"
   ]
  },
  {
   "cell_type": "code",
   "execution_count": 33,
   "metadata": {},
   "outputs": [
    {
     "data": {
      "text/plain": [
       "tensor(0.6199, device='mps:0', grad_fn=<SubBackward0>)"
      ]
     },
     "execution_count": 33,
     "metadata": {},
     "output_type": "execute_result"
    }
   ],
   "source": [
    "FSC_tofit = FSC_InferenceDiscreteObs(M, A, Y, seed = 123)\n",
    "FSC_tofit.load_theta(Theta.astype(np.float32))\n",
    "FSC_tofit.load_trajectories(trajectories)\n",
    "FSC_tofit.evaluate_nloglikelihood(idx_traj = 0)"
   ]
  },
  {
   "cell_type": "code",
   "execution_count": 34,
   "metadata": {},
   "outputs": [],
   "source": [
    "psi_pre_fit = FSC_tofit.psi.detach().cpu().numpy()\n",
    "rho_pre_fit = FSC_tofit.rho.detach().cpu().numpy()"
   ]
  },
  {
   "cell_type": "code",
   "execution_count": 35,
   "metadata": {},
   "outputs": [],
   "source": [
    "MSE = FSC_tofit.optimize_psionly(maxiter = 5000, th = 1e-15)"
   ]
  },
  {
   "cell_type": "code",
   "execution_count": 36,
   "metadata": {},
   "outputs": [
    {
     "data": {
      "text/plain": [
       "9.420554752102651e-16"
      ]
     },
     "execution_count": 36,
     "metadata": {},
     "output_type": "execute_result"
    }
   ],
   "source": [
    "MSE"
   ]
  },
  {
   "cell_type": "markdown",
   "metadata": {},
   "source": [
    "### Inference (SGD)"
   ]
  },
  {
   "cell_type": "code",
   "execution_count": 20,
   "metadata": {},
   "outputs": [
    {
     "data": {
      "text/plain": [
       "tensor(0.1349, device='mps:0', grad_fn=<SubBackward0>)"
      ]
     },
     "execution_count": 20,
     "metadata": {},
     "output_type": "execute_result"
    }
   ],
   "source": [
    "FSC_SDG = FSC_DoubleGrad_InferenceDiscreteObs(M, A, Y, seed = 1234)\n",
    "FSC_SDG.load_theta(Theta.astype(np.float32))\n",
    "FSC_SDG.load_trajectories(trajectories)\n",
    "FSC_SDG.evaluate_nloglikelihood(idx_traj = 0)"
   ]
  },
  {
   "cell_type": "code",
   "execution_count": 21,
   "metadata": {},
   "outputs": [],
   "source": [
    "psi_pre_fit_SDG = FSC_SDG.psi.detach().cpu().numpy()\n",
    "rho_pre_fit_SDG = FSC_SDG.rho.detach().cpu().numpy()"
   ]
  },
  {
   "cell_type": "code",
   "execution_count": 22,
   "metadata": {},
   "outputs": [
    {
     "name": "stdout",
     "output_type": "stream",
     "text": [
      "Training with 400 trajectories and validating with 100 trajectories.\n",
      "Epoch 1 - Training loss: 0.7378512001037598, Validation loss: 0.703638950586319 - Learning rate: 0.1\n",
      "Epoch 2 - Training loss: 0.729046859741211, Validation loss: 0.6944243063032627 - Learning rate: 0.09000000000000001\n",
      "Epoch 3 - Training loss: 0.7145250129699707, Validation loss: 0.6810075579583645 - Learning rate: 0.08100000000000002\n",
      "Epoch 4 - Training loss: 0.6968920516967773, Validation loss: 0.6649319723248481 - Learning rate: 0.07290000000000002\n",
      "Epoch 5 - Training loss: 0.6790768051147461, Validation loss: 0.6510684940218926 - Learning rate: 0.06561000000000002\n",
      "Epoch 6 - Training loss: 0.6637708759307862, Validation loss: 0.644335944056511 - Learning rate: 0.05904900000000002\n",
      "Epoch 7 - Training loss: 0.6591658210754394, Validation loss: 0.6441046899557114 - Learning rate: 0.05314410000000002\n",
      "Epoch 8 - Training loss: 0.6587911796569824, Validation loss: 0.6469445270299912 - Learning rate: 0.04782969000000002\n",
      "Epoch 9 - Training loss: 0.6593130493164062, Validation loss: 0.6482487288117409 - Learning rate: 0.043046721000000024\n",
      "Epoch 10 - Training loss: 0.6598844242095947, Validation loss: 0.6486664113402366 - Learning rate: 0.03874204890000002\n",
      "Epoch 11 - Training loss: 0.6597236061096192, Validation loss: 0.6481752061843872 - Learning rate: 0.03486784401000002\n",
      "Epoch 12 - Training loss: 0.659608564376831, Validation loss: 0.6467438605427742 - Learning rate: 0.03138105960900001\n",
      "Epoch 13 - Training loss: 0.658620138168335, Validation loss: 0.6460453924536705 - Learning rate: 0.028242953648100012\n",
      "Epoch 14 - Training loss: 0.658524751663208, Validation loss: 0.6453127133846283 - Learning rate: 0.025418658283290013\n",
      "Epoch 15 - Training loss: 0.6584258270263672, Validation loss: 0.6447913604974747 - Learning rate: 0.022876792454961013\n",
      "Epoch 16 - Training loss: 0.6582644271850586, Validation loss: 0.6445355069637299 - Learning rate: 0.020589113209464913\n",
      "Epoch 17 - Training loss: 0.6582626914978027, Validation loss: 0.6444890755414963 - Learning rate: 0.01853020188851842\n",
      "Epoch 18 - Training loss: 0.6582595252990722, Validation loss: 0.6444144770503044 - Learning rate: 0.01667718169966658\n",
      "Epoch 19 - Training loss: 0.6582577514648438, Validation loss: 0.6443511253595352 - Learning rate: 0.015009463529699923\n",
      "Epoch 20 - Training loss: 0.6583098697662354, Validation loss: 0.6442794317007065 - Learning rate: 0.013508517176729932\n",
      "Epoch 21 - Training loss: 0.6583159542083741, Validation loss: 0.6443044501543045 - Learning rate: 0.01215766545905694\n",
      "Epoch 22 - Training loss: 0.6583159446716309, Validation loss: 0.6442513990402222 - Learning rate: 0.010941898913151246\n",
      "Epoch 23 - Training loss: 0.6582907104492188, Validation loss: 0.6442632949352265 - Learning rate: 0.009847709021836121\n",
      "Epoch 24 - Training loss: 0.6583109760284424, Validation loss: 0.644248480796814 - Learning rate: 0.00886293811965251\n",
      "Epoch 25 - Training loss: 0.6582891178131104, Validation loss: 0.644304195344448 - Learning rate: 0.007976644307687259\n",
      "Epoch 26 - Training loss: 0.6582757663726806, Validation loss: 0.6443373012542725 - Learning rate: 0.007178979876918534\n",
      "Epoch 27 - Training loss: 0.6582800674438477, Validation loss: 0.6443228337168694 - Learning rate: 0.006461081889226681\n",
      "Epoch 28 - Training loss: 0.6582637405395508, Validation loss: 0.6443380388617516 - Learning rate: 0.005814973700304013\n",
      "Epoch 29 - Training loss: 0.658291540145874, Validation loss: 0.6443842473626137 - Learning rate: 0.005233476330273611\n",
      "Epoch 30 - Training loss: 0.6583047676086426, Validation loss: 0.6444236940145492 - Learning rate: 0.00471012869724625\n",
      "Epoch 31 - Training loss: 0.6582711029052735, Validation loss: 0.6444100648164749 - Learning rate: 0.004239115827521626\n",
      "Epoch 32 - Training loss: 0.6582661628723144, Validation loss: 0.6444222143292427 - Learning rate: 0.0038152042447694634\n",
      "Epoch 33 - Training loss: 0.6582655334472656, Validation loss: 0.6444134694337845 - Learning rate: 0.003433683820292517\n",
      "Epoch 34 - Training loss: 0.6582743644714355, Validation loss: 0.6443983820080758 - Learning rate: 0.0030903154382632653\n",
      "Epoch 35 - Training loss: 0.658276252746582, Validation loss: 0.6444216725230217 - Learning rate: 0.002781283894436939\n",
      "Epoch 36 - Training loss: 0.6582614231109619, Validation loss: 0.6444257193803787 - Learning rate: 0.002503155504993245\n",
      "Epoch 37 - Training loss: 0.6582637977600098, Validation loss: 0.6444330701231956 - Learning rate: 0.0022528399544939205\n",
      "Epoch 38 - Training loss: 0.6582614135742187, Validation loss: 0.6444276666641235 - Learning rate: 0.0020275559590445286\n",
      "Epoch 39 - Training loss: 0.6582676219940184, Validation loss: 0.6444200596213341 - Learning rate: 0.0018248003631400759\n",
      "Epoch 40 - Training loss: 0.6582634735107421, Validation loss: 0.6444161230325699 - Learning rate: 0.0016423203268260682\n",
      "Best validation loss: 0.6441046899557114 reached at epoch 7\n"
     ]
    }
   ],
   "source": [
    "tloss, vloss = FSC_SDG.optimize_psionly(NEpochs = 40, NBatch = 100, lr = 0.1, gamma = 0.9)"
   ]
  },
  {
   "cell_type": "markdown",
   "metadata": {},
   "source": [
    "### Comparison"
   ]
  },
  {
   "cell_type": "code",
   "execution_count": 39,
   "metadata": {},
   "outputs": [
    {
     "data": {
      "image/png": "[encoded data removed]",
      "text/plain": [
       "<Figure size 700x400 with 1 Axes>"
      ]
     },
     "metadata": {},
     "output_type": "display_data"
    }
   ],
   "source": [
    "fig, ax = plt.subplots(1,1, figsize=(7,4))\n",
    "ax.bar(bins_h, h, color = \"dimgray\", alpha = 0.5, label = \"True\")\n",
    "\n",
    "ax.scatter(np.arange(M), FSC_SDG.rho.detach().cpu(), color = \"darkred\", marker = \"D\", s = 50, label = \"Inferred SDG\", alpha = 0.5)\n",
    "ax.scatter(np.arange(M), rho_pre_fit_SDG, color = \"darkred\", marker = \"x\", s = 50, label = \"Pre-fit SDG\", alpha = 0.5)\n",
    "\n",
    "ax.scatter(np.arange(M), FSC_tofit.rho.cpu(), color = \"black\", marker = \"D\", s = 50, label = \"Inferred\")\n",
    "ax.scatter(np.arange(M), rho_pre_fit, color = \"black\", marker = \"x\", s = 50, label = \"Pre-fit\")\n",
    "\n",
    "\n",
    "ax.set_xlabel(\"$m$\", fontsize = 15)\n",
    "ax.set_ylabel(\"$\\\\rho_m$\", fontsize = 15)\n",
    "\n",
    "ax.tick_params(axis='both', which='major', labelsize=12)\n",
    "\n",
    "plt.legend(fontsize = 14, bbox_to_anchor=(1.05, 1), loc='upper left')\n",
    "\n",
    "plt.show()"
   ]
  },
  {
   "cell_type": "markdown",
   "metadata": {},
   "source": [
    "# Finite State Controller with $M = 2$, $A = 2$, $Y = 5$"
   ]
  },
  {
   "cell_type": "markdown",
   "metadata": {},
   "source": [
    "# Observations, one step"
   ]
  },
  {
   "cell_type": "code",
   "execution_count": 40,
   "metadata": {},
   "outputs": [],
   "source": [
    "NStepsObs = 1\n",
    "NTraj = 500\n",
    "Y = 5\n",
    "RateMatrixObs = np.ones((Y,Y))\n",
    "RateMatrixObs = RateMatrixObs + 2*np.eye(Y)\n",
    "\n",
    "observations = ObsModels.DiscreteMarkovChain(NTraj, NStepsObs, RateMatrixObs, initial_seed = 0)"
   ]
  },
  {
   "cell_type": "code",
   "execution_count": 41,
   "metadata": {},
   "outputs": [
    {
     "name": "stdout",
     "output_type": "stream",
     "text": [
      "Initializing FSC with 2 memory states, 2 actions, and 5 observations.\n"
     ]
    }
   ],
   "source": [
    "M = 2\n",
    "A = 2\n",
    "\n",
    "np.random.seed(9)\n",
    "Theta = np.random.randn(Y, M, M, A)\n",
    "\n",
    "Psi = np.array([1.25, 1])\n",
    "\n",
    "FSC = FSC_DiscreteObs(Theta, Psi, verbose = True)"
   ]
  },
  {
   "cell_type": "code",
   "execution_count": 42,
   "metadata": {},
   "outputs": [],
   "source": [
    "FSC.load_observations(observations)"
   ]
  },
  {
   "cell_type": "code",
   "execution_count": 43,
   "metadata": {},
   "outputs": [],
   "source": [
    "NSteps = NStepsObs\n",
    "trajectories = FSC.generate_trajectories(NSteps)\n",
    "Time = np.arange(NSteps)"
   ]
  },
  {
   "cell_type": "code",
   "execution_count": 44,
   "metadata": {},
   "outputs": [
    {
     "data": {
      "image/png": "[encoded data removed]",
      "text/plain": [
       "<Figure size 600x300 with 1 Axes>"
      ]
     },
     "metadata": {},
     "output_type": "display_data"
    }
   ],
   "source": [
    "initial_memories = np.array([tr[\"memories\"][0] for tr in trajectories])\n",
    "\n",
    "fig, ax = plt.subplots(1,1, figsize=(6,3))\n",
    "\n",
    "h, bins_h = np.histogram(initial_memories.flatten(), bins = np.arange(-0.5, M+0.5, 1))\n",
    "h = h/np.sum(h)\n",
    "bins_h = (bins_h[1:] + bins_h[:-1])/2\n",
    "\n",
    "ax.bar(bins_h, h, width = 0.8, color = 'dimgray', alpha = 0.5)\n",
    "\n",
    "ax.set_xlabel('Initial Memories')\n",
    "ax.set_ylabel('Frequency')\n",
    "\n",
    "ax.set_xticks(np.arange(0, M, 1))\n",
    "\n",
    "ax.set_title('Initial memory distribution of the trajectories')\n",
    "\n",
    "plt.show()"
   ]
  },
  {
   "cell_type": "code",
   "execution_count": 45,
   "metadata": {},
   "outputs": [
    {
     "data": {
      "text/plain": [
       "0.5221538198822843"
      ]
     },
     "execution_count": 45,
     "metadata": {},
     "output_type": "execute_result"
    }
   ],
   "source": [
    "FSC.evaluate_nloglikelihood(trajectories[0])"
   ]
  },
  {
   "cell_type": "markdown",
   "metadata": {},
   "source": [
    "### Inference (gradient-based)"
   ]
  },
  {
   "cell_type": "code",
   "execution_count": 46,
   "metadata": {},
   "outputs": [
    {
     "data": {
      "text/plain": [
       "tensor(0.4661, device='mps:0', grad_fn=<SubBackward0>)"
      ]
     },
     "execution_count": 46,
     "metadata": {},
     "output_type": "execute_result"
    }
   ],
   "source": [
    "FSC_tofit = FSC_InferenceDiscreteObs(M, A, Y, seed = 123)\n",
    "FSC_tofit.load_theta(Theta.astype(np.float32))\n",
    "FSC_tofit.load_trajectories(trajectories)\n",
    "FSC_tofit.evaluate_nloglikelihood(idx_traj = 0)"
   ]
  },
  {
   "cell_type": "code",
   "execution_count": 47,
   "metadata": {},
   "outputs": [],
   "source": [
    "psi_pre_fit = FSC_tofit.psi.detach().cpu().numpy()\n",
    "rho_pre_fit = FSC_tofit.rho.detach().cpu().numpy()"
   ]
  },
  {
   "cell_type": "code",
   "execution_count": 48,
   "metadata": {},
   "outputs": [],
   "source": [
    "MSE = FSC_tofit.optimize_psionly(maxiter = 5000, th = 1e-15)"
   ]
  },
  {
   "cell_type": "code",
   "execution_count": 49,
   "metadata": {},
   "outputs": [
    {
     "data": {
      "text/plain": [
       "9.820925191391734e-16"
      ]
     },
     "execution_count": 49,
     "metadata": {},
     "output_type": "execute_result"
    }
   ],
   "source": [
    "MSE"
   ]
  },
  {
   "cell_type": "markdown",
   "metadata": {},
   "source": [
    "### Inference (SGD)"
   ]
  },
  {
   "cell_type": "code",
   "execution_count": 50,
   "metadata": {},
   "outputs": [
    {
     "data": {
      "text/plain": [
       "tensor(0.6837, device='mps:0', grad_fn=<SubBackward0>)"
      ]
     },
     "execution_count": 50,
     "metadata": {},
     "output_type": "execute_result"
    }
   ],
   "source": [
    "FSC_SDG = FSC_DoubleGrad_InferenceDiscreteObs(M, A, Y, seed = 1234)\n",
    "FSC_SDG.load_theta(Theta.astype(np.float32))\n",
    "FSC_SDG.load_trajectories(trajectories)\n",
    "FSC_SDG.evaluate_nloglikelihood(idx_traj = 0)"
   ]
  },
  {
   "cell_type": "code",
   "execution_count": 51,
   "metadata": {},
   "outputs": [],
   "source": [
    "psi_pre_fit_SDG = FSC_SDG.psi.detach().cpu().numpy()\n",
    "rho_pre_fit_SDG = FSC_SDG.rho.detach().cpu().numpy()"
   ]
  },
  {
   "cell_type": "code",
   "execution_count": 52,
   "metadata": {},
   "outputs": [
    {
     "name": "stdout",
     "output_type": "stream",
     "text": [
      "Training with 400 trajectories and validating with 100 trajectories.\n",
      "Epoch 1 - Training loss: 0.7288150787353516, Validation loss: 0.6865974687039852 - Learning rate: 0.1\n",
      "Epoch 2 - Training loss: 0.7235526084899903, Validation loss: 0.6826803162693977 - Learning rate: 0.09000000000000001\n",
      "Epoch 3 - Training loss: 0.7151800346374513, Validation loss: 0.6770430912077426 - Learning rate: 0.08100000000000002\n",
      "Epoch 4 - Training loss: 0.7052282714843751, Validation loss: 0.6702428229153157 - Learning rate: 0.07290000000000002\n",
      "Epoch 5 - Training loss: 0.6911764907836915, Validation loss: 0.6637800645828247 - Learning rate: 0.06561000000000002\n",
      "Epoch 6 - Training loss: 0.6824528121948242, Validation loss: 0.6592995211482048 - Learning rate: 0.05904900000000002\n",
      "Epoch 7 - Training loss: 0.6759901618957519, Validation loss: 0.6580158185958862 - Learning rate: 0.05314410000000002\n",
      "Epoch 8 - Training loss: 0.6720133590698242, Validation loss: 0.6585991352796554 - Learning rate: 0.04782969000000002\n",
      "Epoch 9 - Training loss: 0.6728965568542481, Validation loss: 0.6599396774172783 - Learning rate: 0.043046721000000024\n",
      "Epoch 10 - Training loss: 0.6723819541931152, Validation loss: 0.6606631517410279 - Learning rate: 0.03874204890000002\n",
      "Epoch 11 - Training loss: 0.6725399208068847, Validation loss: 0.6608547720313073 - Learning rate: 0.03486784401000002\n",
      "Epoch 12 - Training loss: 0.6725949668884277, Validation loss: 0.6608945494890213 - Learning rate: 0.03138105960900001\n",
      "Epoch 13 - Training loss: 0.6725955200195313, Validation loss: 0.6607399427890778 - Learning rate: 0.028242953648100012\n",
      "Epoch 14 - Training loss: 0.6724992370605469, Validation loss: 0.6606744223833084 - Learning rate: 0.025418658283290013\n",
      "Epoch 15 - Training loss: 0.6726859664916991, Validation loss: 0.6602962249517441 - Learning rate: 0.022876792454961013\n",
      "Epoch 16 - Training loss: 0.67233473777771, Validation loss: 0.6602090913057327 - Learning rate: 0.020589113209464913\n",
      "Epoch 17 - Training loss: 0.6723750114440918, Validation loss: 0.6599884733557702 - Learning rate: 0.01853020188851842\n",
      "Epoch 18 - Training loss: 0.6723715782165527, Validation loss: 0.6598118385672569 - Learning rate: 0.01667718169966658\n",
      "Epoch 19 - Training loss: 0.6723260116577149, Validation loss: 0.659665924012661 - Learning rate: 0.015009463529699923\n",
      "Epoch 20 - Training loss: 0.6722130393981933, Validation loss: 0.6596427017450333 - Learning rate: 0.013508517176729932\n",
      "Epoch 21 - Training loss: 0.6722196960449218, Validation loss: 0.6595811802148819 - Learning rate: 0.01215766545905694\n",
      "Epoch 22 - Training loss: 0.6721987342834472, Validation loss: 0.6595659402012825 - Learning rate: 0.010941898913151246\n",
      "Epoch 23 - Training loss: 0.6722108459472657, Validation loss: 0.6595556724071503 - Learning rate: 0.009847709021836121\n",
      "Epoch 24 - Training loss: 0.6722304916381836, Validation loss: 0.6594951927661896 - Learning rate: 0.00886293811965251\n",
      "Epoch 25 - Training loss: 0.6722033309936524, Validation loss: 0.6595101517438888 - Learning rate: 0.007976644307687259\n",
      "Epoch 26 - Training loss: 0.6722019195556641, Validation loss: 0.6594726949930191 - Learning rate: 0.007178979876918534\n",
      "Epoch 27 - Training loss: 0.6722093200683594, Validation loss: 0.6594927555322647 - Learning rate: 0.006461081889226681\n",
      "Epoch 28 - Training loss: 0.6721887588500977, Validation loss: 0.6594810089468957 - Learning rate: 0.005814973700304013\n",
      "Epoch 29 - Training loss: 0.6722183227539062, Validation loss: 0.6594917297363281 - Learning rate: 0.005233476330273611\n",
      "Epoch 30 - Training loss: 0.6721891021728515, Validation loss: 0.6594746482372283 - Learning rate: 0.00471012869724625\n",
      "Epoch 31 - Training loss: 0.6721954727172852, Validation loss: 0.6594487732648849 - Learning rate: 0.004239115827521626\n",
      "Epoch 32 - Training loss: 0.6721965026855469, Validation loss: 0.6594540047645568 - Learning rate: 0.0038152042447694634\n",
      "Epoch 33 - Training loss: 0.6721923828125, Validation loss: 0.6594380378723145 - Learning rate: 0.003433683820292517\n",
      "Epoch 34 - Training loss: 0.6721892547607422, Validation loss: 0.6594289204478264 - Learning rate: 0.0030903154382632653\n",
      "Epoch 35 - Training loss: 0.6721874046325683, Validation loss: 0.6594227647781372 - Learning rate: 0.002781283894436939\n",
      "Epoch 36 - Training loss: 0.6721895599365234, Validation loss: 0.6594105398654938 - Learning rate: 0.002503155504993245\n",
      "Epoch 37 - Training loss: 0.6721854019165039, Validation loss: 0.6594087356328964 - Learning rate: 0.0022528399544939205\n",
      "Epoch 38 - Training loss: 0.6721858596801757, Validation loss: 0.6594067093729973 - Learning rate: 0.0020275559590445286\n",
      "Epoch 39 - Training loss: 0.672187728881836, Validation loss: 0.6593999016284943 - Learning rate: 0.0018248003631400759\n",
      "Epoch 40 - Training loss: 0.6721891975402832, Validation loss: 0.6594008812308312 - Learning rate: 0.0016423203268260682\n",
      "Best validation loss: 0.6580158185958862 reached at epoch 7\n"
     ]
    }
   ],
   "source": [
    "tloss, vloss = FSC_SDG.optimize_psionly(NEpochs = 40, NBatch = 100, lr = 0.1, gamma = 0.9)"
   ]
  },
  {
   "cell_type": "markdown",
   "metadata": {},
   "source": [
    "### Comparison"
   ]
  },
  {
   "cell_type": "code",
   "execution_count": 53,
   "metadata": {},
   "outputs": [
    {
     "data": {
      "image/png": "[encoded data removed]",
      "text/plain": [
       "<Figure size 700x400 with 1 Axes>"
      ]
     },
     "metadata": {},
     "output_type": "display_data"
    }
   ],
   "source": [
    "fig, ax = plt.subplots(1,1, figsize=(7,4))\n",
    "ax.bar(bins_h, h, color = \"dimgray\", alpha = 0.5, label = \"True\")\n",
    "\n",
    "ax.scatter(np.arange(M), FSC_SDG.rho.detach().cpu(), color = \"darkred\", marker = \"D\", s = 50, label = \"Inferred SDG\", alpha = 0.5)\n",
    "ax.scatter(np.arange(M), rho_pre_fit_SDG, color = \"darkred\", marker = \"x\", s = 50, label = \"Pre-fit SDG\", alpha = 0.5)\n",
    "\n",
    "ax.scatter(np.arange(M), FSC_tofit.rho.cpu(), color = \"black\", marker = \"D\", s = 50, label = \"Inferred\")\n",
    "ax.scatter(np.arange(M), rho_pre_fit, color = \"black\", marker = \"x\", s = 50, label = \"Pre-fit\")\n",
    "\n",
    "\n",
    "ax.set_xlabel(\"$m$\", fontsize = 15)\n",
    "ax.set_ylabel(\"$\\\\rho_m$\", fontsize = 15)\n",
    "\n",
    "ax.tick_params(axis='both', which='major', labelsize=12)\n",
    "\n",
    "plt.legend(fontsize = 14, bbox_to_anchor=(1.05, 1), loc='upper left')\n",
    "\n",
    "plt.show()"
   ]
  },
  {
   "cell_type": "markdown",
   "metadata": {},
   "source": [
    "# Finite State Controller with $M = 6$, $A = 2$, $Y = 2$"
   ]
  },
  {
   "cell_type": "markdown",
   "metadata": {},
   "source": [
    "# Observations, one step"
   ]
  },
  {
   "cell_type": "code",
   "execution_count": 150,
   "metadata": {},
   "outputs": [],
   "source": [
    "NStepsObs = 1\n",
    "NTraj = 500\n",
    "Y = 2\n",
    "RateMatrixObs = np.ones((Y,Y))\n",
    "RateMatrixObs = RateMatrixObs + 2*np.eye(Y)\n",
    "\n",
    "observations = ObsModels.DiscreteMarkovChain(NTraj, NStepsObs, RateMatrixObs, initial_seed = 0)"
   ]
  },
  {
   "cell_type": "code",
   "execution_count": 151,
   "metadata": {},
   "outputs": [
    {
     "name": "stdout",
     "output_type": "stream",
     "text": [
      "Initializing FSC with 6 memory states, 2 actions, and 2 observations.\n"
     ]
    }
   ],
   "source": [
    "M = 6\n",
    "A = 2\n",
    "\n",
    "np.random.seed(6)\n",
    "Theta = np.random.randn(Y, M, M, A)\n",
    "\n",
    "np.random.seed(9)\n",
    "Psi = np.random.randn(M)\n",
    "\n",
    "FSC = FSC_DiscreteObs(Theta, Psi, verbose = True)"
   ]
  },
  {
   "cell_type": "code",
   "execution_count": 152,
   "metadata": {},
   "outputs": [],
   "source": [
    "FSC.load_observations(observations)"
   ]
  },
  {
   "cell_type": "code",
   "execution_count": 153,
   "metadata": {},
   "outputs": [],
   "source": [
    "NSteps = NStepsObs\n",
    "trajectories = FSC.generate_trajectories(NSteps)\n",
    "Time = np.arange(NSteps)"
   ]
  },
  {
   "cell_type": "code",
   "execution_count": 154,
   "metadata": {},
   "outputs": [
    {
     "data": {
      "image/png": "[encoded data removed]",
      "text/plain": [
       "<Figure size 600x300 with 1 Axes>"
      ]
     },
     "metadata": {},
     "output_type": "display_data"
    }
   ],
   "source": [
    "initial_memories = np.array([tr[\"memories\"][0] for tr in trajectories])\n",
    "\n",
    "fig, ax = plt.subplots(1,1, figsize=(6,3))\n",
    "\n",
    "h, bins_h = np.histogram(initial_memories.flatten(), bins = np.arange(-0.5, M+0.5, 1))\n",
    "h = h/np.sum(h)\n",
    "bins_h = (bins_h[1:] + bins_h[:-1])/2\n",
    "\n",
    "ax.bar(bins_h, h, width = 0.8, color = 'dimgray', alpha = 0.5)\n",
    "\n",
    "ax.set_xlabel('Initial Memories')\n",
    "ax.set_ylabel('Frequency')\n",
    "\n",
    "ax.set_xticks(np.arange(0, M, 1))\n",
    "\n",
    "ax.set_title('Initial memory distribution of the trajectories')\n",
    "\n",
    "plt.show()"
   ]
  },
  {
   "cell_type": "code",
   "execution_count": 155,
   "metadata": {},
   "outputs": [
    {
     "data": {
      "text/plain": [
       "0.5981997574758989"
      ]
     },
     "execution_count": 155,
     "metadata": {},
     "output_type": "execute_result"
    }
   ],
   "source": [
    "FSC.evaluate_nloglikelihood(trajectories[0])"
   ]
  },
  {
   "cell_type": "markdown",
   "metadata": {},
   "source": [
    "### Inference (gradient-based)"
   ]
  },
  {
   "cell_type": "code",
   "execution_count": 156,
   "metadata": {},
   "outputs": [
    {
     "data": {
      "text/plain": [
       "tensor(0.5254, device='mps:0', grad_fn=<SubBackward0>)"
      ]
     },
     "execution_count": 156,
     "metadata": {},
     "output_type": "execute_result"
    }
   ],
   "source": [
    "FSC_tofit = FSC_InferenceDiscreteObs(M, A, Y, seed = 123)\n",
    "FSC_tofit.load_theta(Theta.astype(np.float32))\n",
    "FSC_tofit.load_trajectories(trajectories)\n",
    "FSC_tofit.evaluate_nloglikelihood(idx_traj = 0)"
   ]
  },
  {
   "cell_type": "code",
   "execution_count": 157,
   "metadata": {},
   "outputs": [],
   "source": [
    "psi_pre_fit = FSC_tofit.psi.detach().cpu().numpy()\n",
    "rho_pre_fit = FSC_tofit.rho.detach().cpu().numpy()"
   ]
  },
  {
   "cell_type": "code",
   "execution_count": 158,
   "metadata": {},
   "outputs": [],
   "source": [
    "MSE = FSC_tofit.optimize_psionly(maxiter = 10000, th = 1e-15, rho0 = np.ones(M))"
   ]
  },
  {
   "cell_type": "code",
   "execution_count": 159,
   "metadata": {},
   "outputs": [
    {
     "data": {
      "text/plain": [
       "(0.0, tensor([0.1950, 0.1403, 0.1442, 0.2231, 0.1195, 0.1779], device='mps:0'))"
      ]
     },
     "execution_count": 159,
     "metadata": {},
     "output_type": "execute_result"
    }
   ],
   "source": [
    "MSE, FSC_tofit.rho"
   ]
  },
  {
   "cell_type": "code",
   "execution_count": 160,
   "metadata": {},
   "outputs": [],
   "source": [
    "import numba as nb\n",
    "\n",
    "@nb.njit\n",
    "def optimize_rho(TMat, pya, rhok, maxiter, th = 1e-6):\n",
    "\n",
    "    wVec = np.zeros((Y, A, M))\n",
    "    for y in range(Y):\n",
    "        for a in range(A):\n",
    "            for m in range(M):\n",
    "                wVec[y, a, m] = np.sum(TMat[y, m, :, a])\n",
    "\n",
    "    for _ in range(maxiter):\n",
    "        wsumexp_test_k = np.zeros((Y, A))\n",
    "        \n",
    "        for y in range(Y):\n",
    "            for a in range(A):\n",
    "                wsumexp_test_k[y, a] = np.sum(wVec[y, a] * rhok)\n",
    "        \n",
    "        grad = wVec * rhok / wsumexp_test_k[..., None]\n",
    "\n",
    "        rhok_new = np.zeros(M)\n",
    "\n",
    "        for y in range(Y):\n",
    "            for a in range(A):\n",
    "                rhok_new += pya[y, a] * grad[y, a]\n",
    "        \n",
    "        # if np.linalg.norm(rhok_new - rhok) < th:\n",
    "        #     break\n",
    "\n",
    "        rhok = rhok_new\n",
    "\n",
    "    return rhok"
   ]
  },
  {
   "cell_type": "code",
   "execution_count": 161,
   "metadata": {},
   "outputs": [
    {
     "data": {
      "text/plain": [
       "array([0.19496627, 0.14031046, 0.14420426, 0.22310752, 0.11948549,\n",
       "       0.177926  ])"
      ]
     },
     "execution_count": 161,
     "metadata": {},
     "output_type": "execute_result"
    }
   ],
   "source": [
    "optimize_rho(FSC_tofit.TMat.detach().cpu().numpy(), FSC_tofit.pStart_ya_emp, np.ones(M)/M, 20000)"
   ]
  },
  {
   "cell_type": "markdown",
   "metadata": {},
   "source": [
    "### Inference (SGD)"
   ]
  },
  {
   "cell_type": "code",
   "execution_count": 162,
   "metadata": {},
   "outputs": [
    {
     "data": {
      "text/plain": [
       "tensor(0.8348, device='mps:0', grad_fn=<SubBackward0>)"
      ]
     },
     "execution_count": 162,
     "metadata": {},
     "output_type": "execute_result"
    }
   ],
   "source": [
    "FSC_SDG = FSC_DoubleGrad_InferenceDiscreteObs(M, A, Y, seed = 1234)\n",
    "FSC_SDG.load_theta(Theta.astype(np.float32))\n",
    "FSC_SDG.load_trajectories(trajectories)\n",
    "FSC_SDG.evaluate_nloglikelihood(idx_traj = 0)"
   ]
  },
  {
   "cell_type": "code",
   "execution_count": 163,
   "metadata": {},
   "outputs": [],
   "source": [
    "psi_pre_fit_SDG = FSC_SDG.psi.detach().cpu().numpy()\n",
    "rho_pre_fit_SDG = FSC_SDG.rho.detach().cpu().numpy()"
   ]
  },
  {
   "cell_type": "code",
   "execution_count": 164,
   "metadata": {},
   "outputs": [
    {
     "name": "stdout",
     "output_type": "stream",
     "text": [
      "Training with 400 trajectories and validating with 100 trajectories.\n",
      "Epoch 1 - Training loss: 0.7099688148498535, Validation loss: 0.7184732788801194 - Learning rate: 0.01\n",
      "Epoch 2 - Training loss: 0.708406639099121, Validation loss: 0.7173652422428131 - Learning rate: 0.0099\n",
      "Epoch 3 - Training loss: 0.707091064453125, Validation loss: 0.7163313883543014 - Learning rate: 0.009801\n",
      "Epoch 4 - Training loss: 0.7055479049682617, Validation loss: 0.7153708365559578 - Learning rate: 0.00970299\n",
      "Epoch 5 - Training loss: 0.704248218536377, Validation loss: 0.7144844603538513 - Learning rate: 0.0096059601\n",
      "Epoch 6 - Training loss: 0.7031827354431153, Validation loss: 0.7136570635437965 - Learning rate: 0.009509900499\n",
      "Epoch 7 - Training loss: 0.7020216369628907, Validation loss: 0.7129070997238159 - Learning rate: 0.00941480149401\n",
      "Epoch 8 - Training loss: 0.7011734008789062, Validation loss: 0.7122107869386674 - Learning rate: 0.0093206534790699\n",
      "Epoch 9 - Training loss: 0.7002152061462402, Validation loss: 0.7115878492593766 - Learning rate: 0.0092274469442792\n",
      "Epoch 10 - Training loss: 0.699138069152832, Validation loss: 0.711037272810936 - Learning rate: 0.009135172474836408\n",
      "Best validation loss: 0.711037272810936 reached at epoch 10\n"
     ]
    }
   ],
   "source": [
    "tloss, vloss = FSC_SDG.optimize_psionly(NEpochs = 10, NBatch = 100, lr = 0.01, gamma = 0.99)"
   ]
  },
  {
   "cell_type": "markdown",
   "metadata": {},
   "source": [
    "### Comparison"
   ]
  },
  {
   "cell_type": "code",
   "execution_count": 165,
   "metadata": {},
   "outputs": [
    {
     "data": {
      "image/png": "[encoded data removed]",
      "text/plain": [
       "<Figure size 700x400 with 1 Axes>"
      ]
     },
     "metadata": {},
     "output_type": "display_data"
    }
   ],
   "source": [
    "fig, ax = plt.subplots(1,1, figsize=(7,4))\n",
    "ax.bar(bins_h, h, color = \"dimgray\", alpha = 0.5, label = \"True\")\n",
    "ax.scatter(np.arange(M), FSC.rho, color = \"dimgray\", marker = \"o\", s = 20, label = \"Original\")\n",
    "\n",
    "ax.scatter(np.arange(M), FSC_SDG.rho.detach().cpu(), color = \"darkred\", marker = \"D\", s = 50, label = \"Inferred SDG\", alpha = 0.5)\n",
    "#ax.scatter(np.arange(M), rho_pre_fit_SDG, color = \"darkred\", marker = \"x\", s = 50, label = \"Pre-fit SDG\", alpha = 0.5)\n",
    "\n",
    "ax.scatter(np.arange(M), FSC_tofit.rho.cpu(), color = \"black\", marker = \"D\", s = 50, label = \"Inferred\")\n",
    "#ax.scatter(np.arange(M), rho_pre_fit, color = \"black\", marker = \"x\", s = 50, label = \"Pre-fit\")\n",
    "\n",
    "ax.set_xlabel(\"$m$\", fontsize = 15)\n",
    "ax.set_ylabel(\"$\\\\rho_m$\", fontsize = 15)\n",
    "\n",
    "ax.tick_params(axis='both', which='major', labelsize=12)\n",
    "\n",
    "plt.legend(fontsize = 14, bbox_to_anchor=(1.05, 1), loc='upper left')\n",
    "\n",
    "plt.show()"
   ]
  },
  {
   "cell_type": "code",
   "execution_count": 166,
   "metadata": {},
   "outputs": [
    {
     "data": {
      "text/plain": [
       "0.701305176615715"
      ]
     },
     "execution_count": 166,
     "metadata": {},
     "output_type": "execute_result"
    }
   ],
   "source": [
    "wVec = FSC_tofit.TMat.detach().cpu().numpy().sum(axis = 2).transpose(0,2,1)\n",
    "\n",
    "-np.sum(FSC_tofit.pStart_ya_emp*np.log(np.sum((wVec*FSC_SDG.rho.detach().cpu().numpy()), axis = -1)))"
   ]
  },
  {
   "cell_type": "code",
   "execution_count": 167,
   "metadata": {},
   "outputs": [
    {
     "data": {
      "text/plain": [
       "0.6881254379749298"
      ]
     },
     "execution_count": 167,
     "metadata": {},
     "output_type": "execute_result"
    }
   ],
   "source": [
    "-np.sum(FSC_tofit.pStart_ya_emp*np.log(np.sum((wVec*FSC_tofit.rho.detach().cpu().numpy()), axis = -1)))"
   ]
  },
  {
   "cell_type": "code",
   "execution_count": 168,
   "metadata": {},
   "outputs": [
    {
     "data": {
      "text/plain": [
       "0.6884107400127863"
      ]
     },
     "execution_count": 168,
     "metadata": {},
     "output_type": "execute_result"
    }
   ],
   "source": [
    "-np.sum(FSC_tofit.pStart_ya_emp*np.log(np.sum((wVec*FSC.rho), axis = -1)))"
   ]
  },
  {
   "cell_type": "code",
   "execution_count": 169,
   "metadata": {},
   "outputs": [
    {
     "data": {
      "text/plain": [
       "0.6883623732011349"
      ]
     },
     "execution_count": 169,
     "metadata": {},
     "output_type": "execute_result"
    }
   ],
   "source": [
    "-np.sum(FSC_tofit.pStart_ya_emp*np.log(np.sum((wVec*h), axis = -1)))"
   ]
  },
  {
   "cell_type": "markdown",
   "metadata": {},
   "source": [
    "# Finite State Controller with $M = 6$, $A = 2$, $Y = 3$"
   ]
  },
  {
   "cell_type": "markdown",
   "metadata": {},
   "source": [
    "# Observations, one step"
   ]
  },
  {
   "cell_type": "code",
   "execution_count": 170,
   "metadata": {},
   "outputs": [],
   "source": [
    "NStepsObs = 1\n",
    "NTraj = 500\n",
    "Y = 3\n",
    "RateMatrixObs = np.ones((Y,Y))\n",
    "RateMatrixObs = RateMatrixObs + 2*np.eye(Y)\n",
    "\n",
    "observations = ObsModels.DiscreteMarkovChain(NTraj, NStepsObs, RateMatrixObs, initial_seed = 0)"
   ]
  },
  {
   "cell_type": "code",
   "execution_count": 171,
   "metadata": {},
   "outputs": [
    {
     "name": "stdout",
     "output_type": "stream",
     "text": [
      "Initializing FSC with 6 memory states, 2 actions, and 3 observations.\n"
     ]
    }
   ],
   "source": [
    "M = 6\n",
    "A = 2\n",
    "\n",
    "np.random.seed(6)\n",
    "Theta = np.random.randn(Y, M, M, A)\n",
    "\n",
    "np.random.seed(9)\n",
    "Psi = np.random.randn(M)\n",
    "\n",
    "FSC = FSC_DiscreteObs(Theta, Psi, verbose = True)"
   ]
  },
  {
   "cell_type": "code",
   "execution_count": 172,
   "metadata": {},
   "outputs": [],
   "source": [
    "FSC.load_observations(observations)"
   ]
  },
  {
   "cell_type": "code",
   "execution_count": 173,
   "metadata": {},
   "outputs": [],
   "source": [
    "NSteps = NStepsObs\n",
    "trajectories = FSC.generate_trajectories(NSteps)\n",
    "Time = np.arange(NSteps)"
   ]
  },
  {
   "cell_type": "code",
   "execution_count": 174,
   "metadata": {},
   "outputs": [
    {
     "data": {
      "image/png": "[encoded data removed]",
      "text/plain": [
       "<Figure size 600x300 with 1 Axes>"
      ]
     },
     "metadata": {},
     "output_type": "display_data"
    }
   ],
   "source": [
    "initial_memories = np.array([tr[\"memories\"][0] for tr in trajectories])\n",
    "\n",
    "fig, ax = plt.subplots(1,1, figsize=(6,3))\n",
    "\n",
    "h, bins_h = np.histogram(initial_memories.flatten(), bins = np.arange(-0.5, M+0.5, 1))\n",
    "h = h/np.sum(h)\n",
    "bins_h = (bins_h[1:] + bins_h[:-1])/2\n",
    "\n",
    "ax.bar(bins_h, h, width = 0.8, color = 'dimgray', alpha = 0.5)\n",
    "\n",
    "ax.set_xlabel('Initial Memories')\n",
    "ax.set_ylabel('Frequency')\n",
    "\n",
    "ax.set_xticks(np.arange(0, M, 1))\n",
    "\n",
    "ax.set_title('Initial memory distribution of the trajectories')\n",
    "\n",
    "plt.show()"
   ]
  },
  {
   "cell_type": "code",
   "execution_count": 175,
   "metadata": {},
   "outputs": [
    {
     "data": {
      "text/plain": [
       "0.7980645055243699"
      ]
     },
     "execution_count": 175,
     "metadata": {},
     "output_type": "execute_result"
    }
   ],
   "source": [
    "FSC.evaluate_nloglikelihood(trajectories[0])"
   ]
  },
  {
   "cell_type": "markdown",
   "metadata": {},
   "source": [
    "### Inference (gradient-based)"
   ]
  },
  {
   "cell_type": "code",
   "execution_count": 176,
   "metadata": {},
   "outputs": [
    {
     "data": {
      "text/plain": [
       "tensor(0.8948, device='mps:0', grad_fn=<SubBackward0>)"
      ]
     },
     "execution_count": 176,
     "metadata": {},
     "output_type": "execute_result"
    }
   ],
   "source": [
    "FSC_tofit = FSC_InferenceDiscreteObs(M, A, Y, seed = 123)\n",
    "FSC_tofit.load_theta(Theta.astype(np.float32))\n",
    "FSC_tofit.load_trajectories(trajectories)\n",
    "FSC_tofit.evaluate_nloglikelihood(idx_traj = 0)"
   ]
  },
  {
   "cell_type": "code",
   "execution_count": 177,
   "metadata": {},
   "outputs": [],
   "source": [
    "psi_pre_fit = FSC_tofit.psi.detach().cpu().numpy()\n",
    "rho_pre_fit = FSC_tofit.rho.detach().cpu().numpy()"
   ]
  },
  {
   "cell_type": "code",
   "execution_count": 178,
   "metadata": {},
   "outputs": [],
   "source": [
    "MSE = FSC_tofit.optimize_psionly(maxiter = 10000, th = 1e-15, rho0 = np.ones(M))"
   ]
  },
  {
   "cell_type": "code",
   "execution_count": 179,
   "metadata": {},
   "outputs": [
    {
     "data": {
      "text/plain": [
       "(0.0, tensor([0.2172, 0.1366, 0.1138, 0.2835, 0.0785, 0.1703], device='mps:0'))"
      ]
     },
     "execution_count": 179,
     "metadata": {},
     "output_type": "execute_result"
    }
   ],
   "source": [
    "MSE, FSC_tofit.rho"
   ]
  },
  {
   "cell_type": "code",
   "execution_count": 180,
   "metadata": {},
   "outputs": [],
   "source": [
    "import numba as nb\n",
    "\n",
    "@nb.njit\n",
    "def optimize_rho(TMat, pya, rhok, maxiter, th = 1e-6):\n",
    "\n",
    "    wVec = np.zeros((Y, A, M))\n",
    "    for y in range(Y):\n",
    "        for a in range(A):\n",
    "            for m in range(M):\n",
    "                wVec[y, a, m] = np.sum(TMat[y, m, :, a])\n",
    "\n",
    "    for _ in range(maxiter):\n",
    "        wsumexp_test_k = np.zeros((Y, A))\n",
    "        \n",
    "        for y in range(Y):\n",
    "            for a in range(A):\n",
    "                wsumexp_test_k[y, a] = np.sum(wVec[y, a] * rhok)\n",
    "        \n",
    "        grad = wVec * rhok / wsumexp_test_k[..., None]\n",
    "\n",
    "        rhok_new = np.zeros(M)\n",
    "\n",
    "        for y in range(Y):\n",
    "            for a in range(A):\n",
    "                rhok_new += pya[y, a] * grad[y, a]\n",
    "        \n",
    "        # if np.linalg.norm(rhok_new - rhok) < th:\n",
    "        #     break\n",
    "\n",
    "        rhok = rhok_new\n",
    "\n",
    "    return rhok"
   ]
  },
  {
   "cell_type": "code",
   "execution_count": 181,
   "metadata": {},
   "outputs": [
    {
     "data": {
      "text/plain": [
       "array([0.21718132, 0.13662035, 0.11386807, 0.28352913, 0.07845216,\n",
       "       0.17034898])"
      ]
     },
     "execution_count": 181,
     "metadata": {},
     "output_type": "execute_result"
    }
   ],
   "source": [
    "optimize_rho(FSC_tofit.TMat.detach().cpu().numpy(), FSC_tofit.pStart_ya_emp, np.ones(M)/M, 20000)"
   ]
  },
  {
   "cell_type": "markdown",
   "metadata": {},
   "source": [
    "### Inference (SGD)"
   ]
  },
  {
   "cell_type": "code",
   "execution_count": 182,
   "metadata": {},
   "outputs": [
    {
     "data": {
      "text/plain": [
       "tensor(0.5691, device='mps:0', grad_fn=<SubBackward0>)"
      ]
     },
     "execution_count": 182,
     "metadata": {},
     "output_type": "execute_result"
    }
   ],
   "source": [
    "FSC_SDG = FSC_DoubleGrad_InferenceDiscreteObs(M, A, Y, seed = 1234)\n",
    "FSC_SDG.load_theta(Theta.astype(np.float32))\n",
    "FSC_SDG.load_trajectories(trajectories)\n",
    "FSC_SDG.evaluate_nloglikelihood(idx_traj = 0)"
   ]
  },
  {
   "cell_type": "code",
   "execution_count": 183,
   "metadata": {},
   "outputs": [],
   "source": [
    "psi_pre_fit_SDG = FSC_SDG.psi.detach().cpu().numpy()\n",
    "rho_pre_fit_SDG = FSC_SDG.rho.detach().cpu().numpy()"
   ]
  },
  {
   "cell_type": "code",
   "execution_count": 184,
   "metadata": {},
   "outputs": [
    {
     "name": "stdout",
     "output_type": "stream",
     "text": [
      "Training with 400 trajectories and validating with 100 trajectories.\n",
      "Epoch 1 - Training loss: 0.7013351821899414, Validation loss: 0.6944920760393143 - Learning rate: 0.01\n",
      "Epoch 2 - Training loss: 0.700217685699463, Validation loss: 0.6940013402700425 - Learning rate: 0.0099\n",
      "Epoch 3 - Training loss: 0.6992858123779297, Validation loss: 0.6935277634859085 - Learning rate: 0.009801\n",
      "Epoch 4 - Training loss: 0.6983628654479981, Validation loss: 0.693076291680336 - Learning rate: 0.00970299\n",
      "Epoch 5 - Training loss: 0.6975474548339844, Validation loss: 0.6926543146371842 - Learning rate: 0.0096059601\n",
      "Epoch 6 - Training loss: 0.6966601753234863, Validation loss: 0.6922827845811844 - Learning rate: 0.009509900499\n",
      "Epoch 7 - Training loss: 0.6959753799438477, Validation loss: 0.6919435518980026 - Learning rate: 0.00941480149401\n",
      "Epoch 8 - Training loss: 0.6953107452392578, Validation loss: 0.6916382938623429 - Learning rate: 0.0093206534790699\n",
      "Epoch 9 - Training loss: 0.6945937919616699, Validation loss: 0.6913792538642883 - Learning rate: 0.0092274469442792\n",
      "Epoch 10 - Training loss: 0.6939702224731445, Validation loss: 0.6911501348018646 - Learning rate: 0.009135172474836408\n",
      "Best validation loss: 0.6911501348018646 reached at epoch 10\n"
     ]
    }
   ],
   "source": [
    "tloss, vloss = FSC_SDG.optimize_psionly(NEpochs = 10, NBatch = 100, lr = 0.01, gamma = 0.99)"
   ]
  },
  {
   "cell_type": "markdown",
   "metadata": {},
   "source": [
    "### Comparison"
   ]
  },
  {
   "cell_type": "code",
   "execution_count": 185,
   "metadata": {},
   "outputs": [
    {
     "data": {
      "image/png": "[encoded data removed]",
      "text/plain": [
       "<Figure size 700x400 with 1 Axes>"
      ]
     },
     "metadata": {},
     "output_type": "display_data"
    }
   ],
   "source": [
    "fig, ax = plt.subplots(1,1, figsize=(7,4))\n",
    "ax.bar(bins_h, h, color = \"dimgray\", alpha = 0.5, label = \"True\")\n",
    "ax.scatter(np.arange(M), FSC.rho, color = \"dimgray\", marker = \"o\", s = 20, label = \"Original\")\n",
    "\n",
    "ax.scatter(np.arange(M), FSC_SDG.rho.detach().cpu(), color = \"darkred\", marker = \"D\", s = 50, label = \"Inferred SDG\", alpha = 0.5)\n",
    "#ax.scatter(np.arange(M), rho_pre_fit_SDG, color = \"darkred\", marker = \"x\", s = 50, label = \"Pre-fit SDG\", alpha = 0.5)\n",
    "\n",
    "ax.scatter(np.arange(M), FSC_tofit.rho.cpu(), color = \"black\", marker = \"D\", s = 50, label = \"Inferred\")\n",
    "#ax.scatter(np.arange(M), rho_pre_fit, color = \"black\", marker = \"x\", s = 50, label = \"Pre-fit\")\n",
    "\n",
    "ax.set_xlabel(\"$m$\", fontsize = 15)\n",
    "ax.set_ylabel(\"$\\\\rho_m$\", fontsize = 15)\n",
    "\n",
    "ax.tick_params(axis='both', which='major', labelsize=12)\n",
    "\n",
    "plt.legend(fontsize = 14, bbox_to_anchor=(1.05, 1), loc='upper left')\n",
    "\n",
    "plt.show()"
   ]
  },
  {
   "cell_type": "code",
   "execution_count": 186,
   "metadata": {},
   "outputs": [
    {
     "data": {
      "text/plain": [
       "0.6931822967529297"
      ]
     },
     "execution_count": 186,
     "metadata": {},
     "output_type": "execute_result"
    }
   ],
   "source": [
    "wVec = FSC_tofit.TMat.detach().cpu().numpy().sum(axis = 2).transpose(0,2,1)\n",
    "\n",
    "-np.sum(FSC_tofit.pStart_ya_emp*np.log(np.sum((wVec*FSC_SDG.rho.detach().cpu().numpy()), axis = -1)))"
   ]
  },
  {
   "cell_type": "code",
   "execution_count": 187,
   "metadata": {},
   "outputs": [
    {
     "data": {
      "text/plain": [
       "0.6827931621074677"
      ]
     },
     "execution_count": 187,
     "metadata": {},
     "output_type": "execute_result"
    }
   ],
   "source": [
    "-np.sum(FSC_tofit.pStart_ya_emp*np.log(np.sum((wVec*FSC_tofit.rho.detach().cpu().numpy()), axis = -1)))"
   ]
  },
  {
   "cell_type": "code",
   "execution_count": 188,
   "metadata": {},
   "outputs": [
    {
     "data": {
      "text/plain": [
       "0.683383013883035"
      ]
     },
     "execution_count": 188,
     "metadata": {},
     "output_type": "execute_result"
    }
   ],
   "source": [
    "-np.sum(FSC_tofit.pStart_ya_emp*np.log(np.sum((wVec*FSC.rho), axis = -1)))"
   ]
  },
  {
   "cell_type": "code",
   "execution_count": 189,
   "metadata": {},
   "outputs": [
    {
     "data": {
      "text/plain": [
       "0.6831184679896867"
      ]
     },
     "execution_count": 189,
     "metadata": {},
     "output_type": "execute_result"
    }
   ],
   "source": [
    "-np.sum(FSC_tofit.pStart_ya_emp*np.log(np.sum((wVec*h), axis = -1)))"
   ]
  },
  {
   "cell_type": "markdown",
   "metadata": {},
   "source": [
    "# Finite State Controller with $M = 6$, $A = 2$, $Y = 4$"
   ]
  },
  {
   "cell_type": "markdown",
   "metadata": {},
   "source": [
    "# Observations, one step"
   ]
  },
  {
   "cell_type": "code",
   "execution_count": 190,
   "metadata": {},
   "outputs": [],
   "source": [
    "NStepsObs = 1\n",
    "NTraj = 500\n",
    "Y = 4\n",
    "RateMatrixObs = np.ones((Y,Y))\n",
    "RateMatrixObs = RateMatrixObs + 2*np.eye(Y)\n",
    "\n",
    "observations = ObsModels.DiscreteMarkovChain(NTraj, NStepsObs, RateMatrixObs, initial_seed = 0)"
   ]
  },
  {
   "cell_type": "code",
   "execution_count": 191,
   "metadata": {},
   "outputs": [
    {
     "name": "stdout",
     "output_type": "stream",
     "text": [
      "Initializing FSC with 6 memory states, 2 actions, and 4 observations.\n"
     ]
    }
   ],
   "source": [
    "M = 6\n",
    "A = 2\n",
    "\n",
    "np.random.seed(6)\n",
    "Theta = np.random.randn(Y, M, M, A)\n",
    "\n",
    "np.random.seed(9)\n",
    "Psi = np.random.randn(M)\n",
    "\n",
    "FSC = FSC_DiscreteObs(Theta, Psi, verbose = True)"
   ]
  },
  {
   "cell_type": "code",
   "execution_count": 192,
   "metadata": {},
   "outputs": [],
   "source": [
    "FSC.load_observations(observations)"
   ]
  },
  {
   "cell_type": "code",
   "execution_count": 193,
   "metadata": {},
   "outputs": [],
   "source": [
    "NSteps = NStepsObs\n",
    "trajectories = FSC.generate_trajectories(NSteps)\n",
    "Time = np.arange(NSteps)"
   ]
  },
  {
   "cell_type": "code",
   "execution_count": 194,
   "metadata": {},
   "outputs": [
    {
     "data": {
      "image/png": "[encoded data removed]",
      "text/plain": [
       "<Figure size 600x300 with 1 Axes>"
      ]
     },
     "metadata": {},
     "output_type": "display_data"
    }
   ],
   "source": [
    "initial_memories = np.array([tr[\"memories\"][0] for tr in trajectories])\n",
    "\n",
    "fig, ax = plt.subplots(1,1, figsize=(6,3))\n",
    "\n",
    "h, bins_h = np.histogram(initial_memories.flatten(), bins = np.arange(-0.5, M+0.5, 1))\n",
    "h = h/np.sum(h)\n",
    "bins_h = (bins_h[1:] + bins_h[:-1])/2\n",
    "\n",
    "ax.bar(bins_h, h, width = 0.8, color = 'dimgray', alpha = 0.5)\n",
    "\n",
    "ax.set_xlabel('Initial Memories')\n",
    "ax.set_ylabel('Frequency')\n",
    "\n",
    "ax.set_xticks(np.arange(0, M, 1))\n",
    "\n",
    "ax.set_title('Initial memory distribution of the trajectories')\n",
    "\n",
    "plt.show()"
   ]
  },
  {
   "cell_type": "code",
   "execution_count": 195,
   "metadata": {},
   "outputs": [
    {
     "data": {
      "text/plain": [
       "0.5981997574758989"
      ]
     },
     "execution_count": 195,
     "metadata": {},
     "output_type": "execute_result"
    }
   ],
   "source": [
    "FSC.evaluate_nloglikelihood(trajectories[0])"
   ]
  },
  {
   "cell_type": "markdown",
   "metadata": {},
   "source": [
    "### Inference (gradient-based)"
   ]
  },
  {
   "cell_type": "code",
   "execution_count": 196,
   "metadata": {},
   "outputs": [
    {
     "data": {
      "text/plain": [
       "tensor(0.5254, device='mps:0', grad_fn=<SubBackward0>)"
      ]
     },
     "execution_count": 196,
     "metadata": {},
     "output_type": "execute_result"
    }
   ],
   "source": [
    "FSC_tofit = FSC_InferenceDiscreteObs(M, A, Y, seed = 123)\n",
    "FSC_tofit.load_theta(Theta.astype(np.float32))\n",
    "FSC_tofit.load_trajectories(trajectories)\n",
    "FSC_tofit.evaluate_nloglikelihood(idx_traj = 0)"
   ]
  },
  {
   "cell_type": "code",
   "execution_count": 197,
   "metadata": {},
   "outputs": [],
   "source": [
    "psi_pre_fit = FSC_tofit.psi.detach().cpu().numpy()\n",
    "rho_pre_fit = FSC_tofit.rho.detach().cpu().numpy()"
   ]
  },
  {
   "cell_type": "code",
   "execution_count": 198,
   "metadata": {},
   "outputs": [],
   "source": [
    "MSE = FSC_tofit.optimize_psionly(maxiter = 10000, th = 1e-15, rho0 = np.ones(M))"
   ]
  },
  {
   "cell_type": "code",
   "execution_count": 199,
   "metadata": {},
   "outputs": [
    {
     "data": {
      "text/plain": [
       "(0.0,\n",
       " tensor([5.9270e-07, 2.5585e-01, 3.7239e-01, 2.8926e-01, 8.2447e-02, 5.4034e-05],\n",
       "        device='mps:0'))"
      ]
     },
     "execution_count": 199,
     "metadata": {},
     "output_type": "execute_result"
    }
   ],
   "source": [
    "MSE, FSC_tofit.rho"
   ]
  },
  {
   "cell_type": "code",
   "execution_count": 200,
   "metadata": {},
   "outputs": [],
   "source": [
    "import numba as nb\n",
    "\n",
    "@nb.njit\n",
    "def optimize_rho(TMat, pya, rhok, maxiter, th = 1e-6):\n",
    "\n",
    "    wVec = np.zeros((Y, A, M))\n",
    "    for y in range(Y):\n",
    "        for a in range(A):\n",
    "            for m in range(M):\n",
    "                wVec[y, a, m] = np.sum(TMat[y, m, :, a])\n",
    "\n",
    "    for _ in range(maxiter):\n",
    "        wsumexp_test_k = np.zeros((Y, A))\n",
    "        \n",
    "        for y in range(Y):\n",
    "            for a in range(A):\n",
    "                wsumexp_test_k[y, a] = np.sum(wVec[y, a] * rhok)\n",
    "        \n",
    "        grad = wVec * rhok / wsumexp_test_k[..., None]\n",
    "\n",
    "        rhok_new = np.zeros(M)\n",
    "\n",
    "        for y in range(Y):\n",
    "            for a in range(A):\n",
    "                rhok_new += pya[y, a] * grad[y, a]\n",
    "        \n",
    "        # if np.linalg.norm(rhok_new - rhok) < th:\n",
    "        #     break\n",
    "\n",
    "        rhok = rhok_new\n",
    "\n",
    "    return rhok"
   ]
  },
  {
   "cell_type": "code",
   "execution_count": 201,
   "metadata": {},
   "outputs": [
    {
     "data": {
      "text/plain": [
       "array([9.50016762e-11, 2.55837558e-01, 3.72390965e-01, 2.89277925e-01,\n",
       "       8.24931922e-02, 3.60248292e-07])"
      ]
     },
     "execution_count": 201,
     "metadata": {},
     "output_type": "execute_result"
    }
   ],
   "source": [
    "optimize_rho(FSC_tofit.TMat.detach().cpu().numpy(), FSC_tofit.pStart_ya_emp, np.ones(M)/M, 20000)"
   ]
  },
  {
   "cell_type": "markdown",
   "metadata": {},
   "source": [
    "### Inference (SGD)"
   ]
  },
  {
   "cell_type": "code",
   "execution_count": 202,
   "metadata": {},
   "outputs": [
    {
     "data": {
      "text/plain": [
       "tensor(0.8348, device='mps:0', grad_fn=<SubBackward0>)"
      ]
     },
     "execution_count": 202,
     "metadata": {},
     "output_type": "execute_result"
    }
   ],
   "source": [
    "FSC_SDG = FSC_DoubleGrad_InferenceDiscreteObs(M, A, Y, seed = 1234)\n",
    "FSC_SDG.load_theta(Theta.astype(np.float32))\n",
    "FSC_SDG.load_trajectories(trajectories)\n",
    "FSC_SDG.evaluate_nloglikelihood(idx_traj = 0)"
   ]
  },
  {
   "cell_type": "code",
   "execution_count": 203,
   "metadata": {},
   "outputs": [],
   "source": [
    "psi_pre_fit_SDG = FSC_SDG.psi.detach().cpu().numpy()\n",
    "rho_pre_fit_SDG = FSC_SDG.rho.detach().cpu().numpy()"
   ]
  },
  {
   "cell_type": "code",
   "execution_count": 204,
   "metadata": {},
   "outputs": [
    {
     "name": "stdout",
     "output_type": "stream",
     "text": [
      "Training with 400 trajectories and validating with 100 trajectories.\n",
      "Epoch 1 - Training loss: 0.7000306129455567, Validation loss: 0.7022619545459747 - Learning rate: 0.01\n",
      "Epoch 2 - Training loss: 0.699472427368164, Validation loss: 0.7015473288297653 - Learning rate: 0.0099\n",
      "Epoch 3 - Training loss: 0.6992158889770508, Validation loss: 0.7005934935808181 - Learning rate: 0.009801\n",
      "Epoch 4 - Training loss: 0.6988572311401366, Validation loss: 0.699663507938385 - Learning rate: 0.00970299\n",
      "Epoch 5 - Training loss: 0.6984522247314453, Validation loss: 0.6988573956489563 - Learning rate: 0.0096059601\n",
      "Epoch 6 - Training loss: 0.6981641960144043, Validation loss: 0.6980949121713639 - Learning rate: 0.009509900499\n",
      "Epoch 7 - Training loss: 0.6978999137878418, Validation loss: 0.6973442634940148 - Learning rate: 0.00941480149401\n",
      "Epoch 8 - Training loss: 0.6976179504394532, Validation loss: 0.6966225677728652 - Learning rate: 0.0093206534790699\n",
      "Epoch 9 - Training loss: 0.6973872375488281, Validation loss: 0.6959036642313003 - Learning rate: 0.0092274469442792\n",
      "Epoch 10 - Training loss: 0.6971529579162599, Validation loss: 0.6952110350131988 - Learning rate: 0.009135172474836408\n",
      "Best validation loss: 0.6952110350131988 reached at epoch 10\n"
     ]
    }
   ],
   "source": [
    "tloss, vloss = FSC_SDG.optimize_psionly(NEpochs = 10, NBatch = 100, lr = 0.01, gamma = 0.99)"
   ]
  },
  {
   "cell_type": "markdown",
   "metadata": {},
   "source": [
    "### Comparison"
   ]
  },
  {
   "cell_type": "code",
   "execution_count": 205,
   "metadata": {},
   "outputs": [
    {
     "data": {
      "image/png": "[encoded data removed]",
      "text/plain": [
       "<Figure size 700x400 with 1 Axes>"
      ]
     },
     "metadata": {},
     "output_type": "display_data"
    }
   ],
   "source": [
    "fig, ax = plt.subplots(1,1, figsize=(7,4))\n",
    "ax.bar(bins_h, h, color = \"dimgray\", alpha = 0.5, label = \"True\")\n",
    "ax.scatter(np.arange(M), FSC.rho, color = \"dimgray\", marker = \"o\", s = 20, label = \"Original\")\n",
    "\n",
    "ax.scatter(np.arange(M), FSC_SDG.rho.detach().cpu(), color = \"darkred\", marker = \"D\", s = 50, label = \"Inferred SDG\", alpha = 0.5)\n",
    "#ax.scatter(np.arange(M), rho_pre_fit_SDG, color = \"darkred\", marker = \"x\", s = 50, label = \"Pre-fit SDG\", alpha = 0.5)\n",
    "\n",
    "ax.scatter(np.arange(M), FSC_tofit.rho.cpu(), color = \"black\", marker = \"D\", s = 50, label = \"Inferred\")\n",
    "#ax.scatter(np.arange(M), rho_pre_fit, color = \"black\", marker = \"x\", s = 50, label = \"Pre-fit\")\n",
    "\n",
    "ax.set_xlabel(\"$m$\", fontsize = 15)\n",
    "ax.set_ylabel(\"$\\\\rho_m$\", fontsize = 15)\n",
    "\n",
    "ax.tick_params(axis='both', which='major', labelsize=12)\n",
    "\n",
    "plt.legend(fontsize = 14, bbox_to_anchor=(1.05, 1), loc='upper left')\n",
    "\n",
    "plt.show()"
   ]
  },
  {
   "cell_type": "code",
   "execution_count": 206,
   "metadata": {},
   "outputs": [
    {
     "data": {
      "text/plain": [
       "0.6966734697818756"
      ]
     },
     "execution_count": 206,
     "metadata": {},
     "output_type": "execute_result"
    }
   ],
   "source": [
    "wVec = FSC_tofit.TMat.detach().cpu().numpy().sum(axis = 2).transpose(0,2,1)\n",
    "\n",
    "-np.sum(FSC_tofit.pStart_ya_emp*np.log(np.sum((wVec*FSC_SDG.rho.detach().cpu().numpy()), axis = -1)))"
   ]
  },
  {
   "cell_type": "code",
   "execution_count": 207,
   "metadata": {},
   "outputs": [
    {
     "data": {
      "text/plain": [
       "0.6871495860815048"
      ]
     },
     "execution_count": 207,
     "metadata": {},
     "output_type": "execute_result"
    }
   ],
   "source": [
    "-np.sum(FSC_tofit.pStart_ya_emp*np.log(np.sum((wVec*FSC_tofit.rho.detach().cpu().numpy()), axis = -1)))"
   ]
  },
  {
   "cell_type": "code",
   "execution_count": 208,
   "metadata": {},
   "outputs": [
    {
     "data": {
      "text/plain": [
       "0.693372819903445"
      ]
     },
     "execution_count": 208,
     "metadata": {},
     "output_type": "execute_result"
    }
   ],
   "source": [
    "-np.sum(FSC_tofit.pStart_ya_emp*np.log(np.sum((wVec*FSC.rho), axis = -1)))"
   ]
  },
  {
   "cell_type": "code",
   "execution_count": 209,
   "metadata": {},
   "outputs": [
    {
     "data": {
      "text/plain": [
       "0.6927150067613064"
      ]
     },
     "execution_count": 209,
     "metadata": {},
     "output_type": "execute_result"
    }
   ],
   "source": [
    "-np.sum(FSC_tofit.pStart_ya_emp*np.log(np.sum((wVec*h), axis = -1)))"
   ]
  },
  {
   "cell_type": "markdown",
   "metadata": {},
   "source": [
    "# Finite State Controller with $M = 6$, $A = 3$, $Y = 2$"
   ]
  },
  {
   "cell_type": "markdown",
   "metadata": {},
   "source": [
    "# Observations, one step"
   ]
  },
  {
   "cell_type": "code",
   "execution_count": 230,
   "metadata": {},
   "outputs": [],
   "source": [
    "NStepsObs = 1\n",
    "NTraj = 500\n",
    "Y = 2\n",
    "RateMatrixObs = np.ones((Y,Y))\n",
    "RateMatrixObs = RateMatrixObs + 2*np.eye(Y)\n",
    "\n",
    "observations = ObsModels.DiscreteMarkovChain(NTraj, NStepsObs, RateMatrixObs, initial_seed = 0)"
   ]
  },
  {
   "cell_type": "code",
   "execution_count": 232,
   "metadata": {},
   "outputs": [
    {
     "name": "stdout",
     "output_type": "stream",
     "text": [
      "Initializing FSC with 6 memory states, 3 actions, and 2 observations.\n"
     ]
    }
   ],
   "source": [
    "M = 6\n",
    "A = 3\n",
    "\n",
    "np.random.seed(6)\n",
    "Theta = np.random.randn(Y, M, M, A)\n",
    "\n",
    "np.random.seed(9)\n",
    "Psi = np.random.randn(M)\n",
    "\n",
    "FSC = FSC_DiscreteObs(Theta, Psi, verbose = True)"
   ]
  },
  {
   "cell_type": "code",
   "execution_count": 233,
   "metadata": {},
   "outputs": [],
   "source": [
    "FSC.load_observations(observations)"
   ]
  },
  {
   "cell_type": "code",
   "execution_count": 234,
   "metadata": {},
   "outputs": [],
   "source": [
    "NSteps = NStepsObs\n",
    "trajectories = FSC.generate_trajectories(NSteps)\n",
    "Time = np.arange(NSteps)"
   ]
  },
  {
   "cell_type": "code",
   "execution_count": 235,
   "metadata": {},
   "outputs": [
    {
     "data": {
      "image/png": "[encoded data removed]",
      "text/plain": [
       "<Figure size 600x300 with 1 Axes>"
      ]
     },
     "metadata": {},
     "output_type": "display_data"
    }
   ],
   "source": [
    "initial_memories = np.array([tr[\"memories\"][0] for tr in trajectories])\n",
    "\n",
    "fig, ax = plt.subplots(1,1, figsize=(6,3))\n",
    "\n",
    "h, bins_h = np.histogram(initial_memories.flatten(), bins = np.arange(-0.5, M+0.5, 1))\n",
    "h = h/np.sum(h)\n",
    "bins_h = (bins_h[1:] + bins_h[:-1])/2\n",
    "\n",
    "ax.bar(bins_h, h, width = 0.8, color = 'dimgray', alpha = 0.5)\n",
    "\n",
    "ax.set_xlabel('Initial Memories')\n",
    "ax.set_ylabel('Frequency')\n",
    "\n",
    "ax.set_xticks(np.arange(0, M, 1))\n",
    "\n",
    "ax.set_title('Initial memory distribution of the trajectories')\n",
    "\n",
    "plt.show()"
   ]
  },
  {
   "cell_type": "code",
   "execution_count": 236,
   "metadata": {},
   "outputs": [
    {
     "data": {
      "text/plain": [
       "1.287420719347204"
      ]
     },
     "execution_count": 236,
     "metadata": {},
     "output_type": "execute_result"
    }
   ],
   "source": [
    "FSC.evaluate_nloglikelihood(trajectories[0])"
   ]
  },
  {
   "cell_type": "markdown",
   "metadata": {},
   "source": [
    "### Inference (gradient-based)"
   ]
  },
  {
   "cell_type": "code",
   "execution_count": 237,
   "metadata": {},
   "outputs": [
    {
     "data": {
      "text/plain": [
       "tensor(1.3860, device='mps:0', grad_fn=<SubBackward0>)"
      ]
     },
     "execution_count": 237,
     "metadata": {},
     "output_type": "execute_result"
    }
   ],
   "source": [
    "FSC_tofit = FSC_InferenceDiscreteObs(M, A, Y, seed = 123)\n",
    "FSC_tofit.load_theta(Theta.astype(np.float32))\n",
    "FSC_tofit.load_trajectories(trajectories)\n",
    "FSC_tofit.evaluate_nloglikelihood(idx_traj = 0)"
   ]
  },
  {
   "cell_type": "code",
   "execution_count": 238,
   "metadata": {},
   "outputs": [],
   "source": [
    "psi_pre_fit = FSC_tofit.psi.detach().cpu().numpy()\n",
    "rho_pre_fit = FSC_tofit.rho.detach().cpu().numpy()"
   ]
  },
  {
   "cell_type": "code",
   "execution_count": 239,
   "metadata": {},
   "outputs": [],
   "source": [
    "MSE = FSC_tofit.optimize_psionly(maxiter = 10000, th = 1e-15, rho0 = np.ones(M))"
   ]
  },
  {
   "cell_type": "code",
   "execution_count": 240,
   "metadata": {},
   "outputs": [
    {
     "data": {
      "text/plain": [
       "(0.0,\n",
       " tensor([1.7858e-01, 1.9674e-01, 1.1077e-01, 5.1390e-01, 7.0864e-37, 9.6660e-29],\n",
       "        device='mps:0'))"
      ]
     },
     "execution_count": 240,
     "metadata": {},
     "output_type": "execute_result"
    }
   ],
   "source": [
    "MSE, FSC_tofit.rho"
   ]
  },
  {
   "cell_type": "code",
   "execution_count": 241,
   "metadata": {},
   "outputs": [],
   "source": [
    "import numba as nb\n",
    "\n",
    "@nb.njit\n",
    "def optimize_rho(TMat, pya, rhok, maxiter, th = 1e-6):\n",
    "\n",
    "    wVec = np.zeros((Y, A, M))\n",
    "    for y in range(Y):\n",
    "        for a in range(A):\n",
    "            for m in range(M):\n",
    "                wVec[y, a, m] = np.sum(TMat[y, m, :, a])\n",
    "\n",
    "    for _ in range(maxiter):\n",
    "        wsumexp_test_k = np.zeros((Y, A))\n",
    "        \n",
    "        for y in range(Y):\n",
    "            for a in range(A):\n",
    "                wsumexp_test_k[y, a] = np.sum(wVec[y, a] * rhok)\n",
    "        \n",
    "        grad = wVec * rhok / wsumexp_test_k[..., None]\n",
    "\n",
    "        rhok_new = np.zeros(M)\n",
    "\n",
    "        for y in range(Y):\n",
    "            for a in range(A):\n",
    "                rhok_new += pya[y, a] * grad[y, a]\n",
    "        \n",
    "        # if np.linalg.norm(rhok_new - rhok) < th:\n",
    "        #     break\n",
    "\n",
    "        rhok = rhok_new\n",
    "\n",
    "    return rhok"
   ]
  },
  {
   "cell_type": "code",
   "execution_count": 242,
   "metadata": {},
   "outputs": [
    {
     "data": {
      "text/plain": [
       "array([1.78582748e-01, 1.96743346e-01, 1.10770553e-01, 5.13903352e-01,\n",
       "       6.44045062e-72, 4.94231144e-56])"
      ]
     },
     "execution_count": 242,
     "metadata": {},
     "output_type": "execute_result"
    }
   ],
   "source": [
    "optimize_rho(FSC_tofit.TMat.detach().cpu().numpy(), FSC_tofit.pStart_ya_emp, np.ones(M)/M, 20000)"
   ]
  },
  {
   "cell_type": "markdown",
   "metadata": {},
   "source": [
    "### Inference (SGD)"
   ]
  },
  {
   "cell_type": "code",
   "execution_count": 243,
   "metadata": {},
   "outputs": [
    {
     "data": {
      "text/plain": [
       "tensor(1.0145, device='mps:0', grad_fn=<SubBackward0>)"
      ]
     },
     "execution_count": 243,
     "metadata": {},
     "output_type": "execute_result"
    }
   ],
   "source": [
    "FSC_SDG = FSC_DoubleGrad_InferenceDiscreteObs(M, A, Y, seed = 1234)\n",
    "FSC_SDG.load_theta(Theta.astype(np.float32))\n",
    "FSC_SDG.load_trajectories(trajectories)\n",
    "FSC_SDG.evaluate_nloglikelihood(idx_traj = 0)"
   ]
  },
  {
   "cell_type": "code",
   "execution_count": 244,
   "metadata": {},
   "outputs": [],
   "source": [
    "psi_pre_fit_SDG = FSC_SDG.psi.detach().cpu().numpy()\n",
    "rho_pre_fit_SDG = FSC_SDG.rho.detach().cpu().numpy()"
   ]
  },
  {
   "cell_type": "code",
   "execution_count": 245,
   "metadata": {},
   "outputs": [
    {
     "name": "stdout",
     "output_type": "stream",
     "text": [
      "Training with 400 trajectories and validating with 100 trajectories.\n",
      "Epoch 1 - Training loss: 1.1054363822937012, Validation loss: 1.1075222420692443 - Learning rate: 0.01\n",
      "Epoch 2 - Training loss: 1.1041492462158202, Validation loss: 1.1054256820678712 - Learning rate: 0.0099\n",
      "Epoch 3 - Training loss: 1.102572269439697, Validation loss: 1.1036045062541961 - Learning rate: 0.009801\n",
      "Epoch 4 - Training loss: 1.1018759536743163, Validation loss: 1.1018159425258636 - Learning rate: 0.00970299\n",
      "Epoch 5 - Training loss: 1.1007003211975097, Validation loss: 1.1002676141262056 - Learning rate: 0.0096059601\n",
      "Epoch 6 - Training loss: 1.0998161697387694, Validation loss: 1.0988455080986024 - Learning rate: 0.009509900499\n",
      "Epoch 7 - Training loss: 1.0991077423095703, Validation loss: 1.097482922077179 - Learning rate: 0.00941480149401\n",
      "Epoch 8 - Training loss: 1.0985035514831543, Validation loss: 1.0962532711029054 - Learning rate: 0.0093206534790699\n",
      "Epoch 9 - Training loss: 1.0979360389709472, Validation loss: 1.095171986222267 - Learning rate: 0.0092274469442792\n",
      "Epoch 10 - Training loss: 1.0973839569091797, Validation loss: 1.0942618823051453 - Learning rate: 0.009135172474836408\n",
      "Best validation loss: 1.0942618823051453 reached at epoch 10\n"
     ]
    }
   ],
   "source": [
    "tloss, vloss = FSC_SDG.optimize_psionly(NEpochs = 10, NBatch = 100, lr = 0.01, gamma = 0.99)"
   ]
  },
  {
   "cell_type": "markdown",
   "metadata": {},
   "source": [
    "### Comparison"
   ]
  },
  {
   "cell_type": "code",
   "execution_count": 246,
   "metadata": {},
   "outputs": [
    {
     "data": {
      "image/png": "[encoded data removed]",
      "text/plain": [
       "<Figure size 700x400 with 1 Axes>"
      ]
     },
     "metadata": {},
     "output_type": "display_data"
    }
   ],
   "source": [
    "fig, ax = plt.subplots(1,1, figsize=(7,4))\n",
    "ax.bar(bins_h, h, color = \"dimgray\", alpha = 0.5, label = \"True\")\n",
    "ax.scatter(np.arange(M), FSC.rho, color = \"dimgray\", marker = \"o\", s = 20, label = \"Original\")\n",
    "\n",
    "ax.scatter(np.arange(M), FSC_SDG.rho.detach().cpu(), color = \"darkred\", marker = \"D\", s = 50, label = \"Inferred SDG\", alpha = 0.5)\n",
    "#ax.scatter(np.arange(M), rho_pre_fit_SDG, color = \"darkred\", marker = \"x\", s = 50, label = \"Pre-fit SDG\", alpha = 0.5)\n",
    "\n",
    "ax.scatter(np.arange(M), FSC_tofit.rho.cpu(), color = \"black\", marker = \"D\", s = 50, label = \"Inferred\")\n",
    "#ax.scatter(np.arange(M), rho_pre_fit, color = \"black\", marker = \"x\", s = 50, label = \"Pre-fit\")\n",
    "\n",
    "ax.set_xlabel(\"$m$\", fontsize = 15)\n",
    "ax.set_ylabel(\"$\\\\rho_m$\", fontsize = 15)\n",
    "\n",
    "ax.tick_params(axis='both', which='major', labelsize=12)\n",
    "\n",
    "plt.legend(fontsize = 14, bbox_to_anchor=(1.05, 1), loc='upper left')\n",
    "\n",
    "plt.show()"
   ]
  },
  {
   "cell_type": "code",
   "execution_count": 247,
   "metadata": {},
   "outputs": [
    {
     "data": {
      "text/plain": [
       "1.0965692651271821"
      ]
     },
     "execution_count": 247,
     "metadata": {},
     "output_type": "execute_result"
    }
   ],
   "source": [
    "wVec = FSC_tofit.TMat.detach().cpu().numpy().sum(axis = 2).transpose(0,2,1)\n",
    "\n",
    "-np.sum(FSC_tofit.pStart_ya_emp*np.log(np.sum((wVec*FSC_SDG.rho.detach().cpu().numpy()), axis = -1)))"
   ]
  },
  {
   "cell_type": "code",
   "execution_count": 248,
   "metadata": {},
   "outputs": [
    {
     "data": {
      "text/plain": [
       "1.088366482257843"
      ]
     },
     "execution_count": 248,
     "metadata": {},
     "output_type": "execute_result"
    }
   ],
   "source": [
    "-np.sum(FSC_tofit.pStart_ya_emp*np.log(np.sum((wVec*FSC_tofit.rho.detach().cpu().numpy()), axis = -1)))"
   ]
  },
  {
   "cell_type": "code",
   "execution_count": 249,
   "metadata": {},
   "outputs": [
    {
     "data": {
      "text/plain": [
       "1.0930030672519702"
      ]
     },
     "execution_count": 249,
     "metadata": {},
     "output_type": "execute_result"
    }
   ],
   "source": [
    "-np.sum(FSC_tofit.pStart_ya_emp*np.log(np.sum((wVec*FSC.rho), axis = -1)))"
   ]
  },
  {
   "cell_type": "code",
   "execution_count": 250,
   "metadata": {},
   "outputs": [
    {
     "data": {
      "text/plain": [
       "1.092971019044712"
      ]
     },
     "execution_count": 250,
     "metadata": {},
     "output_type": "execute_result"
    }
   ],
   "source": [
    "-np.sum(FSC_tofit.pStart_ya_emp*np.log(np.sum((wVec*h), axis = -1)))"
   ]
  },
  {
   "cell_type": "markdown",
   "metadata": {},
   "source": [
    "# Finite State Controller with $M = 6$, $A = 3$, $Y = 4$"
   ]
  },
  {
   "cell_type": "markdown",
   "metadata": {},
   "source": [
    "# Observations, one step"
   ]
  },
  {
   "cell_type": "code",
   "execution_count": 64,
   "metadata": {},
   "outputs": [],
   "source": [
    "NStepsObs = 1\n",
    "NTraj = 2000\n",
    "Y = 4\n",
    "RateMatrixObs = np.ones((Y,Y))\n",
    "RateMatrixObs = RateMatrixObs + 2*np.eye(Y)\n",
    "\n",
    "observations = ObsModels.DiscreteMarkovChain(NTraj, NStepsObs, RateMatrixObs, initial_seed = 0)"
   ]
  },
  {
   "cell_type": "code",
   "execution_count": 65,
   "metadata": {},
   "outputs": [
    {
     "name": "stdout",
     "output_type": "stream",
     "text": [
      "Initializing FSC with 6 memory states, 3 actions, and 4 observations.\n"
     ]
    }
   ],
   "source": [
    "M = 6\n",
    "A = 3\n",
    "\n",
    "np.random.seed(6)\n",
    "Theta = np.random.randn(Y, M, M, A)\n",
    "\n",
    "Psi = np.random.randn(M)\n",
    "\n",
    "FSC = FSC_DiscreteObs(Theta, Psi, verbose = True)"
   ]
  },
  {
   "cell_type": "code",
   "execution_count": 66,
   "metadata": {},
   "outputs": [],
   "source": [
    "FSC.load_observations(observations)"
   ]
  },
  {
   "cell_type": "code",
   "execution_count": 67,
   "metadata": {},
   "outputs": [],
   "source": [
    "NSteps = NStepsObs\n",
    "trajectories = FSC.generate_trajectories(NSteps)\n",
    "Time = np.arange(NSteps)"
   ]
  },
  {
   "cell_type": "code",
   "execution_count": 68,
   "metadata": {},
   "outputs": [
    {
     "data": {
      "image/png": "[encoded data removed]",
      "text/plain": [
       "<Figure size 600x300 with 1 Axes>"
      ]
     },
     "metadata": {},
     "output_type": "display_data"
    }
   ],
   "source": [
    "initial_memories = np.array([tr[\"memories\"][0] for tr in trajectories])\n",
    "\n",
    "fig, ax = plt.subplots(1,1, figsize=(6,3))\n",
    "\n",
    "h, bins_h = np.histogram(initial_memories.flatten(), bins = np.arange(-0.5, M+0.5, 1))\n",
    "h = h/np.sum(h)\n",
    "bins_h = (bins_h[1:] + bins_h[:-1])/2\n",
    "\n",
    "ax.bar(bins_h, h, width = 0.8, color = 'dimgray', alpha = 0.5)\n",
    "\n",
    "ax.set_xlabel('Initial Memories')\n",
    "ax.set_ylabel('Frequency')\n",
    "\n",
    "ax.set_xticks(np.arange(0, M, 1))\n",
    "\n",
    "ax.set_title('Initial memory distribution of the trajectories')\n",
    "\n",
    "plt.show()"
   ]
  },
  {
   "cell_type": "code",
   "execution_count": 69,
   "metadata": {},
   "outputs": [
    {
     "data": {
      "text/plain": [
       "1.1630620803781582"
      ]
     },
     "execution_count": 69,
     "metadata": {},
     "output_type": "execute_result"
    }
   ],
   "source": [
    "FSC.evaluate_nloglikelihood(trajectories[0])"
   ]
  },
  {
   "cell_type": "markdown",
   "metadata": {},
   "source": [
    "### Inference (gradient-based)"
   ]
  },
  {
   "cell_type": "code",
   "execution_count": 70,
   "metadata": {},
   "outputs": [
    {
     "data": {
      "text/plain": [
       "tensor(1.3860, device='mps:0', grad_fn=<SubBackward0>)"
      ]
     },
     "execution_count": 70,
     "metadata": {},
     "output_type": "execute_result"
    }
   ],
   "source": [
    "FSC_tofit = FSC_InferenceDiscreteObs(M, A, Y, seed = 123)\n",
    "FSC_tofit.load_theta(Theta.astype(np.float32))\n",
    "FSC_tofit.load_trajectories(trajectories)\n",
    "FSC_tofit.evaluate_nloglikelihood(idx_traj = 0)"
   ]
  },
  {
   "cell_type": "code",
   "execution_count": 71,
   "metadata": {},
   "outputs": [],
   "source": [
    "psi_pre_fit = FSC_tofit.psi.detach().cpu().numpy()\n",
    "rho_pre_fit = FSC_tofit.rho.detach().cpu().numpy()"
   ]
  },
  {
   "cell_type": "code",
   "execution_count": 72,
   "metadata": {},
   "outputs": [],
   "source": [
    "MSE = FSC_tofit.optimize_psionly(maxiter = 10000, th = 1e-15, rho0 = np.ones(M))"
   ]
  },
  {
   "cell_type": "code",
   "execution_count": 73,
   "metadata": {},
   "outputs": [
    {
     "data": {
      "text/plain": [
       "(0.0,\n",
       " tensor([3.2145e-01, 2.3264e-01, 1.8069e-01, 2.1721e-01, 2.1181e-04, 4.7803e-02],\n",
       "        device='mps:0'))"
      ]
     },
     "execution_count": 73,
     "metadata": {},
     "output_type": "execute_result"
    }
   ],
   "source": [
    "MSE, FSC_tofit.rho"
   ]
  },
  {
   "cell_type": "code",
   "execution_count": 74,
   "metadata": {},
   "outputs": [],
   "source": [
    "import numba as nb\n",
    "\n",
    "@nb.njit\n",
    "def optimize_rho(TMat, pya, rhok, maxiter, th = 1e-6):\n",
    "\n",
    "    wVec = np.zeros((Y, A, M))\n",
    "    for y in range(Y):\n",
    "        for a in range(A):\n",
    "            for m in range(M):\n",
    "                wVec[y, a, m] = np.sum(TMat[y, m, :, a])\n",
    "\n",
    "    for _ in range(maxiter):\n",
    "        wsumexp_test_k = np.zeros((Y, A))\n",
    "        \n",
    "        for y in range(Y):\n",
    "            for a in range(A):\n",
    "                wsumexp_test_k[y, a] = np.sum(wVec[y, a] * rhok)\n",
    "        \n",
    "        grad = wVec * rhok / wsumexp_test_k[..., None]\n",
    "\n",
    "        rhok_new = np.zeros(M)\n",
    "\n",
    "        for y in range(Y):\n",
    "            for a in range(A):\n",
    "                rhok_new += pya[y, a] * grad[y, a]\n",
    "        \n",
    "        # if np.linalg.norm(rhok_new - rhok) < th:\n",
    "        #     break\n",
    "\n",
    "        rhok = rhok_new\n",
    "\n",
    "    return rhok"
   ]
  },
  {
   "cell_type": "code",
   "execution_count": 75,
   "metadata": {},
   "outputs": [
    {
     "data": {
      "text/plain": [
       "array([3.21526154e-01, 2.32708365e-01, 1.80763597e-01, 2.17309331e-01,\n",
       "       2.00881034e-06, 4.76905440e-02])"
      ]
     },
     "execution_count": 75,
     "metadata": {},
     "output_type": "execute_result"
    }
   ],
   "source": [
    "optimize_rho(FSC_tofit.TMat.detach().cpu().numpy(), FSC_tofit.pStart_ya_emp, np.ones(M)/M, 20000)"
   ]
  },
  {
   "cell_type": "markdown",
   "metadata": {},
   "source": [
    "### Inference (SGD)"
   ]
  },
  {
   "cell_type": "code",
   "execution_count": 76,
   "metadata": {},
   "outputs": [
    {
     "data": {
      "text/plain": [
       "tensor(1.0145, device='mps:0', grad_fn=<SubBackward0>)"
      ]
     },
     "execution_count": 76,
     "metadata": {},
     "output_type": "execute_result"
    }
   ],
   "source": [
    "FSC_SDG = FSC_DoubleGrad_InferenceDiscreteObs(M, A, Y, seed = 1234)\n",
    "FSC_SDG.load_theta(Theta.astype(np.float32))\n",
    "FSC_SDG.load_trajectories(trajectories)\n",
    "FSC_SDG.evaluate_nloglikelihood(idx_traj = 0)"
   ]
  },
  {
   "cell_type": "code",
   "execution_count": 77,
   "metadata": {},
   "outputs": [],
   "source": [
    "psi_pre_fit_SDG = FSC_SDG.psi.detach().cpu().numpy()\n",
    "rho_pre_fit_SDG = FSC_SDG.rho.detach().cpu().numpy()"
   ]
  },
  {
   "cell_type": "code",
   "execution_count": 78,
   "metadata": {},
   "outputs": [
    {
     "name": "stdout",
     "output_type": "stream",
     "text": [
      "Training with 1600 trajectories and validating with 400 trajectories.\n",
      "Epoch 1 - Training loss: 1.0850150156021119, Validation loss: 1.0735009399056434 - Learning rate: 0.01\n",
      "Epoch 2 - Training loss: 1.083718318939209, Validation loss: 1.0719940616190433 - Learning rate: 0.0099\n",
      "Epoch 3 - Training loss: 1.0829067373275758, Validation loss: 1.0710415302217007 - Learning rate: 0.009801\n",
      "Epoch 4 - Training loss: 1.0822977304458619, Validation loss: 1.0705024763941764 - Learning rate: 0.00970299\n",
      "Epoch 5 - Training loss: 1.081993169784546, Validation loss: 1.070275063663721 - Learning rate: 0.0096059601\n",
      "Epoch 6 - Training loss: 1.081768493652344, Validation loss: 1.06987914159894 - Learning rate: 0.009509900499\n",
      "Epoch 7 - Training loss: 1.08159038066864, Validation loss: 1.069632415920496 - Learning rate: 0.00941480149401\n",
      "Epoch 8 - Training loss: 1.0814312410354614, Validation loss: 1.0694396212697028 - Learning rate: 0.0093206534790699\n",
      "Epoch 9 - Training loss: 1.0813548898696899, Validation loss: 1.0691780468821526 - Learning rate: 0.0092274469442792\n",
      "Epoch 10 - Training loss: 1.0812080907821655, Validation loss: 1.0691738283634187 - Learning rate: 0.009135172474836408\n",
      "Best validation loss: 1.0691738283634187 reached at epoch 10\n"
     ]
    }
   ],
   "source": [
    "tloss, vloss = FSC_SDG.optimize_psionly(NEpochs = 10, NBatch = 100, lr = 0.01, gamma = 0.99)"
   ]
  },
  {
   "cell_type": "markdown",
   "metadata": {},
   "source": [
    "### Comparison"
   ]
  },
  {
   "cell_type": "code",
   "execution_count": 80,
   "metadata": {},
   "outputs": [
    {
     "data": {
      "image/png": "[encoded data removed]",
      "text/plain": [
       "<Figure size 700x400 with 1 Axes>"
      ]
     },
     "metadata": {},
     "output_type": "display_data"
    }
   ],
   "source": [
    "fig, ax = plt.subplots(1,1, figsize=(7,4))\n",
    "ax.bar(bins_h, h, color = \"dimgray\", alpha = 0.5, label = \"True\")\n",
    "ax.scatter(np.arange(M), FSC.rho, color = \"darkgreen\", marker = \"D\", s = 50, label = \"Original\")\n",
    "\n",
    "ax.scatter(np.arange(M), FSC_SDG.rho.detach().cpu(), color = \"darkred\", marker = \"D\", s = 50, label = \"Inferred SDG\", alpha = 0.5)\n",
    "#ax.scatter(np.arange(M), rho_pre_fit_SDG, color = \"darkred\", marker = \"x\", s = 50, label = \"Pre-fit SDG\", alpha = 0.5)\n",
    "\n",
    "ax.scatter(np.arange(M), FSC_tofit.rho.cpu(), color = \"black\", marker = \"D\", s = 50, label = \"Inferred\")\n",
    "#ax.scatter(np.arange(M), rho_pre_fit, color = \"black\", marker = \"x\", s = 50, label = \"Pre-fit\")\n",
    "\n",
    "\n",
    "\n",
    "ax.set_xlabel(\"$m$\", fontsize = 15)\n",
    "ax.set_ylabel(\"$\\\\rho_m$\", fontsize = 15)\n",
    "\n",
    "ax.tick_params(axis='both', which='major', labelsize=12)\n",
    "\n",
    "plt.legend(fontsize = 14, bbox_to_anchor=(1.05, 1), loc='upper left')\n",
    "\n",
    "plt.show()"
   ]
  },
  {
   "cell_type": "code",
   "execution_count": 23,
   "metadata": {},
   "outputs": [
    {
     "data": {
      "text/plain": [
       "1.0895509909391403"
      ]
     },
     "execution_count": 23,
     "metadata": {},
     "output_type": "execute_result"
    }
   ],
   "source": [
    "wVec = FSC_tofit.TMat.detach().cpu().numpy().sum(axis = 2).transpose(0,2,1)\n",
    "\n",
    "-np.sum(FSC_tofit.pStart_ya_emp*np.log(np.sum((wVec*FSC_SDG.rho.detach().cpu().numpy()), axis = -1)))"
   ]
  },
  {
   "cell_type": "code",
   "execution_count": 24,
   "metadata": {},
   "outputs": [
    {
     "data": {
      "text/plain": [
       "1.0869440196752547"
      ]
     },
     "execution_count": 24,
     "metadata": {},
     "output_type": "execute_result"
    }
   ],
   "source": [
    "-np.sum(FSC_tofit.pStart_ya_emp*np.log(np.sum((wVec*FSC_tofit.rho.detach().cpu().numpy()), axis = -1)))"
   ]
  },
  {
   "cell_type": "code",
   "execution_count": 26,
   "metadata": {},
   "outputs": [
    {
     "data": {
      "text/plain": [
       "1.0915987113264285"
      ]
     },
     "execution_count": 26,
     "metadata": {},
     "output_type": "execute_result"
    }
   ],
   "source": [
    "-np.sum(FSC_tofit.pStart_ya_emp*np.log(np.sum((wVec*FSC.rho), axis = -1)))"
   ]
  },
  {
   "cell_type": "code",
   "execution_count": 27,
   "metadata": {},
   "outputs": [
    {
     "data": {
      "text/plain": [
       "1.0909866637682837"
      ]
     },
     "execution_count": 27,
     "metadata": {},
     "output_type": "execute_result"
    }
   ],
   "source": [
    "-np.sum(FSC_tofit.pStart_ya_emp*np.log(np.sum((wVec*h), axis = -1)))"
   ]
  },
  {
   "cell_type": "markdown",
   "metadata": {},
   "source": [
    "## Analytic tests"
   ]
  },
  {
   "cell_type": "code",
   "execution_count": 29,
   "metadata": {},
   "outputs": [],
   "source": [
    "NTraj = int(1e6)\n",
    "observations = ObsModels.DiscreteMarkovChain(NTraj, NStepsObs, RateMatrixObs, initial_seed = 6)"
   ]
  },
  {
   "cell_type": "code",
   "execution_count": 30,
   "metadata": {},
   "outputs": [],
   "source": [
    "FSC.load_observations(observations)"
   ]
  },
  {
   "cell_type": "code",
   "execution_count": 31,
   "metadata": {},
   "outputs": [],
   "source": [
    "NSteps = NStepsObs\n",
    "trajectories_all = FSC.generate_trajectories(NSteps)"
   ]
  },
  {
   "cell_type": "code",
   "execution_count": 32,
   "metadata": {},
   "outputs": [],
   "source": [
    "ya_array = np.array([[tr['observations'][0], tr['actions'][0]]  for tr in trajectories_all])\n",
    "\n",
    "# this is the conditional probability of the action given the observation\n",
    "pAgY = np.zeros((Y, A))\n",
    "\n",
    "for y in range(Y):\n",
    "    pAgY[y] = np.histogram(ya_array[ya_array[:,0] == y, 1], bins = np.arange(-0.5, A+0.5, 1))[0]\n",
    "\n",
    "    # normalize\n",
    "\n",
    "    pAgY[y] = pAgY[y]/np.sum(pAgY[y])\n",
    "\n",
    "pya = pAgY/Y"
   ]
  },
  {
   "cell_type": "code",
   "execution_count": 33,
   "metadata": {},
   "outputs": [
    {
     "data": {
      "image/png": "[encoded data removed]",
      "text/plain": [
       "<Figure size 600x600 with 2 Axes>"
      ]
     },
     "metadata": {},
     "output_type": "display_data"
    }
   ],
   "source": [
    "fig, ax = plt.subplots(1,1, figsize=(6,6))\n",
    "\n",
    "ObsGrid, ActGrid = np.meshgrid(np.arange(Y), np.arange(A))\n",
    "\n",
    "im = ax.pcolormesh(ObsGrid, ActGrid, pya.T, cmap = 'Blues', vmin = 0)\n",
    "\n",
    "ax.set_xlabel('Initial Observations')\n",
    "ax.set_ylabel('Initial Actions')\n",
    "\n",
    "ax.set_xticks(np.arange(0, Y, 1))\n",
    "ax.set_yticks(np.arange(0, A, 1))\n",
    "\n",
    "ax.set_title('Initial observation-action distribution of the trajectories')\n",
    "\n",
    "plt.colorbar(im, ax = ax)\n",
    "\n",
    "plt.show()"
   ]
  },
  {
   "cell_type": "code",
   "execution_count": 34,
   "metadata": {},
   "outputs": [
    {
     "data": {
      "image/png": "[encoded data removed]",
      "text/plain": [
       "<Figure size 600x300 with 1 Axes>"
      ]
     },
     "metadata": {},
     "output_type": "display_data"
    }
   ],
   "source": [
    "initial_memories = np.array([tr[\"memories\"][0] for tr in trajectories_all])\n",
    "\n",
    "fig, ax = plt.subplots(1,1, figsize=(6,3))\n",
    "\n",
    "h, bins_h = np.histogram(initial_memories.flatten(), bins = np.arange(-0.5, M+0.5, 1))\n",
    "h = h/np.sum(h)\n",
    "bins_h = (bins_h[1:] + bins_h[:-1])/2\n",
    "\n",
    "ax.bar(bins_h, h, width = 0.8, color = 'dimgray', alpha = 0.5)\n",
    "\n",
    "ax.set_xlabel('Initial Memories')\n",
    "ax.set_ylabel('Frequency')\n",
    "\n",
    "ax.set_xticks(np.arange(0, M, 1))\n",
    "\n",
    "ax.set_title('Initial memory distribution of the trajectories')\n",
    "\n",
    "plt.show()"
   ]
  },
  {
   "cell_type": "code",
   "execution_count": 35,
   "metadata": {},
   "outputs": [
    {
     "name": "stdout",
     "output_type": "stream",
     "text": [
      "True rho:  [0.15339996 0.28168368 0.183567   0.0729916  0.16127062 0.14708714]\n",
      "Rho tilde:  [0.15341122 0.28169493 0.18354307 0.07300151 0.16125565 0.14709363]\n"
     ]
    }
   ],
   "source": [
    "wVec = FSC.TMat.sum(axis = 2)\n",
    "qVec = np.exp(FSC.psi)\n",
    "tempVec = np.zeros((Y, A, M))\n",
    "\n",
    "for y in range(Y):\n",
    "    for a in range(A):\n",
    "        tempVec[y,a,:] = wVec[y, :, a]*qVec\n",
    "        tempVec[y,a,:] = tempVec[y,a,:]/np.sum(tempVec[y,a,:])\n",
    "\n",
    "rhoTilde = np.sum(pya[..., None]*tempVec, axis = (0,1))\n",
    "\n",
    "print(\"True rho: \", FSC.rho)\n",
    "print(\"Rho tilde: \", rhoTilde)"
   ]
  },
  {
   "cell_type": "code",
   "execution_count": 36,
   "metadata": {},
   "outputs": [],
   "source": [
    "FSC_tofit_large = FSC_InferenceDiscreteObs(M, A, Y, seed = 123)\n",
    "FSC_tofit_large.load_theta(Theta.astype(np.float32))\n",
    "FSC_tofit_large.load_trajectories(trajectories_all)\n",
    "\n",
    "MSE = FSC_tofit_large.optimize_psionly(maxiter = 10000, th = 1e-15, rho0 = np.ones(M)/M)"
   ]
  },
  {
   "cell_type": "code",
   "execution_count": 37,
   "metadata": {},
   "outputs": [
    {
     "data": {
      "text/plain": [
       "(array([[0.078247, 0.100104, 0.071368],\n",
       "        [0.084019, 0.071085, 0.09472 ],\n",
       "        [0.102812, 0.071576, 0.075341],\n",
       "        [0.065626, 0.063238, 0.121864]]),\n",
       " array([[0.07833505, 0.10021664, 0.07144831],\n",
       "        [0.08407819, 0.07113508, 0.09478673],\n",
       "        [0.10292357, 0.07165367, 0.07542276],\n",
       "        [0.06543545, 0.06305439, 0.12151016]]))"
      ]
     },
     "execution_count": 37,
     "metadata": {},
     "output_type": "execute_result"
    }
   ],
   "source": [
    "FSC_tofit_large.pStart_ya_emp, pya"
   ]
  },
  {
   "cell_type": "code",
   "execution_count": 38,
   "metadata": {},
   "outputs": [
    {
     "name": "stdout",
     "output_type": "stream",
     "text": [
      "Initializing FSC with 6 memory states, 3 actions, and 4 observations.\n"
     ]
    }
   ],
   "source": [
    "FSC_inferred_large = FSC_DiscreteObs(FSC_tofit_large.theta.detach().cpu().double().numpy(),\n",
    "                                     FSC_tofit_large.psi.detach().cpu().double().numpy(), verbose = True)\n",
    "\n",
    "FSC_inferred_large.rho = FSC_tofit_large.rho.detach().cpu().numpy()"
   ]
  },
  {
   "cell_type": "code",
   "execution_count": 41,
   "metadata": {},
   "outputs": [
    {
     "data": {
      "image/png": "[encoded data removed]",
      "text/plain": [
       "<Figure size 700x400 with 1 Axes>"
      ]
     },
     "metadata": {},
     "output_type": "display_data"
    }
   ],
   "source": [
    "fig, ax = plt.subplots(1,1, figsize=(7,4))\n",
    "ax.bar(bins_h, h, color = \"dimgray\", alpha = 0.5, label = \"True (empirical)\")\n",
    "\n",
    "ax.scatter(np.arange(M), FSC.rho, color = \"darkgreen\", marker = \"D\", s = 50, label = \"Original\")\n",
    "\n",
    "ax.scatter(np.arange(M), FSC_inferred_large.rho, color = \"darkblue\", marker = \"D\", s = 50, label = \"Inferred (large number of trajectories)\")\n",
    "\n",
    "ax.scatter(np.arange(M), FSC_SDG.rho.detach().cpu(), color = \"darkred\", marker = \"D\", s = 50, label = \"Inferred SDG\", alpha = 0.5)\n",
    "\n",
    "ax.scatter(np.arange(M), FSC_tofit.rho.cpu(), color = \"black\", marker = \"D\", s = 50, label = \"Inferred\")\n",
    "\n",
    "\n",
    "ax.set_xlabel(\"$m$\", fontsize = 15)\n",
    "ax.set_ylabel(\"$\\\\rho_m$\", fontsize = 15)\n",
    "\n",
    "ax.tick_params(axis='both', which='major', labelsize=12)\n",
    "\n",
    "plt.legend(fontsize = 14, bbox_to_anchor=(1.05, 1), loc='upper left')\n",
    "\n",
    "plt.show()"
   ]
  },
  {
   "cell_type": "code",
   "execution_count": 43,
   "metadata": {},
   "outputs": [
    {
     "data": {
      "text/plain": [
       "1.0831075869227649"
      ]
     },
     "execution_count": 43,
     "metadata": {},
     "output_type": "execute_result"
    }
   ],
   "source": [
    "wVec = FSC_tofit.TMat.detach().cpu().numpy().sum(axis = 2).transpose(0,2,1)\n",
    "\n",
    "-np.sum(FSC_tofit_large.pStart_ya_emp*np.log(np.sum((wVec*FSC_SDG.rho.detach().cpu().numpy()), axis = -1)))"
   ]
  },
  {
   "cell_type": "code",
   "execution_count": 45,
   "metadata": {},
   "outputs": [
    {
     "data": {
      "text/plain": [
       "1.0784299935543538"
      ]
     },
     "execution_count": 45,
     "metadata": {},
     "output_type": "execute_result"
    }
   ],
   "source": [
    "-np.sum(FSC_tofit_large.pStart_ya_emp*np.log(np.sum((wVec*FSC_tofit_large.rho.detach().cpu().numpy()), axis = -1)))"
   ]
  },
  {
   "cell_type": "code",
   "execution_count": 46,
   "metadata": {},
   "outputs": [
    {
     "data": {
      "text/plain": [
       "1.0784308539369434"
      ]
     },
     "execution_count": 46,
     "metadata": {},
     "output_type": "execute_result"
    }
   ],
   "source": [
    "-np.sum(FSC_tofit_large.pStart_ya_emp*np.log(np.sum((wVec*FSC.rho), axis = -1)))"
   ]
  },
  {
   "cell_type": "code",
   "execution_count": 47,
   "metadata": {},
   "outputs": [
    {
     "data": {
      "text/plain": [
       "1.0784308437289762"
      ]
     },
     "execution_count": 47,
     "metadata": {},
     "output_type": "execute_result"
    }
   ],
   "source": [
    "-np.sum(FSC_tofit_large.pStart_ya_emp*np.log(np.sum((wVec*h), axis = -1)))"
   ]
  },
  {
   "cell_type": "code",
   "execution_count": null,
   "metadata": {},
   "outputs": [],
   "source": []
  },
  {
   "cell_type": "code",
   "execution_count": 162,
   "metadata": {},
   "outputs": [
    {
     "data": {
      "text/plain": [
       "array([0.13396725, 0.28864035, 0.17110552, 0.06678097, 0.17821696,\n",
       "       0.16128895], dtype=float32)"
      ]
     },
     "execution_count": 162,
     "metadata": {},
     "output_type": "execute_result"
    }
   ],
   "source": [
    "FSC_inferred_large.rho"
   ]
  },
  {
   "cell_type": "code",
   "execution_count": 163,
   "metadata": {},
   "outputs": [
    {
     "data": {
      "text/plain": [
       "array([0.1539 , 0.2825 , 0.18125, 0.07242, 0.16119, 0.14874])"
      ]
     },
     "execution_count": 163,
     "metadata": {},
     "output_type": "execute_result"
    }
   ],
   "source": [
    "h"
   ]
  },
  {
   "cell_type": "code",
   "execution_count": 188,
   "metadata": {},
   "outputs": [],
   "source": [
    "import scipy\n",
    "import numba as nb\n",
    "\n",
    "@nb.njit\n",
    "def fun_to_min(psi, wVec, psi_k, pya):\n",
    "\n",
    "    sumexp = np.sum(np.exp(psi))\n",
    "    wsumexp_k = np.sum(wVec*np.exp(psi_k), axis = 2)\n",
    "\n",
    "    convexified = np.sum(wVec*np.exp(psi_k)*(psi - psi_k), axis = 2)/wsumexp_k\n",
    "    convexified += np.log(wsumexp_k)\n",
    "    convexified = np.sum(pya*convexified)\n",
    "\n",
    "    return np.log(sumexp) - convexified"
   ]
  },
  {
   "cell_type": "code",
   "execution_count": 189,
   "metadata": {},
   "outputs": [],
   "source": [
    "# Define the gradient of your function\n",
    "@nb.njit\n",
    "def gradient(x, wVec, psik, pya):\n",
    "    wsumexp_k = np.sum(wVec * np.exp(psik), axis=2)\n",
    "\n",
    "    grad = wVec * np.exp(psik) / wsumexp_k[..., None]\n",
    "\n",
    "    Y = wVec.shape[0]\n",
    "    A = wVec.shape[1]\n",
    "\n",
    "    gradvec = np.zeros(M)\n",
    "\n",
    "    for y in range(Y):\n",
    "        for a in range(A):\n",
    "            gradvec += pya[y, a] * grad[y, a]\n",
    "\n",
    "    return -gradvec + np.exp(x) / np.sum(np.exp(x))\n",
    "\n",
    "# Implement gradient descent\n",
    "@nb.njit\n",
    "def gradient_descent(wVec, psik, pya, x0, initial_lr=0.5, decay_rate=0.99, max_iter=10000, tol=1e-6):\n",
    "    x = x0\n",
    "    learning_rate = initial_lr\n",
    "    for i in range(max_iter):\n",
    "        grad = gradient(x, wVec, psik, pya)\n",
    "        x_new = x - learning_rate * grad\n",
    "        if np.linalg.norm(x_new - x) < tol:\n",
    "            break\n",
    "        x = x_new\n",
    "        learning_rate *= decay_rate  # Update the learning rate\n",
    "    return x\n",
    "\n",
    "@nb.njit\n",
    "def convex_concave_optimize(NSteps, psik, wVec, pya, initial_lr=0.5, decay_rate=0.99, max_iter=10000, tol=1e-6):\n",
    "    rhok_all = np.zeros((NSteps + 1, M))\n",
    "    rhok_all[0] = np.exp(psik) / np.sum(np.exp(psik))\n",
    "\n",
    "    for k in range(NSteps):\n",
    "        x0 = np.zeros(M)\n",
    "\n",
    "        res = gradient_descent(wVec, psik, pya, x0, initial_lr, decay_rate, max_iter, tol)\n",
    "\n",
    "        psik = res\n",
    "\n",
    "        rhok_all[k + 1] = np.exp(psik) / np.sum(np.exp(psik))\n",
    "\n",
    "    return rhok_all"
   ]
  },
  {
   "cell_type": "code",
   "execution_count": 190,
   "metadata": {},
   "outputs": [],
   "source": [
    "NSteps = 5000\n",
    "wVec = FSC.TMat.sum(axis = 2).transpose(0, 2, 1)\n",
    "\n",
    "psik = np.ones(M)\n",
    "\n",
    "rhok_all = convex_concave_optimize(NSteps, psik, wVec, pya, initial_lr = 1, decay_rate = 1)"
   ]
  },
  {
   "cell_type": "code",
   "execution_count": 191,
   "metadata": {},
   "outputs": [
    {
     "data": {
      "image/png": "[encoded data removed]",
      "text/plain": [
       "<Figure size 640x480 with 1 Axes>"
      ]
     },
     "metadata": {},
     "output_type": "display_data"
    }
   ],
   "source": [
    "plt.plot(rhok_all)\n",
    "plt.show()"
   ]
  },
  {
   "cell_type": "code",
   "execution_count": 192,
   "metadata": {},
   "outputs": [
    {
     "data": {
      "text/plain": [
       "(array([0.168, 0.281, 0.151, 0.086, 0.159, 0.155]),\n",
       " array([0.34875015, 0.12733459, 0.07852144, 0.00050189, 0.2589343 ,\n",
       "        0.18595763]))"
      ]
     },
     "execution_count": 192,
     "metadata": {},
     "output_type": "execute_result"
    }
   ],
   "source": [
    "h, rhok_all[-1]"
   ]
  },
  {
   "cell_type": "code",
   "execution_count": 140,
   "metadata": {},
   "outputs": [
    {
     "data": {
      "image/png": "[encoded data removed]",
      "text/plain": [
       "<Figure size 700x400 with 1 Axes>"
      ]
     },
     "metadata": {},
     "output_type": "display_data"
    }
   ],
   "source": [
    "fig, ax = plt.subplots(1,1, figsize=(7,4))\n",
    "ax.bar(bins_h, h, color = \"dimgray\", alpha = 0.5, label = \"True\")\n",
    "\n",
    "ax.scatter(np.arange(M), FSC_inferred_large.rho, color = \"darkgreen\", marker = \"D\", s = 20, label = \"Inferred (large number of trajectories)\")\n",
    "ax.scatter(np.arange(M), rhok_all[-1], color = \"blue\", marker = \"D\", s = 20, label = \"Inferred (CC)\")\n",
    "plt.show()"
   ]
  },
  {
   "cell_type": "code",
   "execution_count": 141,
   "metadata": {},
   "outputs": [],
   "source": [
    "NSteps = 1000\n",
    "\n",
    "rhok_all = np.zeros((NSteps, M))\n",
    "\n",
    "psik = np.ones(M)\n",
    "wVec = FSC.TMat.sum(axis = 2).transpose(0, 2, 1)\n",
    "\n",
    "for k in range(NSteps):\n",
    "    x0 = np.zeros(M)\n",
    "\n",
    "    res = scipy.optimize.minimize(fun_to_min, x0, args = (wVec, psik, pya))\n",
    "\n",
    "    psik = res.x\n",
    "\n",
    "    rhok_all[k] = np.exp(psik)/np.sum(np.exp(psik))"
   ]
  },
  {
   "cell_type": "code",
   "execution_count": 142,
   "metadata": {},
   "outputs": [
    {
     "data": {
      "image/png": "[encoded data removed]",
      "text/plain": [
       "<Figure size 640x480 with 1 Axes>"
      ]
     },
     "metadata": {},
     "output_type": "display_data"
    }
   ],
   "source": [
    "plt.plot(rhok_all)\n",
    "plt.show()"
   ]
  },
  {
   "cell_type": "code",
   "execution_count": 143,
   "metadata": {},
   "outputs": [
    {
     "data": {
      "image/png": "[encoded data removed]",
      "text/plain": [
       "<Figure size 700x400 with 1 Axes>"
      ]
     },
     "metadata": {},
     "output_type": "display_data"
    }
   ],
   "source": [
    "fig, ax = plt.subplots(1,1, figsize=(7,4))\n",
    "ax.bar(bins_h, h, color = \"dimgray\", alpha = 0.5, label = \"True\")\n",
    "\n",
    "ax.scatter(np.arange(M), FSC_inferred_large.rho, color = \"darkgreen\", marker = \"D\", s = 20, label = \"Inferred (large number of trajectories)\")\n",
    "ax.scatter(np.arange(M), rhok_all[-1], color = \"blue\", marker = \"D\", s = 20, label = \"Inferred (CC)\")\n",
    "plt.show()"
   ]
  },
  {
   "cell_type": "code",
   "execution_count": 144,
   "metadata": {},
   "outputs": [],
   "source": [
    "@nb.njit\n",
    "def optimize_rho(TMat, pya, rhok, maxiter, th = 1e-6):\n",
    "\n",
    "    wVec = np.zeros((Y, A, M))\n",
    "    for y in range(Y):\n",
    "        for a in range(A):\n",
    "            for m in range(M):\n",
    "                wVec[y, a, m] = np.sum(TMat[y, m, :, a])\n",
    "\n",
    "    for _ in range(maxiter):\n",
    "        wsumexp_test_k = np.zeros((Y, A))\n",
    "        \n",
    "        for y in range(Y):\n",
    "            for a in range(A):\n",
    "                wsumexp_test_k[y, a] = np.sum(wVec[y, a] * rhok)\n",
    "        \n",
    "        grad = wVec * rhok / wsumexp_test_k[..., None]\n",
    "\n",
    "        rhok_new = np.zeros(M)\n",
    "\n",
    "        for y in range(Y):\n",
    "            for a in range(A):\n",
    "                rhok_new += pya[y, a] * grad[y, a]\n",
    "        \n",
    "        if np.linalg.norm(rhok_new - rhok) < th:\n",
    "            break\n",
    "\n",
    "        rhok = rhok_new\n",
    "\n",
    "    return rhok"
   ]
  },
  {
   "cell_type": "code",
   "execution_count": 147,
   "metadata": {},
   "outputs": [],
   "source": [
    "rhotest = np.ones(M)/M\n",
    "\n",
    "rhotest = optimize_rho(FSC.TMat, pya, rhotest, 2000, th = 1e-16)"
   ]
  },
  {
   "cell_type": "code",
   "execution_count": 148,
   "metadata": {},
   "outputs": [
    {
     "data": {
      "image/png": "[encoded data removed]",
      "text/plain": [
       "<Figure size 700x400 with 1 Axes>"
      ]
     },
     "metadata": {},
     "output_type": "display_data"
    }
   ],
   "source": [
    "fig, ax = plt.subplots(1,1, figsize=(7,4))\n",
    "ax.bar(bins_h, h, color = \"dimgray\", alpha = 0.5, label = \"True\")\n",
    "\n",
    "ax.scatter(np.arange(M), FSC_inferred_large.rho, color = \"darkgreen\", marker = \"D\", s = 20, label = \"Inferred (large number of trajectories)\")\n",
    "ax.scatter(np.arange(M), rhok_all[-1], color = \"blue\", marker = \"D\", s = 20, label = \"Inferred (CC)\")\n",
    "ax.scatter(np.arange(M), rhotest, color = \"red\", marker = \"D\", s = 20, label = \"Inferred (recursive)\")\n",
    "plt.show()"
   ]
  },
  {
   "cell_type": "code",
   "execution_count": 334,
   "metadata": {},
   "outputs": [],
   "source": [
    "import fun"
   ]
  },
  {
   "cell_type": "code",
   "execution_count": 346,
   "metadata": {},
   "outputs": [
    {
     "data": {
      "text/plain": [
       "array([[0.01820789, 0.01012034, 0.07676143, 0.0161795 , 0.01777436,\n",
       "        0.02829796],\n",
       "       [0.05832058, 0.18948692, 0.07055437, 0.06308196, 0.01720357,\n",
       "        0.07942623],\n",
       "       [0.00529874, 0.05616675, 0.02037813, 0.01131356, 0.02535925,\n",
       "        0.13009901],\n",
       "       [0.01806232, 0.01595567, 0.04432547, 0.05986452, 0.04524999,\n",
       "        0.03443719],\n",
       "       [0.15115602, 0.01828275, 0.0335523 , 0.10395058, 0.0202608 ,\n",
       "        0.01235253],\n",
       "       [0.06310931, 0.0418651 , 0.03668403, 0.02778298, 0.04203594,\n",
       "        0.03252538]])"
      ]
     },
     "execution_count": 346,
     "metadata": {},
     "output_type": "execute_result"
    }
   ],
   "source": [
    "FSC.TMat[0, :, :, 0]"
   ]
  },
  {
   "cell_type": "code",
   "execution_count": 351,
   "metadata": {},
   "outputs": [
    {
     "data": {
      "text/plain": [
       "array([[1.92931879e-265, 1.92931879e-265, 1.92931879e-265,\n",
       "        1.92931879e-265, 1.92931879e-265, 1.92931879e-265],\n",
       "       [1.66666667e-001, 1.66666667e-001, 1.66666667e-001,\n",
       "        1.66666667e-001, 1.66666667e-001, 1.66666667e-001],\n",
       "       [1.79789900e-187, 1.79789900e-187, 1.79789900e-187,\n",
       "        1.79789900e-187, 1.79789900e-187, 1.79789900e-187],\n",
       "       [0.00000000e+000, 0.00000000e+000, 0.00000000e+000,\n",
       "        0.00000000e+000, 0.00000000e+000, 0.00000000e+000],\n",
       "       [1.03611009e-243, 1.03611009e-243, 1.03611009e-243,\n",
       "        1.03611009e-243, 1.03611009e-243, 1.03611009e-243],\n",
       "       [1.08360253e-283, 1.08360253e-283, 1.08360253e-283,\n",
       "        1.08360253e-283, 1.08360253e-283, 1.08360253e-283]])"
      ]
     },
     "execution_count": 351,
     "metadata": {},
     "output_type": "execute_result"
    }
   ],
   "source": [
    "thetak = np.ones((Y, M, M, A))\n",
    "\n",
    "Tk = fun.softmax(thetak, axis = (2, 3))\n",
    "Tk = Tk[0, :, :, 0]\n",
    "\n",
    "for _ in range(1000):\n",
    "    norm = np.sum(np.dot(Tk.T, FSC.rho))\n",
    "\n",
    "    for mu in range(M):\n",
    "        for nu in range(M):\n",
    "            Tk[mu, nu] = Tk[mu, nu]*FSC.rho[mu]/norm\n",
    "\n",
    "Tk"
   ]
  },
  {
   "cell_type": "code",
   "execution_count": null,
   "metadata": {},
   "outputs": [
    {
     "data": {
      "text/plain": [
       "array([[[[9.05343818e-266, 1.16391415e-265, 8.24720217e-266],\n",
       "         [8.41464732e-134, 1.08179090e-133, 7.66529757e-134],\n",
       "         [8.73965298e-227, 1.12357378e-226, 7.96136050e-227],\n",
       "         [0.00000000e+000, 0.00000000e+000, 0.00000000e+000],\n",
       "         [6.63459618e-255, 8.52946715e-255, 6.04376536e-255],\n",
       "         [6.78494840e-275, 8.72276065e-275, 6.18072826e-275]],\n",
       "\n",
       "        [[8.41464732e-134, 1.08179090e-133, 7.66529757e-134],\n",
       "         [7.82092816e-002, 1.00546210e-001, 7.12445089e-002],\n",
       "         [8.12300213e-095, 1.04429686e-094, 7.39962426e-095],\n",
       "         [4.45523882e-295, 5.72767538e-295, 4.05848635e-295],\n",
       "         [6.16647354e-123, 7.92764655e-123, 5.61733045e-123],\n",
       "         [6.30621723e-143, 8.10730168e-143, 5.74462955e-143]],\n",
       "\n",
       "        [[8.73965298e-227, 1.12357378e-226, 7.96136050e-227],\n",
       "         [8.12300213e-095, 1.04429686e-094, 7.39962426e-095],\n",
       "         [8.43674334e-188, 1.08463158e-187, 7.68542587e-188],\n",
       "         [0.00000000e+000, 0.00000000e+000, 0.00000000e+000],\n",
       "         [6.40464618e-216, 8.23384239e-216, 5.83429310e-216],\n",
       "         [6.54978731e-236, 8.42043648e-236, 5.96650897e-236]],\n",
       "\n",
       "        [[0.00000000e+000, 0.00000000e+000, 0.00000000e+000],\n",
       "         [4.45523882e-295, 5.72767538e-295, 4.05848635e-295],\n",
       "         [0.00000000e+000, 0.00000000e+000, 0.00000000e+000],\n",
       "         [0.00000000e+000, 0.00000000e+000, 0.00000000e+000],\n",
       "         [0.00000000e+000, 0.00000000e+000, 0.00000000e+000],\n",
       "         [0.00000000e+000, 0.00000000e+000, 0.00000000e+000]],\n",
       "\n",
       "        [[6.63459618e-255, 8.52946715e-255, 6.04376536e-255],\n",
       "         [6.16647354e-123, 7.92764655e-123, 5.61733045e-123],\n",
       "         [6.40464618e-216, 8.23384239e-216, 5.83429310e-216],\n",
       "         [0.00000000e+000, 0.00000000e+000, 0.00000000e+000],\n",
       "         [4.86200553e-244, 6.25061651e-244, 4.42902925e-244],\n",
       "         [4.97218756e-264, 6.39226704e-264, 4.52939925e-264]],\n",
       "\n",
       "        [[6.78494840e-275, 8.72276065e-275, 6.18072826e-275],\n",
       "         [6.30621723e-143, 8.10730168e-143, 5.74462955e-143],\n",
       "         [6.54978731e-236, 8.42043648e-236, 5.96650897e-236],\n",
       "         [0.00000000e+000, 0.00000000e+000, 0.00000000e+000],\n",
       "         [4.97218756e-264, 6.39226704e-264, 4.52939925e-264],\n",
       "         [5.08486653e-284, 6.53712763e-284, 4.63204381e-284]]],\n",
       "\n",
       "\n",
       "       [[[9.71057661e-266, 8.23407131e-266, 1.09951339e-265],\n",
       "         [9.02541950e-134, 7.65309320e-134, 1.02193412e-133],\n",
       "         [9.37401550e-227, 7.94868474e-227, 1.06140510e-226],\n",
       "         [0.00000000e+000, 0.00000000e+000, 0.00000000e+000],\n",
       "         [7.11616440e-255, 6.03414272e-255, 8.05752156e-255],\n",
       "         [7.27742985e-275, 6.17088755e-275, 8.24011991e-275]],\n",
       "\n",
       "        [[9.02541950e-134, 7.65309320e-134, 1.02193412e-133],\n",
       "         [8.38860558e-002, 7.11310763e-002, 9.49828679e-002],\n",
       "         [8.71260541e-095, 7.38784288e-095, 9.86514673e-095],\n",
       "         [4.77861968e-295, 4.05202459e-295, 5.41075627e-295],\n",
       "         [6.61406336e-123, 5.60838677e-123, 7.48900041e-123],\n",
       "         [6.76395026e-143, 5.73548318e-143, 7.65871501e-143]],\n",
       "\n",
       "        [[9.37401550e-227, 7.94868474e-227, 1.06140510e-226],\n",
       "         [8.71260541e-095, 7.38784288e-095, 9.86514673e-095],\n",
       "         [9.04911934e-188, 7.67318945e-188, 1.02461762e-187],\n",
       "         [0.00000000e+000, 0.00000000e+000, 0.00000000e+000],\n",
       "         [6.86952362e-216, 5.82500398e-216, 7.77825407e-216],\n",
       "         [7.02519973e-236, 5.95700934e-236, 7.95452369e-236]],\n",
       "\n",
       "        [[0.00000000e+000, 0.00000000e+000, 0.00000000e+000],\n",
       "         [4.77861968e-295, 4.05202459e-295, 5.41075627e-295],\n",
       "         [0.00000000e+000, 0.00000000e+000, 0.00000000e+000],\n",
       "         [0.00000000e+000, 0.00000000e+000, 0.00000000e+000],\n",
       "         [0.00000000e+000, 0.00000000e+000, 0.00000000e+000],\n",
       "         [0.00000000e+000, 0.00000000e+000, 0.00000000e+000]],\n",
       "\n",
       "        [[7.11616440e-255, 6.03414272e-255, 8.05752156e-255],\n",
       "         [6.61406336e-123, 5.60838677e-123, 7.48900041e-123],\n",
       "         [6.86952362e-216, 5.82500398e-216, 7.77825407e-216],\n",
       "         [0.00000000e+000, 0.00000000e+000, 0.00000000e+000],\n",
       "         [5.21491131e-244, 4.42197753e-244, 5.90476245e-244],\n",
       "         [5.33309084e-264, 4.52218772e-264, 6.03857528e-264]],\n",
       "\n",
       "        [[7.27742985e-275, 6.17088755e-275, 8.24011991e-275],\n",
       "         [6.76395026e-143, 5.73548318e-143, 7.65871501e-143],\n",
       "         [7.02519973e-236, 5.95700934e-236, 7.95452369e-236],\n",
       "         [0.00000000e+000, 0.00000000e+000, 0.00000000e+000],\n",
       "         [5.33309084e-264, 4.52218772e-264, 6.03857528e-264],\n",
       "         [5.45394854e-284, 4.62466886e-284, 6.17542057e-284]]],\n",
       "\n",
       "\n",
       "       [[[1.19452636e-265, 8.27609133e-266, 8.71842695e-266],\n",
       "         [1.11024318e-133, 7.69214837e-134, 8.10327375e-134],\n",
       "         [1.15312499e-226, 7.98924838e-227, 8.41625298e-227],\n",
       "         [0.00000000e+000, 0.00000000e+000, 0.00000000e+000],\n",
       "         [8.75380141e-255, 6.06493608e-255, 6.38909119e-255],\n",
       "         [8.95217874e-275, 6.20237875e-275, 6.53387981e-275]],\n",
       "\n",
       "        [[1.11024318e-133, 7.69214837e-134, 8.10327375e-134],\n",
       "         [1.03190684e-001, 7.14940715e-002, 7.53152442e-002],\n",
       "         [1.07176301e-094, 7.42554443e-095, 7.82242052e-095],\n",
       "         [5.87831947e-295, 4.07270284e-295, 4.29037824e-295],\n",
       "         [8.13615227e-123, 5.63700742e-123, 5.93829085e-123],\n",
       "         [8.32053253e-143, 5.76475243e-143, 6.07286350e-143]],\n",
       "\n",
       "        [[1.15312499e-226, 7.98924838e-227, 8.41625298e-227],\n",
       "         [1.07176301e-094, 7.42554443e-095, 7.82242052e-095],\n",
       "         [1.11315857e-187, 7.71234718e-188, 8.12455213e-188],\n",
       "         [0.00000000e+000, 0.00000000e+000, 0.00000000e+000],\n",
       "         [8.45040139e-216, 5.85473007e-216, 6.16765021e-216],\n",
       "         [8.64190312e-236, 5.98740908e-236, 6.30742057e-236]],\n",
       "\n",
       "        [[0.00000000e+000, 0.00000000e+000, 0.00000000e+000],\n",
       "         [5.87831947e-295, 4.07270284e-295, 4.29037824e-295],\n",
       "         [0.00000000e+000, 0.00000000e+000, 0.00000000e+000],\n",
       "         [0.00000000e+000, 0.00000000e+000, 0.00000000e+000],\n",
       "         [0.00000000e+000, 0.00000000e+000, 0.00000000e+000],\n",
       "         [0.00000000e+000, 0.00000000e+000, 0.00000000e+000]],\n",
       "\n",
       "        [[8.75380141e-255, 6.06493608e-255, 6.38909119e-255],\n",
       "         [8.13615227e-123, 5.63700742e-123, 5.93829085e-123],\n",
       "         [8.45040139e-216, 5.85473007e-216, 6.16765021e-216],\n",
       "         [0.00000000e+000, 0.00000000e+000, 0.00000000e+000],\n",
       "         [6.41501452e-244, 4.44454371e-244, 4.68209305e-244],\n",
       "         [6.56039061e-264, 4.54526530e-264, 4.78819794e-264]],\n",
       "\n",
       "        [[8.95217874e-275, 6.20237875e-275, 6.53387981e-275],\n",
       "         [8.32053253e-143, 5.76475243e-143, 6.07286350e-143],\n",
       "         [8.64190312e-236, 5.98740908e-236, 6.30742057e-236],\n",
       "         [0.00000000e+000, 0.00000000e+000, 0.00000000e+000],\n",
       "         [6.56039061e-264, 4.54526530e-264, 4.78819794e-264],\n",
       "         [6.70906120e-284, 4.64826941e-284, 4.89670736e-284]]],\n",
       "\n",
       "\n",
       "       [[[7.53885426e-266, 7.35579335e-266, 1.40451342e-265],\n",
       "         [7.00692914e-134, 6.83678461e-134, 1.30541402e-133],\n",
       "         [7.27756337e-227, 7.10084722e-227, 1.35583407e-226],\n",
       "         [0.00000000e+000, 0.00000000e+000, 0.00000000e+000],\n",
       "         [5.52466948e-255, 5.39051767e-255, 1.02926415e-254],\n",
       "         [5.64986871e-275, 5.51267677e-275, 1.05258918e-274]],\n",
       "\n",
       "        [[7.00692914e-134, 6.83678461e-134, 1.30541402e-133],\n",
       "         [6.51253550e-002, 6.35439600e-002, 1.21330685e-001],\n",
       "         [6.76407437e-095, 6.59982692e-095, 1.26016937e-094],\n",
       "         [3.70990506e-295, 3.61981995e-295, 6.91167554e-295],\n",
       "         [5.13486085e-123, 5.01017450e-123, 9.56641519e-123],\n",
       "         [5.25122630e-143, 5.12371432e-143, 9.78320785e-143]],\n",
       "\n",
       "        [[7.27756337e-227, 7.10084722e-227, 1.35583407e-226],\n",
       "         [6.76407437e-095, 6.59982692e-095, 1.26016937e-094],\n",
       "         [7.02532863e-188, 6.85473732e-188, 1.30884190e-187],\n",
       "         [0.00000000e+000, 0.00000000e+000, 0.00000000e+000],\n",
       "         [5.33318869e-216, 5.20368648e-216, 9.93590650e-216],\n",
       "         [5.45404861e-236, 5.32161164e-236, 1.01610725e-235]],\n",
       "\n",
       "        [[0.00000000e+000, 0.00000000e+000, 0.00000000e+000],\n",
       "         [3.70990506e-295, 3.61981995e-295, 6.91167554e-295],\n",
       "         [0.00000000e+000, 0.00000000e+000, 0.00000000e+000],\n",
       "         [0.00000000e+000, 0.00000000e+000, 0.00000000e+000],\n",
       "         [0.00000000e+000, 0.00000000e+000, 0.00000000e+000],\n",
       "         [0.00000000e+000, 0.00000000e+000, 0.00000000e+000]],\n",
       "\n",
       "        [[5.52466948e-255, 5.39051767e-255, 1.02926415e-254],\n",
       "         [5.13486085e-123, 5.01017450e-123, 9.56641519e-123],\n",
       "         [5.33318869e-216, 5.20368648e-216, 9.93590650e-216],\n",
       "         [0.00000000e+000, 0.00000000e+000, 0.00000000e+000],\n",
       "         [4.04862223e-244, 3.95031227e-244, 7.54271679e-244],\n",
       "         [4.14037149e-264, 4.03983365e-264, 7.71364870e-264]],\n",
       "\n",
       "        [[5.64986871e-275, 5.51267677e-275, 1.05258918e-274],\n",
       "         [5.25122630e-143, 5.12371432e-143, 9.78320785e-143],\n",
       "         [5.45404861e-236, 5.32161164e-236, 1.01610725e-235],\n",
       "         [0.00000000e+000, 0.00000000e+000, 0.00000000e+000],\n",
       "         [4.14037149e-264, 4.03983365e-264, 7.71364870e-264],\n",
       "         [4.23419997e-284, 4.13138375e-284, 7.88845425e-284]]]])"
      ]
     },
     "execution_count": 344,
     "metadata": {},
     "output_type": "execute_result"
    }
   ],
   "source": [
    "thetak = np.ones((Y, M, M, A))\n",
    "\n",
    "Tk = fun.softmax(thetak, axis = (2, 3))\n",
    "\n",
    "for _ in range(1000):\n",
    "    for y in range(Y):\n",
    "        for a in range(A):\n",
    "            Tcurr = Tk[y, :, :, a]\n",
    "            norm = np.sum(np.dot(Tcurr.T, FSC.rho))\n",
    "\n",
    "            Tk[y, :, :, a] = pya[y, a]*(Tcurr.T*FSC.rho)/norm\n",
    "\n",
    "Tk"
   ]
  }
 ],
 "metadata": {
  "kernelspec": {
   "display_name": "torch",
   "language": "python",
   "name": "python3"
  },
  "language_info": {
   "codemirror_mode": {
    "name": "ipython",
    "version": 3
   },
   "file_extension": ".py",
   "mimetype": "text/x-python",
   "name": "python",
   "nbconvert_exporter": "python",
   "pygments_lexer": "ipython3",
   "version": "3.12.7"
  }
 },
 "nbformat": 4,
 "nbformat_minor": 2
}
