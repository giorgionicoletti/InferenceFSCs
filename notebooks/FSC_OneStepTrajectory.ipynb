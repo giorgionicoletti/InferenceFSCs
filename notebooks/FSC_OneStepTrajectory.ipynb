{
 "cells": [
  {
   "cell_type": "code",
   "execution_count": 1,
   "metadata": {},
   "outputs": [],
   "source": [
    "%load_ext autoreload\n",
    "%autoreload 2"
   ]
  },
  {
   "cell_type": "code",
   "execution_count": 2,
   "metadata": {},
   "outputs": [],
   "source": [
    "import numpy as np\n",
    "import matplotlib.pyplot as plt\n",
    "\n",
    "import sys\n",
    "sys.path.append('../modules')\n",
    "from FSC import GenerationDiscreteObs as FSC_DiscreteObs\n",
    "from FSC import InferenceDiscreteObs as FSC_InferenceDiscreteObs\n",
    "from FSC_DoubleGrad import InferenceDiscreteObs as FSC_DoubleGrad_InferenceDiscreteObs\n",
    "import ObsModels "
   ]
  },
  {
   "cell_type": "code",
   "execution_count": 3,
   "metadata": {},
   "outputs": [],
   "source": [
    "# set matplotlib font to avenir\n",
    "plt.rcParams['font.family'] = 'sans-serif'\n",
    "plt.rcParams['font.sans-serif'] = 'Avenir'"
   ]
  },
  {
   "cell_type": "markdown",
   "metadata": {},
   "source": [
    "# Finite State Controller with $M = 2$, $A = 2$, $Y = 2$"
   ]
  },
  {
   "cell_type": "markdown",
   "metadata": {},
   "source": [
    "# Observations, one step"
   ]
  },
  {
   "cell_type": "code",
   "execution_count": 33,
   "metadata": {},
   "outputs": [],
   "source": [
    "NStepsObs = 1\n",
    "NTraj = 500\n",
    "Y = 2\n",
    "RateMatrixObs = np.ones((Y,Y))\n",
    "RateMatrixObs = RateMatrixObs + 2*np.eye(Y)\n",
    "\n",
    "observations = ObsModels.DiscreteMarkovChain(NTraj, NStepsObs, RateMatrixObs, initial_seed = 0)"
   ]
  },
  {
   "cell_type": "code",
   "execution_count": 34,
   "metadata": {},
   "outputs": [
    {
     "name": "stdout",
     "output_type": "stream",
     "text": [
      "Initializing FSC with 2 memory states, 2 actions, and 2 observations.\n"
     ]
    }
   ],
   "source": [
    "M = 2\n",
    "A = 2\n",
    "\n",
    "np.random.seed(0)\n",
    "Theta = np.random.randn(Y, M, M, A)\n",
    "\n",
    "Psi = np.array([1, 1])\n",
    "\n",
    "FSC = FSC_DiscreteObs(Theta, Psi, verbose = True)"
   ]
  },
  {
   "cell_type": "code",
   "execution_count": 35,
   "metadata": {},
   "outputs": [],
   "source": [
    "FSC.load_observations(observations)"
   ]
  },
  {
   "cell_type": "code",
   "execution_count": 36,
   "metadata": {},
   "outputs": [],
   "source": [
    "NSteps = NStepsObs\n",
    "trajectories = FSC.generate_trajectories(NSteps)\n",
    "Time = np.arange(NSteps)"
   ]
  },
  {
   "cell_type": "code",
   "execution_count": 37,
   "metadata": {},
   "outputs": [
    {
     "data": {
      "image/png": "[encoded data removed]",
      "text/plain": [
       "<Figure size 600x300 with 1 Axes>"
      ]
     },
     "metadata": {},
     "output_type": "display_data"
    }
   ],
   "source": [
    "initial_memories = np.array([tr[\"memories\"][0] for tr in trajectories])\n",
    "\n",
    "fig, ax = plt.subplots(1,1, figsize=(6,3))\n",
    "\n",
    "h, bins_h = np.histogram(initial_memories.flatten(), bins = np.arange(-0.5, M+0.5, 1))\n",
    "h = h/np.sum(h)\n",
    "bins_h = (bins_h[1:] + bins_h[:-1])/2\n",
    "\n",
    "ax.bar(bins_h, h, width = 0.8, color = 'dimgray', alpha = 0.5)\n",
    "\n",
    "ax.set_xlabel('Initial Memories')\n",
    "ax.set_ylabel('Frequency')\n",
    "\n",
    "ax.set_xticks(np.arange(0, M, 1))\n",
    "\n",
    "ax.set_title('Initial memory distribution of the trajectories')\n",
    "\n",
    "plt.show()"
   ]
  },
  {
   "cell_type": "code",
   "execution_count": 38,
   "metadata": {},
   "outputs": [
    {
     "data": {
      "text/plain": [
       "0.4169199915511197"
      ]
     },
     "execution_count": 38,
     "metadata": {},
     "output_type": "execute_result"
    }
   ],
   "source": [
    "FSC.evaluate_nloglikelihood(trajectories[0])"
   ]
  },
  {
   "cell_type": "markdown",
   "metadata": {},
   "source": [
    "### Inference (gradient-based)"
   ]
  },
  {
   "cell_type": "code",
   "execution_count": 39,
   "metadata": {},
   "outputs": [
    {
     "data": {
      "text/plain": [
       "tensor(0.6199, device='mps:0', grad_fn=<SubBackward0>)"
      ]
     },
     "execution_count": 39,
     "metadata": {},
     "output_type": "execute_result"
    }
   ],
   "source": [
    "FSC_tofit = FSC_InferenceDiscreteObs(M, A, Y, seed = 123)\n",
    "FSC_tofit.load_theta(Theta.astype(np.float32))\n",
    "FSC_tofit.load_trajectories(trajectories)\n",
    "FSC_tofit.evaluate_nloglikelihood(idx_traj = 0)"
   ]
  },
  {
   "cell_type": "code",
   "execution_count": 40,
   "metadata": {},
   "outputs": [],
   "source": [
    "psi_pre_fit = FSC_tofit.psi.detach().cpu().numpy()\n",
    "rho_pre_fit = FSC_tofit.rho.detach().cpu().numpy()"
   ]
  },
  {
   "cell_type": "code",
   "execution_count": 41,
   "metadata": {},
   "outputs": [],
   "source": [
    "MSE = FSC_tofit.optimize_psionly(method = 'L-BFGS-B')"
   ]
  },
  {
   "cell_type": "markdown",
   "metadata": {},
   "source": [
    "### Inference (SGD)"
   ]
  },
  {
   "cell_type": "code",
   "execution_count": 42,
   "metadata": {},
   "outputs": [
    {
     "data": {
      "text/plain": [
       "tensor(0.1349, device='mps:0', grad_fn=<SubBackward0>)"
      ]
     },
     "execution_count": 42,
     "metadata": {},
     "output_type": "execute_result"
    }
   ],
   "source": [
    "FSC_SDG = FSC_DoubleGrad_InferenceDiscreteObs(M, A, Y, seed = 1234)\n",
    "FSC_SDG.load_theta(Theta.astype(np.float32))\n",
    "FSC_SDG.load_trajectories(trajectories)\n",
    "FSC_SDG.evaluate_nloglikelihood(idx_traj = 0)"
   ]
  },
  {
   "cell_type": "code",
   "execution_count": 43,
   "metadata": {},
   "outputs": [],
   "source": [
    "psi_pre_fit_SDG = FSC_SDG.psi.detach().cpu().numpy()\n",
    "rho_pre_fit_SDG = FSC_SDG.rho.detach().cpu().numpy()"
   ]
  },
  {
   "cell_type": "code",
   "execution_count": 44,
   "metadata": {},
   "outputs": [
    {
     "name": "stdout",
     "output_type": "stream",
     "text": [
      "Training with 400 trajectories and validating with 100 trajectories.\n",
      "Epoch 1 - Training loss: 0.7374905967712402, Validation loss: 0.7035907366871834 - Learning rate: 0.1\n",
      "Epoch 2 - Training loss: 0.7280765342712403, Validation loss: 0.6937593612074852 - Learning rate: 0.09000000000000001\n",
      "Epoch 3 - Training loss: 0.7144135093688965, Validation loss: 0.6795176857709885 - Learning rate: 0.08100000000000002\n",
      "Epoch 4 - Training loss: 0.6937646293640137, Validation loss: 0.6632929672300816 - Learning rate: 0.07290000000000002\n",
      "Epoch 5 - Training loss: 0.6761819648742675, Validation loss: 0.6496004423499108 - Learning rate: 0.06561000000000002\n",
      "Epoch 6 - Training loss: 0.6611312198638917, Validation loss: 0.6437498855590821 - Learning rate: 0.05904900000000002\n",
      "Epoch 7 - Training loss: 0.6579535675048828, Validation loss: 0.6446726846694947 - Learning rate: 0.05314410000000002\n",
      "Epoch 8 - Training loss: 0.6583479881286621, Validation loss: 0.6473491996526718 - Learning rate: 0.04782969000000002\n",
      "Epoch 9 - Training loss: 0.659872932434082, Validation loss: 0.6491121506690979 - Learning rate: 0.043046721000000024\n",
      "Epoch 10 - Training loss: 0.6602335739135743, Validation loss: 0.649030502140522 - Learning rate: 0.03874204890000002\n",
      "Epoch 11 - Training loss: 0.6597955513000489, Validation loss: 0.6480594030022622 - Learning rate: 0.03486784401000002\n",
      "Epoch 12 - Training loss: 0.6590329170227052, Validation loss: 0.6471311953663826 - Learning rate: 0.03138105960900001\n",
      "Epoch 13 - Training loss: 0.6588034343719482, Validation loss: 0.6459430187940598 - Learning rate: 0.028242953648100012\n",
      "Epoch 14 - Training loss: 0.6583449554443359, Validation loss: 0.6452494353055954 - Learning rate: 0.025418658283290013\n",
      "Epoch 15 - Training loss: 0.6584168243408204, Validation loss: 0.6446838098764419 - Learning rate: 0.022876792454961013\n",
      "Epoch 16 - Training loss: 0.6584303092956543, Validation loss: 0.6443523249030113 - Learning rate: 0.020589113209464913\n",
      "Epoch 17 - Training loss: 0.6582681274414063, Validation loss: 0.644279417693615 - Learning rate: 0.01853020188851842\n",
      "Epoch 18 - Training loss: 0.6583376026153565, Validation loss: 0.6441653880476952 - Learning rate: 0.01667718169966658\n",
      "Epoch 19 - Training loss: 0.6582937240600586, Validation loss: 0.6441513380408287 - Learning rate: 0.015009463529699923\n",
      "Epoch 20 - Training loss: 0.6582896232604981, Validation loss: 0.6441798040270805 - Learning rate: 0.013508517176729932\n",
      "Epoch 21 - Training loss: 0.6583463287353516, Validation loss: 0.6442748874425888 - Learning rate: 0.01215766545905694\n",
      "Epoch 22 - Training loss: 0.6582877922058106, Validation loss: 0.6443030422925949 - Learning rate: 0.010941898913151246\n",
      "Epoch 23 - Training loss: 0.6582723999023438, Validation loss: 0.6443112829327583 - Learning rate: 0.009847709021836121\n",
      "Epoch 24 - Training loss: 0.6582715129852295, Validation loss: 0.6443187525868416 - Learning rate: 0.00886293811965251\n",
      "Epoch 25 - Training loss: 0.6582809352874757, Validation loss: 0.6443300291895866 - Learning rate: 0.007976644307687259\n",
      "Epoch 26 - Training loss: 0.6582792282104493, Validation loss: 0.6443549889326096 - Learning rate: 0.007178979876918534\n",
      "Epoch 27 - Training loss: 0.6582959461212158, Validation loss: 0.6443881297111511 - Learning rate: 0.006461081889226681\n",
      "Epoch 28 - Training loss: 0.6582668018341065, Validation loss: 0.6443958303332329 - Learning rate: 0.005814973700304013\n",
      "Epoch 29 - Training loss: 0.6582628059387208, Validation loss: 0.6443931207060813 - Learning rate: 0.005233476330273611\n",
      "Epoch 30 - Training loss: 0.6582618141174317, Validation loss: 0.6443940019607544 - Learning rate: 0.00471012869724625\n",
      "Epoch 31 - Training loss: 0.6582861995697022, Validation loss: 0.6444158932566643 - Learning rate: 0.004239115827521626\n",
      "Epoch 32 - Training loss: 0.6582691287994384, Validation loss: 0.6444123283028602 - Learning rate: 0.0038152042447694634\n",
      "Epoch 33 - Training loss: 0.6582763671874999, Validation loss: 0.6443961378931999 - Learning rate: 0.003433683820292517\n",
      "Epoch 34 - Training loss: 0.6582627296447754, Validation loss: 0.6444032964110374 - Learning rate: 0.0030903154382632653\n",
      "Epoch 35 - Training loss: 0.6582669639587403, Validation loss: 0.6443997639417648 - Learning rate: 0.002781283894436939\n",
      "Epoch 36 - Training loss: 0.6582677268981934, Validation loss: 0.6444117149710655 - Learning rate: 0.002503155504993245\n",
      "Epoch 37 - Training loss: 0.6582644653320312, Validation loss: 0.6444103026390076 - Learning rate: 0.0022528399544939205\n",
      "Epoch 38 - Training loss: 0.6582626628875732, Validation loss: 0.6444156756997108 - Learning rate: 0.0020275559590445286\n",
      "Epoch 39 - Training loss: 0.6582690715789795, Validation loss: 0.6444081521034241 - Learning rate: 0.0018248003631400759\n",
      "Epoch 40 - Training loss: 0.6582618236541748, Validation loss: 0.6444162395596504 - Learning rate: 0.0016423203268260682\n",
      "Best validation loss: 0.6437498855590821 reached at epoch 6\n"
     ]
    }
   ],
   "source": [
    "tloss, vloss = FSC_SDG.optimize_psionly(NEpochs = 40, NBatch = 100, lr = 0.1, gamma = 0.9)"
   ]
  },
  {
   "cell_type": "markdown",
   "metadata": {},
   "source": [
    "### Comparison"
   ]
  },
  {
   "cell_type": "code",
   "execution_count": 45,
   "metadata": {},
   "outputs": [
    {
     "name": "stdout",
     "output_type": "stream",
     "text": [
      "Initializing FSC with 2 memory states, 2 actions, and 2 observations.\n",
      "Initializing FSC with 2 memory states, 2 actions, and 2 observations.\n"
     ]
    }
   ],
   "source": [
    "FSC_inferred = FSC_DiscreteObs(FSC_tofit.theta.detach().cpu().double().numpy(),\n",
    "                               FSC_tofit.psi.detach().cpu().double().numpy(), verbose = True)\n",
    "\n",
    "FSC_inferred_SDG = FSC_DiscreteObs(FSC_SDG.theta.detach().cpu().double().numpy(),\n",
    "                                 FSC_SDG.psi.detach().cpu().double().numpy(), verbose = True)"
   ]
  },
  {
   "cell_type": "code",
   "execution_count": 46,
   "metadata": {},
   "outputs": [
    {
     "data": {
      "image/png": "[encoded data removed]",
      "text/plain": [
       "<Figure size 700x400 with 1 Axes>"
      ]
     },
     "metadata": {},
     "output_type": "display_data"
    }
   ],
   "source": [
    "fig, ax = plt.subplots(1,1, figsize=(7,4))\n",
    "ax.bar(bins_h, h, color = \"dimgray\", alpha = 0.5, label = \"True\")\n",
    "\n",
    "ax.scatter(np.arange(M), FSC_inferred_SDG.rho, color = \"darkred\", marker = \"D\", s = 50, label = \"Inferred SDG\", alpha = 0.5)\n",
    "ax.scatter(np.arange(M), rho_pre_fit_SDG, color = \"darkred\", marker = \"x\", s = 50, label = \"Pre-fit SDG\", alpha = 0.5)\n",
    "\n",
    "ax.scatter(np.arange(M), FSC_inferred.rho, color = \"black\", marker = \"D\", s = 50, label = \"Inferred\")\n",
    "ax.scatter(np.arange(M), rho_pre_fit, color = \"black\", marker = \"x\", s = 50, label = \"Pre-fit\")\n",
    "\n",
    "\n",
    "ax.set_xlabel(\"$m$\", fontsize = 15)\n",
    "ax.set_ylabel(\"$\\\\rho_m$\", fontsize = 15)\n",
    "\n",
    "ax.tick_params(axis='both', which='major', labelsize=12)\n",
    "\n",
    "plt.legend(fontsize = 14, bbox_to_anchor=(1.05, 1), loc='upper left')\n",
    "\n",
    "plt.show()"
   ]
  },
  {
   "cell_type": "markdown",
   "metadata": {},
   "source": [
    "# Finite State Controller with $M = 2$, $A = 2$, $Y = 2$"
   ]
  },
  {
   "cell_type": "markdown",
   "metadata": {},
   "source": [
    "# Observations, one step"
   ]
  },
  {
   "cell_type": "code",
   "execution_count": 47,
   "metadata": {},
   "outputs": [],
   "source": [
    "NStepsObs = 1\n",
    "NTraj = 500\n",
    "Y = 5\n",
    "RateMatrixObs = np.ones((Y,Y))\n",
    "RateMatrixObs = RateMatrixObs + 2*np.eye(Y)\n",
    "\n",
    "observations = ObsModels.DiscreteMarkovChain(NTraj, NStepsObs, RateMatrixObs, initial_seed = 0)"
   ]
  },
  {
   "cell_type": "code",
   "execution_count": 48,
   "metadata": {},
   "outputs": [
    {
     "name": "stdout",
     "output_type": "stream",
     "text": [
      "Initializing FSC with 2 memory states, 2 actions, and 5 observations.\n"
     ]
    }
   ],
   "source": [
    "M = 2\n",
    "A = 2\n",
    "\n",
    "np.random.seed(9)\n",
    "Theta = np.random.randn(Y, M, M, A)\n",
    "\n",
    "Psi = np.array([1.25, 1])\n",
    "\n",
    "FSC = FSC_DiscreteObs(Theta, Psi, verbose = True)"
   ]
  },
  {
   "cell_type": "code",
   "execution_count": 49,
   "metadata": {},
   "outputs": [],
   "source": [
    "FSC.load_observations(observations)"
   ]
  },
  {
   "cell_type": "code",
   "execution_count": 50,
   "metadata": {},
   "outputs": [],
   "source": [
    "NSteps = NStepsObs\n",
    "trajectories = FSC.generate_trajectories(NSteps)\n",
    "Time = np.arange(NSteps)"
   ]
  },
  {
   "cell_type": "code",
   "execution_count": 51,
   "metadata": {},
   "outputs": [
    {
     "data": {
      "image/png": "[encoded data removed]",
      "text/plain": [
       "<Figure size 600x300 with 1 Axes>"
      ]
     },
     "metadata": {},
     "output_type": "display_data"
    }
   ],
   "source": [
    "initial_memories = np.array([tr[\"memories\"][0] for tr in trajectories])\n",
    "\n",
    "fig, ax = plt.subplots(1,1, figsize=(6,3))\n",
    "\n",
    "h, bins_h = np.histogram(initial_memories.flatten(), bins = np.arange(-0.5, M+0.5, 1))\n",
    "h = h/np.sum(h)\n",
    "bins_h = (bins_h[1:] + bins_h[:-1])/2\n",
    "\n",
    "ax.bar(bins_h, h, width = 0.8, color = 'dimgray', alpha = 0.5)\n",
    "\n",
    "ax.set_xlabel('Initial Memories')\n",
    "ax.set_ylabel('Frequency')\n",
    "\n",
    "ax.set_xticks(np.arange(0, M, 1))\n",
    "\n",
    "ax.set_title('Initial memory distribution of the trajectories')\n",
    "\n",
    "plt.show()"
   ]
  },
  {
   "cell_type": "code",
   "execution_count": 52,
   "metadata": {},
   "outputs": [
    {
     "data": {
      "text/plain": [
       "0.5221538198822843"
      ]
     },
     "execution_count": 52,
     "metadata": {},
     "output_type": "execute_result"
    }
   ],
   "source": [
    "FSC.evaluate_nloglikelihood(trajectories[0])"
   ]
  },
  {
   "cell_type": "markdown",
   "metadata": {},
   "source": [
    "### Inference (gradient-based)"
   ]
  },
  {
   "cell_type": "code",
   "execution_count": 53,
   "metadata": {},
   "outputs": [
    {
     "data": {
      "text/plain": [
       "tensor(0.4661, device='mps:0', grad_fn=<SubBackward0>)"
      ]
     },
     "execution_count": 53,
     "metadata": {},
     "output_type": "execute_result"
    }
   ],
   "source": [
    "FSC_tofit = FSC_InferenceDiscreteObs(M, A, Y, seed = 123)\n",
    "FSC_tofit.load_theta(Theta.astype(np.float32))\n",
    "FSC_tofit.load_trajectories(trajectories)\n",
    "FSC_tofit.evaluate_nloglikelihood(idx_traj = 0)"
   ]
  },
  {
   "cell_type": "code",
   "execution_count": 54,
   "metadata": {},
   "outputs": [],
   "source": [
    "psi_pre_fit = FSC_tofit.psi.detach().cpu().numpy()\n",
    "rho_pre_fit = FSC_tofit.rho.detach().cpu().numpy()"
   ]
  },
  {
   "cell_type": "code",
   "execution_count": 55,
   "metadata": {},
   "outputs": [],
   "source": [
    "MSE = FSC_tofit.optimize_psionly(method = 'L-BFGS-B')"
   ]
  },
  {
   "cell_type": "markdown",
   "metadata": {},
   "source": [
    "### Inference (SGD)"
   ]
  },
  {
   "cell_type": "code",
   "execution_count": 56,
   "metadata": {},
   "outputs": [
    {
     "data": {
      "text/plain": [
       "tensor(0.6837, device='mps:0', grad_fn=<SubBackward0>)"
      ]
     },
     "execution_count": 56,
     "metadata": {},
     "output_type": "execute_result"
    }
   ],
   "source": [
    "FSC_SDG = FSC_DoubleGrad_InferenceDiscreteObs(M, A, Y, seed = 1234)\n",
    "FSC_SDG.load_theta(Theta.astype(np.float32))\n",
    "FSC_SDG.load_trajectories(trajectories)\n",
    "FSC_SDG.evaluate_nloglikelihood(idx_traj = 0)"
   ]
  },
  {
   "cell_type": "code",
   "execution_count": 57,
   "metadata": {},
   "outputs": [],
   "source": [
    "psi_pre_fit_SDG = FSC_SDG.psi.detach().cpu().numpy()\n",
    "rho_pre_fit_SDG = FSC_SDG.rho.detach().cpu().numpy()"
   ]
  },
  {
   "cell_type": "code",
   "execution_count": 58,
   "metadata": {},
   "outputs": [
    {
     "name": "stdout",
     "output_type": "stream",
     "text": [
      "Training with 400 trajectories and validating with 100 trajectories.\n",
      "Epoch 1 - Training loss: 0.728818702697754, Validation loss: 0.6865628986060619 - Learning rate: 0.1\n",
      "Epoch 2 - Training loss: 0.7235995483398437, Validation loss: 0.6826292832195758 - Learning rate: 0.09000000000000001\n",
      "Epoch 3 - Training loss: 0.715342674255371, Validation loss: 0.6767974725365639 - Learning rate: 0.08100000000000002\n",
      "Epoch 4 - Training loss: 0.7034136581420898, Validation loss: 0.6698718407750129 - Learning rate: 0.07290000000000002\n",
      "Epoch 5 - Training loss: 0.6905438423156738, Validation loss: 0.6632894855737687 - Learning rate: 0.06561000000000002\n",
      "Epoch 6 - Training loss: 0.6800711250305175, Validation loss: 0.6590393370389939 - Learning rate: 0.05904900000000002\n",
      "Epoch 7 - Training loss: 0.6749823379516601, Validation loss: 0.658060359954834 - Learning rate: 0.05314410000000002\n",
      "Epoch 8 - Training loss: 0.6727805709838868, Validation loss: 0.6592281693220139 - Learning rate: 0.04782969000000002\n",
      "Epoch 9 - Training loss: 0.6731492805480956, Validation loss: 0.6608389902114868 - Learning rate: 0.043046721000000024\n",
      "Epoch 10 - Training loss: 0.6727290725708008, Validation loss: 0.6614490419626236 - Learning rate: 0.03874204890000002\n",
      "Epoch 11 - Training loss: 0.6730082321166992, Validation loss: 0.6617392671108245 - Learning rate: 0.03486784401000002\n",
      "Epoch 12 - Training loss: 0.6729448699951173, Validation loss: 0.6615401363372803 - Learning rate: 0.03138105960900001\n",
      "Epoch 13 - Training loss: 0.672758960723877, Validation loss: 0.6611545634269714 - Learning rate: 0.028242953648100012\n",
      "Epoch 14 - Training loss: 0.672724437713623, Validation loss: 0.6606261706352234 - Learning rate: 0.025418658283290013\n",
      "Epoch 15 - Training loss: 0.6723857116699219, Validation loss: 0.6603538274765015 - Learning rate: 0.022876792454961013\n",
      "Epoch 16 - Training loss: 0.6723268699645997, Validation loss: 0.6600746738910676 - Learning rate: 0.020589113209464913\n",
      "Epoch 17 - Training loss: 0.6723593521118163, Validation loss: 0.6597919574379921 - Learning rate: 0.01853020188851842\n",
      "Epoch 18 - Training loss: 0.6722224617004395, Validation loss: 0.6596517074108124 - Learning rate: 0.01667718169966658\n",
      "Epoch 19 - Training loss: 0.6721955299377442, Validation loss: 0.6595718061923981 - Learning rate: 0.015009463529699923\n",
      "Epoch 20 - Training loss: 0.6722034454345702, Validation loss: 0.659539729654789 - Learning rate: 0.013508517176729932\n",
      "Epoch 21 - Training loss: 0.6721967124938965, Validation loss: 0.6594564759731293 - Learning rate: 0.01215766545905694\n",
      "Epoch 22 - Training loss: 0.6721866035461426, Validation loss: 0.6594398564100266 - Learning rate: 0.010941898913151246\n",
      "Epoch 23 - Training loss: 0.6723036575317384, Validation loss: 0.6593190571665763 - Learning rate: 0.009847709021836121\n",
      "Epoch 24 - Training loss: 0.6721924781799317, Validation loss: 0.6593340516090394 - Learning rate: 0.00886293811965251\n",
      "Epoch 25 - Training loss: 0.6721916961669923, Validation loss: 0.6593447804450989 - Learning rate: 0.007976644307687259\n",
      "Epoch 26 - Training loss: 0.6721925163269042, Validation loss: 0.6593142092227936 - Learning rate: 0.007178979876918534\n",
      "Epoch 27 - Training loss: 0.6721842575073241, Validation loss: 0.6593172091245652 - Learning rate: 0.006461081889226681\n",
      "Epoch 28 - Training loss: 0.6721880912780761, Validation loss: 0.6593231499195099 - Learning rate: 0.005814973700304013\n",
      "Epoch 29 - Training loss: 0.6721880531311035, Validation loss: 0.6593317791819573 - Learning rate: 0.005233476330273611\n",
      "Epoch 30 - Training loss: 0.6721885871887207, Validation loss: 0.6593112820386886 - Learning rate: 0.00471012869724625\n",
      "Epoch 31 - Training loss: 0.6721868896484375, Validation loss: 0.6593001058697701 - Learning rate: 0.004239115827521626\n",
      "Epoch 32 - Training loss: 0.6721892547607422, Validation loss: 0.6593079054355622 - Learning rate: 0.0038152042447694634\n",
      "Epoch 33 - Training loss: 0.6721830558776856, Validation loss: 0.6593119513988495 - Learning rate: 0.003433683820292517\n",
      "Epoch 34 - Training loss: 0.6721850776672363, Validation loss: 0.6593082109093666 - Learning rate: 0.0030903154382632653\n",
      "Epoch 35 - Training loss: 0.6721944236755371, Validation loss: 0.6593210858106613 - Learning rate: 0.002781283894436939\n",
      "Epoch 36 - Training loss: 0.6721871566772462, Validation loss: 0.6593243157863617 - Learning rate: 0.002503155504993245\n",
      "Epoch 37 - Training loss: 0.6721830368041992, Validation loss: 0.6593219116330147 - Learning rate: 0.0022528399544939205\n",
      "Epoch 38 - Training loss: 0.6721861076354981, Validation loss: 0.6593176019191742 - Learning rate: 0.0020275559590445286\n",
      "Epoch 39 - Training loss: 0.6721838760375977, Validation loss: 0.6593104827404023 - Learning rate: 0.0018248003631400759\n",
      "Epoch 40 - Training loss: 0.6721865653991699, Validation loss: 0.6593167173862458 - Learning rate: 0.0016423203268260682\n",
      "Best validation loss: 0.658060359954834 reached at epoch 7\n"
     ]
    }
   ],
   "source": [
    "tloss, vloss = FSC_SDG.optimize_psionly(NEpochs = 40, NBatch = 100, lr = 0.1, gamma = 0.9)"
   ]
  },
  {
   "cell_type": "markdown",
   "metadata": {},
   "source": [
    "### Comparison"
   ]
  },
  {
   "cell_type": "code",
   "execution_count": 59,
   "metadata": {},
   "outputs": [
    {
     "name": "stdout",
     "output_type": "stream",
     "text": [
      "Initializing FSC with 2 memory states, 2 actions, and 5 observations.\n",
      "Initializing FSC with 2 memory states, 2 actions, and 5 observations.\n"
     ]
    }
   ],
   "source": [
    "FSC_inferred = FSC_DiscreteObs(FSC_tofit.theta.detach().cpu().double().numpy(),\n",
    "                               FSC_tofit.psi.detach().cpu().double().numpy(), verbose = True)\n",
    "\n",
    "FSC_inferred_SDG = FSC_DiscreteObs(FSC_SDG.theta.detach().cpu().double().numpy(),\n",
    "                                 FSC_SDG.psi.detach().cpu().double().numpy(), verbose = True)"
   ]
  },
  {
   "cell_type": "code",
   "execution_count": 60,
   "metadata": {},
   "outputs": [
    {
     "data": {
      "image/png": "[encoded data removed]",
      "text/plain": [
       "<Figure size 700x400 with 1 Axes>"
      ]
     },
     "metadata": {},
     "output_type": "display_data"
    }
   ],
   "source": [
    "fig, ax = plt.subplots(1,1, figsize=(7,4))\n",
    "ax.bar(bins_h, h, color = \"dimgray\", alpha = 0.5, label = \"True\")\n",
    "\n",
    "ax.scatter(np.arange(M), FSC_inferred_SDG.rho, color = \"darkred\", marker = \"D\", s = 50, label = \"Inferred SDG\", alpha = 0.5)\n",
    "ax.scatter(np.arange(M), rho_pre_fit_SDG, color = \"darkred\", marker = \"x\", s = 50, label = \"Pre-fit SDG\", alpha = 0.5)\n",
    "\n",
    "ax.scatter(np.arange(M), FSC_inferred.rho, color = \"black\", marker = \"D\", s = 50, label = \"Inferred\")\n",
    "ax.scatter(np.arange(M), rho_pre_fit, color = \"black\", marker = \"x\", s = 50, label = \"Pre-fit\")\n",
    "\n",
    "\n",
    "ax.set_xlabel(\"$m$\", fontsize = 15)\n",
    "ax.set_ylabel(\"$\\\\rho_m$\", fontsize = 15)\n",
    "\n",
    "ax.tick_params(axis='both', which='major', labelsize=12)\n",
    "\n",
    "plt.legend(fontsize = 14, bbox_to_anchor=(1.05, 1), loc='upper left')\n",
    "\n",
    "plt.show()"
   ]
  },
  {
   "cell_type": "markdown",
   "metadata": {},
   "source": [
    "# Finite State Controller with $M = 6$, $A = 3$, $Y = 4$"
   ]
  },
  {
   "cell_type": "markdown",
   "metadata": {},
   "source": [
    "# Observations, one step"
   ]
  },
  {
   "cell_type": "code",
   "execution_count": 80,
   "metadata": {},
   "outputs": [],
   "source": [
    "NStepsObs = 1\n",
    "NTraj = 500\n",
    "Y = 4\n",
    "RateMatrixObs = np.ones((Y,Y))\n",
    "RateMatrixObs = RateMatrixObs + 2*np.eye(Y)\n",
    "\n",
    "observations = ObsModels.DiscreteMarkovChain(NTraj, NStepsObs, RateMatrixObs, initial_seed = 0)"
   ]
  },
  {
   "cell_type": "code",
   "execution_count": 81,
   "metadata": {},
   "outputs": [
    {
     "name": "stdout",
     "output_type": "stream",
     "text": [
      "Initializing FSC with 6 memory states, 3 actions, and 4 observations.\n"
     ]
    }
   ],
   "source": [
    "M = 6\n",
    "A = 3\n",
    "\n",
    "np.random.seed(6)\n",
    "Theta = np.random.randn(Y, M, M, A)\n",
    "\n",
    "Psi = np.random.randn(M)\n",
    "\n",
    "FSC = FSC_DiscreteObs(Theta, Psi, verbose = True)"
   ]
  },
  {
   "cell_type": "code",
   "execution_count": 82,
   "metadata": {},
   "outputs": [],
   "source": [
    "FSC.load_observations(observations)"
   ]
  },
  {
   "cell_type": "code",
   "execution_count": 83,
   "metadata": {},
   "outputs": [],
   "source": [
    "NSteps = NStepsObs\n",
    "trajectories = FSC.generate_trajectories(NSteps)\n",
    "Time = np.arange(NSteps)"
   ]
  },
  {
   "cell_type": "code",
   "execution_count": 84,
   "metadata": {},
   "outputs": [
    {
     "data": {
      "image/png": "[encoded data removed]",
      "text/plain": [
       "<Figure size 600x300 with 1 Axes>"
      ]
     },
     "metadata": {},
     "output_type": "display_data"
    }
   ],
   "source": [
    "initial_memories = np.array([tr[\"memories\"][0] for tr in trajectories])\n",
    "\n",
    "fig, ax = plt.subplots(1,1, figsize=(6,3))\n",
    "\n",
    "h, bins_h = np.histogram(initial_memories.flatten(), bins = np.arange(-0.5, M+0.5, 1))\n",
    "h = h/np.sum(h)\n",
    "bins_h = (bins_h[1:] + bins_h[:-1])/2\n",
    "\n",
    "ax.bar(bins_h, h, width = 0.8, color = 'dimgray', alpha = 0.5)\n",
    "\n",
    "ax.set_xlabel('Initial Memories')\n",
    "ax.set_ylabel('Frequency')\n",
    "\n",
    "ax.set_xticks(np.arange(0, M, 1))\n",
    "\n",
    "ax.set_title('Initial memory distribution of the trajectories')\n",
    "\n",
    "plt.show()"
   ]
  },
  {
   "cell_type": "code",
   "execution_count": 85,
   "metadata": {},
   "outputs": [
    {
     "data": {
      "text/plain": [
       "1.1630620803781582"
      ]
     },
     "execution_count": 85,
     "metadata": {},
     "output_type": "execute_result"
    }
   ],
   "source": [
    "FSC.evaluate_nloglikelihood(trajectories[0])"
   ]
  },
  {
   "cell_type": "markdown",
   "metadata": {},
   "source": [
    "### Inference (gradient-based)"
   ]
  },
  {
   "cell_type": "code",
   "execution_count": 94,
   "metadata": {},
   "outputs": [
    {
     "data": {
      "text/plain": [
       "tensor(1.3860, device='mps:0', grad_fn=<SubBackward0>)"
      ]
     },
     "execution_count": 94,
     "metadata": {},
     "output_type": "execute_result"
    }
   ],
   "source": [
    "FSC_tofit = FSC_InferenceDiscreteObs(M, A, Y, seed = 123)\n",
    "FSC_tofit.load_theta(Theta.astype(np.float32))\n",
    "FSC_tofit.load_trajectories(trajectories)\n",
    "FSC_tofit.evaluate_nloglikelihood(idx_traj = 0)"
   ]
  },
  {
   "cell_type": "code",
   "execution_count": 95,
   "metadata": {},
   "outputs": [],
   "source": [
    "psi_pre_fit = FSC_tofit.psi.detach().cpu().numpy()\n",
    "rho_pre_fit = FSC_tofit.rho.detach().cpu().numpy()"
   ]
  },
  {
   "cell_type": "code",
   "execution_count": 96,
   "metadata": {},
   "outputs": [],
   "source": [
    "MSE = FSC_tofit.optimize_psionly(method = 'trust-ncg')"
   ]
  },
  {
   "cell_type": "markdown",
   "metadata": {},
   "source": [
    "### Inference (SGD)"
   ]
  },
  {
   "cell_type": "code",
   "execution_count": 97,
   "metadata": {},
   "outputs": [
    {
     "data": {
      "text/plain": [
       "tensor(1.0145, device='mps:0', grad_fn=<SubBackward0>)"
      ]
     },
     "execution_count": 97,
     "metadata": {},
     "output_type": "execute_result"
    }
   ],
   "source": [
    "FSC_SDG = FSC_DoubleGrad_InferenceDiscreteObs(M, A, Y, seed = 1234)\n",
    "FSC_SDG.load_theta(Theta.astype(np.float32))\n",
    "FSC_SDG.load_trajectories(trajectories)\n",
    "FSC_SDG.evaluate_nloglikelihood(idx_traj = 0)"
   ]
  },
  {
   "cell_type": "code",
   "execution_count": 98,
   "metadata": {},
   "outputs": [],
   "source": [
    "psi_pre_fit_SDG = FSC_SDG.psi.detach().cpu().numpy()\n",
    "rho_pre_fit_SDG = FSC_SDG.rho.detach().cpu().numpy()"
   ]
  },
  {
   "cell_type": "code",
   "execution_count": 99,
   "metadata": {},
   "outputs": [
    {
     "name": "stdout",
     "output_type": "stream",
     "text": [
      "Training with 400 trajectories and validating with 100 trajectories.\n",
      "Epoch 1 - Training loss: 1.0948882293701172, Validation loss: 1.0697682344913482 - Learning rate: 0.01\n",
      "Epoch 2 - Training loss: 1.0947322845458984, Validation loss: 1.0698372679948807 - Learning rate: 0.0099\n",
      "Epoch 3 - Training loss: 1.094768943786621, Validation loss: 1.0697418653964996 - Learning rate: 0.009801\n",
      "Epoch 4 - Training loss: 1.0946267318725584, Validation loss: 1.0697915548086165 - Learning rate: 0.00970299\n",
      "Epoch 5 - Training loss: 1.0946072387695314, Validation loss: 1.0699140602350234 - Learning rate: 0.0096059601\n",
      "Epoch 6 - Training loss: 1.0945544052124023, Validation loss: 1.0700003999471663 - Learning rate: 0.009509900499\n",
      "Epoch 7 - Training loss: 1.0945418930053712, Validation loss: 1.0700963485240935 - Learning rate: 0.00941480149401\n",
      "Epoch 8 - Training loss: 1.094478645324707, Validation loss: 1.0700959366559983 - Learning rate: 0.0093206534790699\n",
      "Epoch 9 - Training loss: 1.0944446563720702, Validation loss: 1.070142413377762 - Learning rate: 0.0092274469442792\n",
      "Epoch 10 - Training loss: 1.094423942565918, Validation loss: 1.070166990160942 - Learning rate: 0.009135172474836408\n",
      "Best validation loss: 1.0697418653964996 reached at epoch 3\n"
     ]
    }
   ],
   "source": [
    "tloss, vloss = FSC_SDG.optimize_psionly(NEpochs = 10, NBatch = 100, lr = 0.01, gamma = 0.99)"
   ]
  },
  {
   "cell_type": "markdown",
   "metadata": {},
   "source": [
    "### Comparison"
   ]
  },
  {
   "cell_type": "code",
   "execution_count": 100,
   "metadata": {},
   "outputs": [
    {
     "name": "stdout",
     "output_type": "stream",
     "text": [
      "Initializing FSC with 6 memory states, 3 actions, and 4 observations.\n",
      "Initializing FSC with 6 memory states, 3 actions, and 4 observations.\n"
     ]
    }
   ],
   "source": [
    "FSC_inferred = FSC_DiscreteObs(FSC_tofit.theta.detach().cpu().double().numpy(),\n",
    "                               FSC_tofit.psi.detach().cpu().double().numpy(), verbose = True)\n",
    "\n",
    "FSC_inferred_SDG = FSC_DiscreteObs(FSC_SDG.theta.detach().cpu().double().numpy(),\n",
    "                                 FSC_SDG.psi.detach().cpu().double().numpy(), verbose = True)"
   ]
  },
  {
   "cell_type": "code",
   "execution_count": 101,
   "metadata": {},
   "outputs": [
    {
     "data": {
      "image/png": "[encoded data removed]",
      "text/plain": [
       "<Figure size 700x400 with 1 Axes>"
      ]
     },
     "metadata": {},
     "output_type": "display_data"
    }
   ],
   "source": [
    "fig, ax = plt.subplots(1,1, figsize=(7,4))\n",
    "ax.bar(bins_h, h, color = \"dimgray\", alpha = 0.5, label = \"True\")\n",
    "\n",
    "ax.scatter(np.arange(M), FSC_inferred_SDG.rho, color = \"darkred\", marker = \"D\", s = 50, label = \"Inferred SDG\", alpha = 0.5)\n",
    "ax.scatter(np.arange(M), rho_pre_fit_SDG, color = \"darkred\", marker = \"x\", s = 50, label = \"Pre-fit SDG\", alpha = 0.5)\n",
    "\n",
    "ax.scatter(np.arange(M), FSC_inferred.rho, color = \"black\", marker = \"D\", s = 50, label = \"Inferred\")\n",
    "ax.scatter(np.arange(M), rho_pre_fit, color = \"black\", marker = \"x\", s = 50, label = \"Pre-fit\")\n",
    "\n",
    "\n",
    "ax.set_xlabel(\"$m$\", fontsize = 15)\n",
    "ax.set_ylabel(\"$\\\\rho_m$\", fontsize = 15)\n",
    "\n",
    "ax.tick_params(axis='both', which='major', labelsize=12)\n",
    "\n",
    "plt.legend(fontsize = 14, bbox_to_anchor=(1.05, 1), loc='upper left')\n",
    "\n",
    "plt.show()"
   ]
  },
  {
   "cell_type": "markdown",
   "metadata": {},
   "source": [
    "## Analytic tests"
   ]
  },
  {
   "cell_type": "code",
   "execution_count": 102,
   "metadata": {},
   "outputs": [],
   "source": [
    "NTraj = int(1e5)\n",
    "observations = ObsModels.DiscreteMarkovChain(NTraj, NStepsObs, RateMatrixObs, initial_seed = 0)"
   ]
  },
  {
   "cell_type": "code",
   "execution_count": 103,
   "metadata": {},
   "outputs": [],
   "source": [
    "FSC.load_observations(observations)"
   ]
  },
  {
   "cell_type": "code",
   "execution_count": 104,
   "metadata": {},
   "outputs": [],
   "source": [
    "NSteps = NStepsObs\n",
    "trajectories_all = FSC.generate_trajectories(NSteps)"
   ]
  },
  {
   "cell_type": "code",
   "execution_count": 105,
   "metadata": {},
   "outputs": [],
   "source": [
    "ya_array = np.array([[tr['observations'][0], tr['actions'][0]]  for tr in trajectories_all])\n",
    "\n",
    "# this is the conditional probability of the action given the observation\n",
    "pAgY = np.zeros((Y, A))\n",
    "\n",
    "for y in range(Y):\n",
    "    pAgY[y] = np.histogram(ya_array[ya_array[:,0] == y, 1], bins = np.arange(-0.5, A+0.5, 1))[0]\n",
    "\n",
    "    # normalize\n",
    "\n",
    "    pAgY[y] = pAgY[y]/np.sum(pAgY[y])\n",
    "\n",
    "pya = pAgY/Y"
   ]
  },
  {
   "cell_type": "code",
   "execution_count": 106,
   "metadata": {},
   "outputs": [
    {
     "data": {
      "image/png": "[encoded data removed]",
      "text/plain": [
       "<Figure size 600x600 with 2 Axes>"
      ]
     },
     "metadata": {},
     "output_type": "display_data"
    }
   ],
   "source": [
    "fig, ax = plt.subplots(1,1, figsize=(6,6))\n",
    "\n",
    "ObsGrid, ActGrid = np.meshgrid(np.arange(Y), np.arange(A))\n",
    "\n",
    "im = ax.pcolormesh(ObsGrid, ActGrid, pya.T, cmap = 'Blues', vmin = 0)\n",
    "\n",
    "ax.set_xlabel('Initial Observations')\n",
    "ax.set_ylabel('Initial Actions')\n",
    "\n",
    "ax.set_xticks(np.arange(0, Y, 1))\n",
    "ax.set_yticks(np.arange(0, A, 1))\n",
    "\n",
    "ax.set_title('Initial observation-action distribution of the trajectories')\n",
    "\n",
    "plt.colorbar(im, ax = ax)\n",
    "\n",
    "plt.show()"
   ]
  },
  {
   "cell_type": "code",
   "execution_count": 107,
   "metadata": {},
   "outputs": [
    {
     "name": "stdout",
     "output_type": "stream",
     "text": [
      "True rho:  [0.15339996 0.28168368 0.183567   0.0729916  0.16127062 0.14708714]\n",
      "Rho tilde:  [0.15322372 0.28203138 0.18343433 0.07297701 0.16133908 0.14699449]\n"
     ]
    }
   ],
   "source": [
    "wVec = FSC.TMat.sum(axis = 2)\n",
    "qVec = np.exp(FSC.psi)\n",
    "tempVec = np.zeros((Y, A, M))\n",
    "\n",
    "for y in range(Y):\n",
    "    for a in range(A):\n",
    "        tempVec[y,a,:] = wVec[y, :, a]*qVec\n",
    "        tempVec[y,a,:] = tempVec[y,a,:]/np.sum(tempVec[y,a,:])\n",
    "\n",
    "rhoTilde = np.sum(pya[..., None]*tempVec, axis = (0,1))\n",
    "\n",
    "print(\"True rho: \", FSC.rho)\n",
    "print(\"Rho tilde: \", rhoTilde)"
   ]
  },
  {
   "cell_type": "code",
   "execution_count": 112,
   "metadata": {},
   "outputs": [],
   "source": [
    "FSC_tofit_large = FSC_InferenceDiscreteObs(M, A, Y, seed = 123)\n",
    "FSC_tofit_large.load_theta(Theta.astype(np.float32))\n",
    "FSC_tofit_large.load_trajectories(trajectories_all)\n",
    "\n",
    "MSE = FSC_tofit_large.optimize_psionly(method = \"trust-ncg\")"
   ]
  },
  {
   "cell_type": "code",
   "execution_count": 113,
   "metadata": {},
   "outputs": [
    {
     "data": {
      "text/plain": [
       "(array([[0.0794 , 0.10036, 0.07121],\n",
       "        [0.08497, 0.07009, 0.09469],\n",
       "        [0.10275, 0.07053, 0.07478],\n",
       "        [0.06598, 0.06504, 0.1202 ]]),\n",
       " array([[0.07909312, 0.09997211, 0.07093477],\n",
       "        [0.08505506, 0.07016016, 0.09478478],\n",
       "        [0.10355358, 0.07108159, 0.07536483],\n",
       "        [0.06565958, 0.06472415, 0.11961627]]))"
      ]
     },
     "execution_count": 113,
     "metadata": {},
     "output_type": "execute_result"
    }
   ],
   "source": [
    "FSC_tofit_large.pStart_ya_emp, pya"
   ]
  },
  {
   "cell_type": "code",
   "execution_count": 114,
   "metadata": {},
   "outputs": [
    {
     "name": "stdout",
     "output_type": "stream",
     "text": [
      "Initializing FSC with 6 memory states, 3 actions, and 4 observations.\n"
     ]
    }
   ],
   "source": [
    "FSC_inferred_large = FSC_DiscreteObs(FSC_tofit_large.theta.detach().cpu().double().numpy(),\n",
    "                                     FSC_tofit_large.psi.detach().cpu().double().numpy(), verbose = True)\n"
   ]
  },
  {
   "cell_type": "code",
   "execution_count": 115,
   "metadata": {},
   "outputs": [
    {
     "data": {
      "image/png": "[encoded data removed]",
      "text/plain": [
       "<Figure size 700x400 with 1 Axes>"
      ]
     },
     "metadata": {},
     "output_type": "display_data"
    }
   ],
   "source": [
    "fig, ax = plt.subplots(1,1, figsize=(7,4))\n",
    "ax.bar(bins_h, h, color = \"dimgray\", alpha = 0.5, label = \"True\")\n",
    "\n",
    "ax.scatter(np.arange(M), FSC_inferred_large.rho, color = \"darkgreen\", marker = \"D\", s = 50, label = \"Inferred (large number of trajectories)\")\n",
    "\n",
    "ax.scatter(np.arange(M), FSC_inferred_SDG.rho, color = \"darkred\", marker = \"D\", s = 50, label = \"Inferred SDG\", alpha = 0.5)\n",
    "\n",
    "ax.scatter(np.arange(M), FSC_inferred.rho, color = \"black\", marker = \"D\", s = 50, label = \"Inferred\")\n",
    "\n",
    "\n",
    "ax.set_xlabel(\"$m$\", fontsize = 15)\n",
    "ax.set_ylabel(\"$\\\\rho_m$\", fontsize = 15)\n",
    "\n",
    "ax.tick_params(axis='both', which='major', labelsize=12)\n",
    "\n",
    "plt.legend(fontsize = 14, bbox_to_anchor=(1.05, 1), loc='upper left')\n",
    "\n",
    "plt.show()"
   ]
  }
 ],
 "metadata": {
  "kernelspec": {
   "display_name": "torch",
   "language": "python",
   "name": "python3"
  },
  "language_info": {
   "codemirror_mode": {
    "name": "ipython",
    "version": 3
   },
   "file_extension": ".py",
   "mimetype": "text/x-python",
   "name": "python",
   "nbconvert_exporter": "python",
   "pygments_lexer": "ipython3",
   "version": "3.12.7"
  }
 },
 "nbformat": 4,
 "nbformat_minor": 2
}
