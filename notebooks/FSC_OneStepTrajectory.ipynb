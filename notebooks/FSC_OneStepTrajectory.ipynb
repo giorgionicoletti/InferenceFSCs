{
 "cells": [
  {
   "cell_type": "code",
   "execution_count": 1,
   "metadata": {},
   "outputs": [],
   "source": [
    "%load_ext autoreload\n",
    "%autoreload 2"
   ]
  },
  {
   "cell_type": "code",
   "execution_count": 2,
   "metadata": {},
   "outputs": [],
   "source": [
    "import numpy as np\n",
    "import matplotlib.pyplot as plt\n",
    "\n",
    "import sys\n",
    "sys.path.append('../modules')\n",
    "from FSC import GenerationDiscreteObs as FSC_DiscreteObs\n",
    "from FSC import InferenceDiscreteObs as FSC_InferenceDiscreteObs\n",
    "import ObsModels "
   ]
  },
  {
   "cell_type": "code",
   "execution_count": 3,
   "metadata": {},
   "outputs": [],
   "source": [
    "# set matplotlib font to avenir\n",
    "plt.rcParams['font.family'] = 'sans-serif'\n",
    "plt.rcParams['font.sans-serif'] = 'Avenir'"
   ]
  },
  {
   "cell_type": "markdown",
   "metadata": {},
   "source": [
    "# Finite State Controller with $M = 2$, $A = 2$, $Y = 2$"
   ]
  },
  {
   "cell_type": "markdown",
   "metadata": {},
   "source": [
    "# Observations, one step"
   ]
  },
  {
   "cell_type": "code",
   "execution_count": 4,
   "metadata": {},
   "outputs": [],
   "source": [
    "NStepsObs = 1\n",
    "NTraj = 500\n",
    "Y = 2\n",
    "RateMatrixObs = np.ones((Y,Y))\n",
    "RateMatrixObs = RateMatrixObs + 2*np.eye(Y)\n",
    "\n",
    "observations = ObsModels.DiscreteMarkovChain(NTraj, NStepsObs, RateMatrixObs, initial_seed = 0)"
   ]
  },
  {
   "cell_type": "code",
   "execution_count": 5,
   "metadata": {},
   "outputs": [
    {
     "name": "stdout",
     "output_type": "stream",
     "text": [
      "Initializing FSC with 2 memory states, 2 actions, and 2 observations.\n"
     ]
    }
   ],
   "source": [
    "M = 2\n",
    "A = 2\n",
    "\n",
    "np.random.seed(0)\n",
    "Theta = np.random.randn(Y, M, M, A)\n",
    "\n",
    "Psi = np.array([1, 1])\n",
    "\n",
    "FSC = FSC_DiscreteObs(Theta, Psi, verbose = True)"
   ]
  },
  {
   "cell_type": "code",
   "execution_count": 6,
   "metadata": {},
   "outputs": [],
   "source": [
    "FSC.load_observations(observations)"
   ]
  },
  {
   "cell_type": "code",
   "execution_count": 7,
   "metadata": {},
   "outputs": [],
   "source": [
    "NSteps = NStepsObs\n",
    "trajectories = FSC.generate_trajectories(NSteps)\n",
    "Time = np.arange(NSteps)"
   ]
  },
  {
   "cell_type": "code",
   "execution_count": 26,
   "metadata": {},
   "outputs": [
    {
     "data": {
      "image/png": "[encoded data removed]",
      "text/plain": [
       "<Figure size 600x300 with 1 Axes>"
      ]
     },
     "metadata": {},
     "output_type": "display_data"
    }
   ],
   "source": [
    "initial_memories = np.array([tr[\"memories\"][0] for tr in trajectories])\n",
    "\n",
    "fig, ax = plt.subplots(1,1, figsize=(6,3))\n",
    "\n",
    "h, bins_h = np.histogram(initial_memories.flatten(), bins = np.arange(-0.5, M+0.5, 1))\n",
    "h = h/np.sum(h)\n",
    "bins_h = (bins_h[1:] + bins_h[:-1])/2\n",
    "\n",
    "ax.bar(bins_h, h, width = 0.8, color = 'dimgray', alpha = 0.5)\n",
    "\n",
    "ax.set_xlabel('Initial Memories')\n",
    "ax.set_ylabel('Frequency')\n",
    "\n",
    "ax.set_xticks(np.arange(0, M, 1))\n",
    "\n",
    "ax.set_title('Initial memory distribution of the trajectories')\n",
    "\n",
    "plt.show()"
   ]
  },
  {
   "cell_type": "code",
   "execution_count": 11,
   "metadata": {},
   "outputs": [
    {
     "data": {
      "text/plain": [
       "0.4169199915511197"
      ]
     },
     "execution_count": 11,
     "metadata": {},
     "output_type": "execute_result"
    }
   ],
   "source": [
    "FSC.evaluate_nloglikelihood(trajectories[0])"
   ]
  },
  {
   "cell_type": "markdown",
   "metadata": {},
   "source": [
    "### Inference"
   ]
  },
  {
   "cell_type": "code",
   "execution_count": 12,
   "metadata": {},
   "outputs": [
    {
     "data": {
      "text/plain": [
       "tensor(0.6199, device='mps:0', grad_fn=<SubBackward0>)"
      ]
     },
     "execution_count": 12,
     "metadata": {},
     "output_type": "execute_result"
    }
   ],
   "source": [
    "FSC_tofit = FSC_InferenceDiscreteObs(M, A, Y, seed = 123)\n",
    "FSC_tofit.load_theta(Theta.astype(np.float32))\n",
    "FSC_tofit.load_trajectories(trajectories)\n",
    "FSC_tofit.evaluate_nloglikelihood(idx_traj = 0)"
   ]
  },
  {
   "cell_type": "code",
   "execution_count": 15,
   "metadata": {},
   "outputs": [],
   "source": [
    "psi_pre_fit = FSC_tofit.psi.detach().cpu().numpy()\n",
    "rho_pre_fit = FSC_tofit.rho.detach().cpu().numpy()"
   ]
  },
  {
   "cell_type": "code",
   "execution_count": 16,
   "metadata": {},
   "outputs": [
    {
     "name": "stdout",
     "output_type": "stream",
     "text": [
      "Training with 400 trajectories and validating with 100 trajectories.\n",
      "\t Epoch 1 - Batch 1 - Loss: 0.6627381134033203 - Learning rate: 0.1\n",
      "\t Epoch 1 - Batch 2 - Loss: 0.702695541381836 - Learning rate: 0.1\n",
      "\t Epoch 1 - Batch 3 - Loss: 0.6580377197265626 - Learning rate: 0.1\n",
      "\t Epoch 1 - Batch 4 - Loss: 0.7438172149658203 - Learning rate: 0.1\n",
      "Epoch 1 - Training loss: 0.6918221473693847, Validation loss: 0.688269145488739\n",
      "\t Epoch 2 - Batch 1 - Loss: 0.6790699768066406 - Learning rate: 0.09000000000000001\n",
      "\t Epoch 2 - Batch 2 - Loss: 0.661849365234375 - Learning rate: 0.09000000000000001\n",
      "\t Epoch 2 - Batch 3 - Loss: 0.7135317993164062 - Learning rate: 0.09000000000000001\n",
      "\t Epoch 2 - Batch 4 - Loss: 0.7039553833007812 - Learning rate: 0.09000000000000001\n",
      "Epoch 2 - Training loss: 0.6896016311645508, Validation loss: 0.6857288372516632\n",
      "\t Epoch 3 - Batch 1 - Loss: 0.6481343078613281 - Learning rate: 0.08100000000000002\n",
      "\t Epoch 3 - Batch 2 - Loss: 0.680692138671875 - Learning rate: 0.08100000000000002\n",
      "\t Epoch 3 - Batch 3 - Loss: 0.7012533569335937 - Learning rate: 0.08100000000000002\n",
      "\t Epoch 3 - Batch 4 - Loss: 0.7082652282714844 - Learning rate: 0.08100000000000002\n",
      "Epoch 3 - Training loss: 0.6845862579345703, Validation loss: 0.6775803816318512\n",
      "\t Epoch 4 - Batch 1 - Loss: 0.6693541717529297 - Learning rate: 0.07290000000000002\n",
      "\t Epoch 4 - Batch 2 - Loss: 0.6986463928222656 - Learning rate: 0.07290000000000002\n",
      "\t Epoch 4 - Batch 3 - Loss: 0.6507591247558594 - Learning rate: 0.07290000000000002\n",
      "\t Epoch 4 - Batch 4 - Loss: 0.6898331451416015 - Learning rate: 0.07290000000000002\n",
      "Epoch 4 - Training loss: 0.677148208618164, Validation loss: 0.663955665230751\n",
      "\t Epoch 5 - Batch 1 - Loss: 0.7003582763671875 - Learning rate: 0.06561000000000002\n",
      "\t Epoch 5 - Batch 2 - Loss: 0.6437403869628906 - Learning rate: 0.06561000000000002\n",
      "\t Epoch 5 - Batch 3 - Loss: 0.6576834869384766 - Learning rate: 0.06561000000000002\n",
      "\t Epoch 5 - Batch 4 - Loss: 0.6594757080078125 - Learning rate: 0.06561000000000002\n",
      "Epoch 5 - Training loss: 0.6653144645690918, Validation loss: 0.6518270537257195\n",
      "\t Epoch 6 - Batch 1 - Loss: 0.6886808776855469 - Learning rate: 0.05904900000000002\n",
      "\t Epoch 6 - Batch 2 - Loss: 0.6734074401855469 - Learning rate: 0.05904900000000002\n",
      "\t Epoch 6 - Batch 3 - Loss: 0.664300308227539 - Learning rate: 0.05904900000000002\n",
      "\t Epoch 6 - Batch 4 - Loss: 0.611814956665039 - Learning rate: 0.05904900000000002\n",
      "Epoch 6 - Training loss: 0.659550895690918, Validation loss: 0.6452846199274063\n",
      "\t Epoch 7 - Batch 1 - Loss: 0.6522383117675781 - Learning rate: 0.05314410000000002\n",
      "\t Epoch 7 - Batch 2 - Loss: 0.6507779693603516 - Learning rate: 0.05314410000000002\n",
      "\t Epoch 7 - Batch 3 - Loss: 0.6688345336914062 - Learning rate: 0.05314410000000002\n",
      "\t Epoch 7 - Batch 4 - Loss: 0.6629237365722657 - Learning rate: 0.05314410000000002\n",
      "Epoch 7 - Training loss: 0.6586936378479004, Validation loss: 0.6436155420541764\n",
      "\t Epoch 8 - Batch 1 - Loss: 0.672039794921875 - Learning rate: 0.04782969000000002\n",
      "\t Epoch 8 - Batch 2 - Loss: 0.6460581970214844 - Learning rate: 0.04782969000000002\n",
      "\t Epoch 8 - Batch 3 - Loss: 0.6603307342529297 - Learning rate: 0.04782969000000002\n",
      "\t Epoch 8 - Batch 4 - Loss: 0.6583869171142578 - Learning rate: 0.04782969000000002\n",
      "Epoch 8 - Training loss: 0.6592039108276366, Validation loss: 0.643511510193348\n",
      "\t Epoch 9 - Batch 1 - Loss: 0.645452880859375 - Learning rate: 0.043046721000000024\n",
      "\t Epoch 9 - Batch 2 - Loss: 0.6397256469726562 - Learning rate: 0.043046721000000024\n",
      "\t Epoch 9 - Batch 3 - Loss: 0.654014892578125 - Learning rate: 0.043046721000000024\n",
      "\t Epoch 9 - Batch 4 - Loss: 0.6998940277099609 - Learning rate: 0.043046721000000024\n",
      "Epoch 9 - Training loss: 0.6597718620300292, Validation loss: 0.6435654333233833\n",
      "\t Epoch 10 - Batch 1 - Loss: 0.6876378631591797 - Learning rate: 0.03874204890000002\n",
      "\t Epoch 10 - Batch 2 - Loss: 0.6687751770019531 - Learning rate: 0.03874204890000002\n",
      "\t Epoch 10 - Batch 3 - Loss: 0.6132925415039062 - Learning rate: 0.03874204890000002\n",
      "\t Epoch 10 - Batch 4 - Loss: 0.6692691802978515 - Learning rate: 0.03874204890000002\n",
      "Epoch 10 - Training loss: 0.6597436904907227, Validation loss: 0.6435101950168609\n",
      "\t Epoch 11 - Batch 1 - Loss: 0.6487699890136719 - Learning rate: 0.03486784401000002\n",
      "\t Epoch 11 - Batch 2 - Loss: 0.6687342834472656 - Learning rate: 0.03486784401000002\n",
      "\t Epoch 11 - Batch 3 - Loss: 0.634444580078125 - Learning rate: 0.03486784401000002\n",
      "\t Epoch 11 - Batch 4 - Loss: 0.6851346588134766 - Learning rate: 0.03486784401000002\n",
      "Epoch 11 - Training loss: 0.6592708778381347, Validation loss: 0.6435068115592003\n",
      "\t Epoch 12 - Batch 1 - Loss: 0.665444107055664 - Learning rate: 0.03138105960900001\n",
      "\t Epoch 12 - Batch 2 - Loss: 0.6581797790527344 - Learning rate: 0.03138105960900001\n",
      "\t Epoch 12 - Batch 3 - Loss: 0.6410057067871093 - Learning rate: 0.03138105960900001\n",
      "\t Epoch 12 - Batch 4 - Loss: 0.6712033843994141 - Learning rate: 0.03138105960900001\n",
      "Epoch 12 - Training loss: 0.6589582443237305, Validation loss: 0.6435948175191879\n",
      "\t Epoch 13 - Batch 1 - Loss: 0.6841725158691406 - Learning rate: 0.028242953648100012\n",
      "\t Epoch 13 - Batch 2 - Loss: 0.6613854217529297 - Learning rate: 0.028242953648100012\n",
      "\t Epoch 13 - Batch 3 - Loss: 0.6603597259521484 - Learning rate: 0.028242953648100012\n",
      "\t Epoch 13 - Batch 4 - Loss: 0.6285843658447265 - Learning rate: 0.028242953648100012\n",
      "Epoch 13 - Training loss: 0.6586255073547364, Validation loss: 0.6437616869807243\n",
      "\t Epoch 14 - Batch 1 - Loss: 0.6710088348388672 - Learning rate: 0.025418658283290013\n",
      "\t Epoch 14 - Batch 2 - Loss: 0.6589455413818359 - Learning rate: 0.025418658283290013\n",
      "\t Epoch 14 - Batch 3 - Loss: 0.6223264312744141 - Learning rate: 0.025418658283290013\n",
      "\t Epoch 14 - Batch 4 - Loss: 0.681099624633789 - Learning rate: 0.025418658283290013\n",
      "Epoch 14 - Training loss: 0.6583451080322266, Validation loss: 0.6438837870955467\n",
      "\t Epoch 15 - Batch 1 - Loss: 0.6598480987548828 - Learning rate: 0.022876792454961013\n",
      "\t Epoch 15 - Batch 2 - Loss: 0.6965838623046875 - Learning rate: 0.022876792454961013\n",
      "\t Epoch 15 - Batch 3 - Loss: 0.6195523834228516 - Learning rate: 0.022876792454961013\n",
      "\t Epoch 15 - Batch 4 - Loss: 0.6574512481689453 - Learning rate: 0.022876792454961013\n",
      "Epoch 15 - Training loss: 0.6583588981628418, Validation loss: 0.6440952676534653\n",
      "\t Epoch 16 - Batch 1 - Loss: 0.6160037994384766 - Learning rate: 0.020589113209464913\n",
      "\t Epoch 16 - Batch 2 - Loss: 0.7123454284667968 - Learning rate: 0.020589113209464913\n",
      "\t Epoch 16 - Batch 3 - Loss: 0.638768424987793 - Learning rate: 0.020589113209464913\n",
      "\t Epoch 16 - Batch 4 - Loss: 0.6661211395263672 - Learning rate: 0.020589113209464913\n",
      "Epoch 16 - Training loss: 0.6583096981048584, Validation loss: 0.6442837184667587\n",
      "\t Epoch 17 - Batch 1 - Loss: 0.6129940414428711 - Learning rate: 0.01853020188851842\n",
      "\t Epoch 17 - Batch 2 - Loss: 0.6640451049804688 - Learning rate: 0.01853020188851842\n",
      "\t Epoch 17 - Batch 3 - Loss: 0.6663275146484375 - Learning rate: 0.01853020188851842\n",
      "\t Epoch 17 - Batch 4 - Loss: 0.6897328948974609 - Learning rate: 0.01853020188851842\n",
      "Epoch 17 - Training loss: 0.6582748889923096, Validation loss: 0.6443331271409989\n",
      "\t Epoch 18 - Batch 1 - Loss: 0.6968540954589844 - Learning rate: 0.01667718169966658\n",
      "\t Epoch 18 - Batch 2 - Loss: 0.6268056106567382 - Learning rate: 0.01667718169966658\n",
      "\t Epoch 18 - Batch 3 - Loss: 0.6649968719482422 - Learning rate: 0.01667718169966658\n",
      "\t Epoch 18 - Batch 4 - Loss: 0.6447750091552734 - Learning rate: 0.01667718169966658\n",
      "Epoch 18 - Training loss: 0.6583578968048095, Validation loss: 0.644513718187809\n",
      "\t Epoch 19 - Batch 1 - Loss: 0.6564881134033204 - Learning rate: 0.015009463529699923\n",
      "\t Epoch 19 - Batch 2 - Loss: 0.6452823638916015 - Learning rate: 0.015009463529699923\n",
      "\t Epoch 19 - Batch 3 - Loss: 0.6628593444824219 - Learning rate: 0.015009463529699923\n",
      "\t Epoch 19 - Batch 4 - Loss: 0.6684053802490234 - Learning rate: 0.015009463529699923\n",
      "Epoch 19 - Training loss: 0.6582588005065918, Validation loss: 0.6445463001728058\n",
      "\t Epoch 20 - Batch 1 - Loss: 0.6497708129882812 - Learning rate: 0.013508517176729932\n",
      "\t Epoch 20 - Batch 2 - Loss: 0.6754053497314453 - Learning rate: 0.013508517176729932\n",
      "\t Epoch 20 - Batch 3 - Loss: 0.6767962646484375 - Learning rate: 0.013508517176729932\n",
      "\t Epoch 20 - Batch 4 - Loss: 0.6311114120483399 - Learning rate: 0.013508517176729932\n",
      "Epoch 20 - Training loss: 0.6582709598541259, Validation loss: 0.644588416814804\n",
      "\t Epoch 21 - Batch 1 - Loss: 0.6277914047241211 - Learning rate: 0.01215766545905694\n",
      "\t Epoch 21 - Batch 2 - Loss: 0.6734767150878906 - Learning rate: 0.01215766545905694\n",
      "\t Epoch 21 - Batch 3 - Loss: 0.7026234436035156 - Learning rate: 0.01215766545905694\n",
      "\t Epoch 21 - Batch 4 - Loss: 0.6291893005371094 - Learning rate: 0.01215766545905694\n",
      "Epoch 21 - Training loss: 0.6582702159881593, Validation loss: 0.6445972633361816\n",
      "\t Epoch 22 - Batch 1 - Loss: 0.6436727142333984 - Learning rate: 0.010941898913151246\n",
      "\t Epoch 22 - Batch 2 - Loss: 0.6600044250488282 - Learning rate: 0.010941898913151246\n",
      "\t Epoch 22 - Batch 3 - Loss: 0.6727893829345704 - Learning rate: 0.010941898913151246\n",
      "\t Epoch 22 - Batch 4 - Loss: 0.6566229248046875 - Learning rate: 0.010941898913151246\n",
      "Epoch 22 - Training loss: 0.6582723617553712, Validation loss: 0.6446202838420868\n",
      "\t Epoch 23 - Batch 1 - Loss: 0.6674088287353516 - Learning rate: 0.009847709021836121\n",
      "\t Epoch 23 - Batch 2 - Loss: 0.6640300750732422 - Learning rate: 0.009847709021836121\n",
      "\t Epoch 23 - Batch 3 - Loss: 0.6607883453369141 - Learning rate: 0.009847709021836121\n",
      "\t Epoch 23 - Batch 4 - Loss: 0.6408806610107421 - Learning rate: 0.009847709021836121\n",
      "Epoch 23 - Training loss: 0.6582769775390624, Validation loss: 0.6446026766300201\n",
      "\t Epoch 24 - Batch 1 - Loss: 0.6358534622192383 - Learning rate: 0.00886293811965251\n",
      "\t Epoch 24 - Batch 2 - Loss: 0.6697610473632812 - Learning rate: 0.00886293811965251\n",
      "\t Epoch 24 - Batch 3 - Loss: 0.6340259552001953 - Learning rate: 0.00886293811965251\n",
      "\t Epoch 24 - Batch 4 - Loss: 0.6934912109375 - Learning rate: 0.00886293811965251\n",
      "Epoch 24 - Training loss: 0.6582829189300536, Validation loss: 0.6445849788188934\n",
      "\t Epoch 25 - Batch 1 - Loss: 0.6424861907958984 - Learning rate: 0.007976644307687259\n",
      "\t Epoch 25 - Batch 2 - Loss: 0.6802664947509766 - Learning rate: 0.007976644307687259\n",
      "\t Epoch 25 - Batch 3 - Loss: 0.6121877288818359 - Learning rate: 0.007976644307687259\n",
      "\t Epoch 25 - Batch 4 - Loss: 0.698138198852539 - Learning rate: 0.007976644307687259\n",
      "Epoch 25 - Training loss: 0.6582696533203125, Validation loss: 0.6445630413293838\n",
      "\t Epoch 26 - Batch 1 - Loss: 0.6759032440185547 - Learning rate: 0.007178979876918534\n",
      "\t Epoch 26 - Batch 2 - Loss: 0.6383800506591797 - Learning rate: 0.007178979876918534\n",
      "\t Epoch 26 - Batch 3 - Loss: 0.6561068725585938 - Learning rate: 0.007178979876918534\n",
      "\t Epoch 26 - Batch 4 - Loss: 0.6627025604248047 - Learning rate: 0.007178979876918534\n",
      "Epoch 26 - Training loss: 0.6582731819152832, Validation loss: 0.6445444670319557\n",
      "\t Epoch 27 - Batch 1 - Loss: 0.6713722229003907 - Learning rate: 0.006461081889226681\n",
      "\t Epoch 27 - Batch 2 - Loss: 0.6719237518310547 - Learning rate: 0.006461081889226681\n",
      "\t Epoch 27 - Batch 3 - Loss: 0.6508699035644532 - Learning rate: 0.006461081889226681\n",
      "\t Epoch 27 - Batch 4 - Loss: 0.6388808822631836 - Learning rate: 0.006461081889226681\n",
      "Epoch 27 - Training loss: 0.6582616901397705, Validation loss: 0.6445386046171189\n",
      "\t Epoch 28 - Batch 1 - Loss: 0.6760751342773438 - Learning rate: 0.005814973700304013\n",
      "\t Epoch 28 - Batch 2 - Loss: 0.6445866394042968 - Learning rate: 0.005814973700304013\n",
      "\t Epoch 28 - Batch 3 - Loss: 0.6313055038452149 - Learning rate: 0.005814973700304013\n",
      "\t Epoch 28 - Batch 4 - Loss: 0.6811171722412109 - Learning rate: 0.005814973700304013\n",
      "Epoch 28 - Training loss: 0.6582711124420166, Validation loss: 0.6445343500375748\n",
      "\t Epoch 29 - Batch 1 - Loss: 0.6381334686279296 - Learning rate: 0.005233476330273611\n",
      "\t Epoch 29 - Batch 2 - Loss: 0.6397509765625 - Learning rate: 0.005233476330273611\n",
      "\t Epoch 29 - Batch 3 - Loss: 0.6781806182861329 - Learning rate: 0.005233476330273611\n",
      "\t Epoch 29 - Batch 4 - Loss: 0.67701171875 - Learning rate: 0.005233476330273611\n",
      "Epoch 29 - Training loss: 0.6582691955566407, Validation loss: 0.6445263677835464\n",
      "\t Epoch 30 - Batch 1 - Loss: 0.679705810546875 - Learning rate: 0.00471012869724625\n",
      "\t Epoch 30 - Batch 2 - Loss: 0.6861840057373046 - Learning rate: 0.00471012869724625\n",
      "\t Epoch 30 - Batch 3 - Loss: 0.6402194213867187 - Learning rate: 0.00471012869724625\n",
      "\t Epoch 30 - Batch 4 - Loss: 0.626948127746582 - Learning rate: 0.00471012869724625\n",
      "Epoch 30 - Training loss: 0.6582643413543701, Validation loss: 0.6445252504944802\n",
      "\t Epoch 31 - Batch 1 - Loss: 0.6189397811889649 - Learning rate: 0.004239115827521626\n",
      "\t Epoch 31 - Batch 2 - Loss: 0.6301749801635742 - Learning rate: 0.004239115827521626\n",
      "\t Epoch 31 - Batch 3 - Loss: 0.6734646606445313 - Learning rate: 0.004239115827521626\n",
      "\t Epoch 31 - Batch 4 - Loss: 0.7105052185058593 - Learning rate: 0.004239115827521626\n",
      "Epoch 31 - Training loss: 0.6582711601257325, Validation loss: 0.6445095786452293\n",
      "\t Epoch 32 - Batch 1 - Loss: 0.6620724487304688 - Learning rate: 0.0038152042447694634\n",
      "\t Epoch 32 - Batch 2 - Loss: 0.6747764587402344 - Learning rate: 0.0038152042447694634\n",
      "\t Epoch 32 - Batch 3 - Loss: 0.6494927978515626 - Learning rate: 0.0038152042447694634\n",
      "\t Epoch 32 - Batch 4 - Loss: 0.646749267578125 - Learning rate: 0.0038152042447694634\n",
      "Epoch 32 - Training loss: 0.6582727432250977, Validation loss: 0.6445268002152443\n",
      "\t Epoch 33 - Batch 1 - Loss: 0.6530109405517578 - Learning rate: 0.003433683820292517\n",
      "\t Epoch 33 - Batch 2 - Loss: 0.6952915191650391 - Learning rate: 0.003433683820292517\n",
      "\t Epoch 33 - Batch 3 - Loss: 0.6389080047607422 - Learning rate: 0.003433683820292517\n",
      "\t Epoch 33 - Batch 4 - Loss: 0.6458332061767578 - Learning rate: 0.003433683820292517\n",
      "Epoch 33 - Training loss: 0.6582609176635743, Validation loss: 0.6445224905014038\n",
      "\t Epoch 34 - Batch 1 - Loss: 0.651401138305664 - Learning rate: 0.0030903154382632653\n",
      "\t Epoch 34 - Batch 2 - Loss: 0.7149124908447265 - Learning rate: 0.0030903154382632653\n",
      "\t Epoch 34 - Batch 3 - Loss: 0.641025161743164 - Learning rate: 0.0030903154382632653\n",
      "\t Epoch 34 - Batch 4 - Loss: 0.6257735824584961 - Learning rate: 0.0030903154382632653\n",
      "Epoch 34 - Training loss: 0.6582780933380127, Validation loss: 0.6445390483736992\n",
      "\t Epoch 35 - Batch 1 - Loss: 0.636023941040039 - Learning rate: 0.002781283894436939\n",
      "\t Epoch 35 - Batch 2 - Loss: 0.6437818145751953 - Learning rate: 0.002781283894436939\n",
      "\t Epoch 35 - Batch 3 - Loss: 0.6585761260986328 - Learning rate: 0.002781283894436939\n",
      "\t Epoch 35 - Batch 4 - Loss: 0.6946984100341796 - Learning rate: 0.002781283894436939\n",
      "Epoch 35 - Training loss: 0.6582700729370118, Validation loss: 0.644517816901207\n",
      "\t Epoch 36 - Batch 1 - Loss: 0.6894174957275391 - Learning rate: 0.002503155504993245\n",
      "\t Epoch 36 - Batch 2 - Loss: 0.6243693161010743 - Learning rate: 0.002503155504993245\n",
      "\t Epoch 36 - Batch 3 - Loss: 0.6662677001953125 - Learning rate: 0.002503155504993245\n",
      "\t Epoch 36 - Batch 4 - Loss: 0.6530078887939453 - Learning rate: 0.002503155504993245\n",
      "Epoch 36 - Training loss: 0.6582656002044678, Validation loss: 0.6445175421237945\n",
      "\t Epoch 37 - Batch 1 - Loss: 0.6642318725585937 - Learning rate: 0.0022528399544939205\n",
      "\t Epoch 37 - Batch 2 - Loss: 0.6501061248779297 - Learning rate: 0.0022528399544939205\n",
      "\t Epoch 37 - Batch 3 - Loss: 0.673725357055664 - Learning rate: 0.0022528399544939205\n",
      "\t Epoch 37 - Batch 4 - Loss: 0.6450029754638672 - Learning rate: 0.0022528399544939205\n",
      "Epoch 37 - Training loss: 0.6582665824890137, Validation loss: 0.6445050236582756\n",
      "\t Epoch 38 - Batch 1 - Loss: 0.6567382049560547 - Learning rate: 0.0020275559590445286\n",
      "\t Epoch 38 - Batch 2 - Loss: 0.6910355377197266 - Learning rate: 0.0020275559590445286\n",
      "\t Epoch 38 - Batch 3 - Loss: 0.6436910247802734 - Learning rate: 0.0020275559590445286\n",
      "\t Epoch 38 - Batch 4 - Loss: 0.6415877532958985 - Learning rate: 0.0020275559590445286\n",
      "Epoch 38 - Training loss: 0.6582631301879883, Validation loss: 0.6445034611225128\n",
      "\t Epoch 39 - Batch 1 - Loss: 0.6437436676025391 - Learning rate: 0.0018248003631400759\n",
      "\t Epoch 39 - Batch 2 - Loss: 0.6771660614013671 - Learning rate: 0.0018248003631400759\n",
      "\t Epoch 39 - Batch 3 - Loss: 0.6407948303222656 - Learning rate: 0.0018248003631400759\n",
      "\t Epoch 39 - Batch 4 - Loss: 0.67134765625 - Learning rate: 0.0018248003631400759\n",
      "Epoch 39 - Training loss: 0.6582630538940429, Validation loss: 0.6444986709952354\n",
      "\t Epoch 40 - Batch 1 - Loss: 0.6661003875732422 - Learning rate: 0.0016423203268260682\n",
      "\t Epoch 40 - Batch 2 - Loss: 0.665509262084961 - Learning rate: 0.0016423203268260682\n",
      "\t Epoch 40 - Batch 3 - Loss: 0.6362078094482422 - Learning rate: 0.0016423203268260682\n",
      "\t Epoch 40 - Batch 4 - Loss: 0.6652372741699218 - Learning rate: 0.0016423203268260682\n",
      "Epoch 40 - Training loss: 0.6582636833190918, Validation loss: 0.6445057946443558\n"
     ]
    }
   ],
   "source": [
    "tloss, vloss = FSC_tofit.optimize_psionly(NEpochs = 40, NBatch = 100, lr = 0.1, gamma = 0.9)"
   ]
  },
  {
   "cell_type": "markdown",
   "metadata": {},
   "source": [
    "### Comparison"
   ]
  },
  {
   "cell_type": "code",
   "execution_count": 18,
   "metadata": {},
   "outputs": [
    {
     "name": "stdout",
     "output_type": "stream",
     "text": [
      "Initializing FSC with 2 memory states, 2 actions, and 2 observations.\n"
     ]
    }
   ],
   "source": [
    "FSC_inferred = FSC_DiscreteObs(FSC_tofit.theta.detach().cpu().double().numpy(),\n",
    "                               FSC_tofit.psi.detach().cpu().double().numpy(), verbose = True)"
   ]
  },
  {
   "cell_type": "code",
   "execution_count": 27,
   "metadata": {},
   "outputs": [
    {
     "data": {
      "image/png": "[encoded data removed]",
      "text/plain": [
       "<Figure size 700x400 with 1 Axes>"
      ]
     },
     "metadata": {},
     "output_type": "display_data"
    }
   ],
   "source": [
    "fig, ax = plt.subplots(1,1, figsize=(7,4))\n",
    "ax.bar(bins_h, h, color = \"dimgray\", alpha = 0.5, label = \"True\")\n",
    "ax.scatter(np.arange(M), FSC_inferred.rho, color = \"black\", marker = \"D\", s = 50, label = \"Inferred\")\n",
    "ax.scatter(np.arange(M), rho_pre_fit, color = \"black\", marker = \"x\", s = 50, label = \"Pre-fit\")\n",
    "\n",
    "ax.set_xlabel(\"$m$\", fontsize = 15)\n",
    "ax.set_ylabel(\"$\\\\rho_m$\", fontsize = 15)\n",
    "\n",
    "ax.tick_params(axis='both', which='major', labelsize=12)\n",
    "\n",
    "plt.legend(fontsize = 14, bbox_to_anchor=(1.05, 1), loc='upper left')\n",
    "\n",
    "plt.show()"
   ]
  },
  {
   "cell_type": "markdown",
   "metadata": {},
   "source": [
    "# Finite State Controller with $M = 2$, $A = 2$, $Y = 5$"
   ]
  },
  {
   "cell_type": "markdown",
   "metadata": {},
   "source": [
    "# Observations, one step"
   ]
  },
  {
   "cell_type": "code",
   "execution_count": 48,
   "metadata": {},
   "outputs": [],
   "source": [
    "NStepsObs = 1\n",
    "NTraj = 500\n",
    "Y = 5\n",
    "RateMatrixObs = np.ones((Y,Y))\n",
    "RateMatrixObs = RateMatrixObs + 2*np.eye(Y)\n",
    "\n",
    "observations = ObsModels.DiscreteMarkovChain(NTraj, NStepsObs, RateMatrixObs, initial_seed = 0)"
   ]
  },
  {
   "cell_type": "code",
   "execution_count": 49,
   "metadata": {},
   "outputs": [
    {
     "name": "stdout",
     "output_type": "stream",
     "text": [
      "Initializing FSC with 2 memory states, 2 actions, and 5 observations.\n"
     ]
    }
   ],
   "source": [
    "M = 2\n",
    "A = 2\n",
    "\n",
    "np.random.seed(8734)\n",
    "Theta = np.random.randn(Y, M, M, A)\n",
    "\n",
    "Psi = np.array([1.25, 1])\n",
    "\n",
    "FSC = FSC_DiscreteObs(Theta, Psi, verbose = True)"
   ]
  },
  {
   "cell_type": "code",
   "execution_count": 50,
   "metadata": {},
   "outputs": [],
   "source": [
    "FSC.load_observations(observations)"
   ]
  },
  {
   "cell_type": "code",
   "execution_count": 51,
   "metadata": {},
   "outputs": [],
   "source": [
    "NSteps = NStepsObs\n",
    "trajectories = FSC.generate_trajectories(NSteps)\n",
    "Time = np.arange(NSteps)"
   ]
  },
  {
   "cell_type": "code",
   "execution_count": 52,
   "metadata": {},
   "outputs": [
    {
     "data": {
      "image/png": "[encoded data removed]",
      "text/plain": [
       "<Figure size 600x300 with 1 Axes>"
      ]
     },
     "metadata": {},
     "output_type": "display_data"
    }
   ],
   "source": [
    "initial_memories = np.array([tr[\"memories\"][0] for tr in trajectories])\n",
    "\n",
    "fig, ax = plt.subplots(1,1, figsize=(6,3))\n",
    "\n",
    "h, bins_h = np.histogram(initial_memories.flatten(), bins = np.arange(-0.5, M+0.5, 1))\n",
    "h = h/np.sum(h)\n",
    "bins_h = (bins_h[1:] + bins_h[:-1])/2\n",
    "\n",
    "ax.bar(bins_h, h, width = 0.8, color = 'dimgray', alpha = 0.5)\n",
    "\n",
    "ax.set_xlabel('Initial Memories')\n",
    "ax.set_ylabel('Frequency')\n",
    "\n",
    "ax.set_xticks(np.arange(0, M, 1))\n",
    "\n",
    "ax.set_title('Initial memory distribution of the trajectories')\n",
    "\n",
    "plt.show()"
   ]
  },
  {
   "cell_type": "code",
   "execution_count": 53,
   "metadata": {},
   "outputs": [
    {
     "data": {
      "text/plain": [
       "0.4866512640119291"
      ]
     },
     "execution_count": 53,
     "metadata": {},
     "output_type": "execute_result"
    }
   ],
   "source": [
    "FSC.evaluate_nloglikelihood(trajectories[0])"
   ]
  },
  {
   "cell_type": "markdown",
   "metadata": {},
   "source": [
    "### Inference"
   ]
  },
  {
   "cell_type": "code",
   "execution_count": 59,
   "metadata": {},
   "outputs": [
    {
     "data": {
      "text/plain": [
       "tensor(0.8743, device='mps:0', grad_fn=<SubBackward0>)"
      ]
     },
     "execution_count": 59,
     "metadata": {},
     "output_type": "execute_result"
    }
   ],
   "source": [
    "FSC_tofit = FSC_InferenceDiscreteObs(M, A, Y, seed = 123456)\n",
    "FSC_tofit.load_theta(Theta.astype(np.float32))\n",
    "FSC_tofit.load_trajectories(trajectories)\n",
    "FSC_tofit.evaluate_nloglikelihood(idx_traj = 0)"
   ]
  },
  {
   "cell_type": "code",
   "execution_count": 60,
   "metadata": {},
   "outputs": [],
   "source": [
    "psi_pre_fit = FSC_tofit.psi.detach().cpu().numpy()\n",
    "rho_pre_fit = FSC_tofit.rho.detach().cpu().numpy()"
   ]
  },
  {
   "cell_type": "code",
   "execution_count": 61,
   "metadata": {},
   "outputs": [
    {
     "name": "stdout",
     "output_type": "stream",
     "text": [
      "Training with 400 trajectories and validating with 100 trajectories.\n",
      "\t Epoch 1 - Batch 1 - Loss: 0.7698332214355469 - Learning rate: 0.2\n",
      "\t Epoch 1 - Batch 2 - Loss: 0.714845962524414 - Learning rate: 0.2\n",
      "\t Epoch 1 - Batch 3 - Loss: 0.6702141571044922 - Learning rate: 0.2\n",
      "\t Epoch 1 - Batch 4 - Loss: 0.6611512756347656 - Learning rate: 0.2\n",
      "Epoch 1 - Training loss: 0.7040111541748046, Validation loss: 0.6314100839197636\n",
      "\t Epoch 2 - Batch 1 - Loss: 0.6302373886108399 - Learning rate: 0.18000000000000002\n",
      "\t Epoch 2 - Batch 2 - Loss: 0.7171786499023437 - Learning rate: 0.18000000000000002\n",
      "\t Epoch 2 - Batch 3 - Loss: 0.7366289520263671 - Learning rate: 0.18000000000000002\n",
      "\t Epoch 2 - Batch 4 - Loss: 0.6752102661132813 - Learning rate: 0.18000000000000002\n",
      "Epoch 2 - Training loss: 0.689813814163208, Validation loss: 0.6226141440868378\n",
      "\t Epoch 3 - Batch 1 - Loss: 0.7171270751953125 - Learning rate: 0.16200000000000003\n",
      "\t Epoch 3 - Batch 2 - Loss: 0.6815667724609376 - Learning rate: 0.16200000000000003\n",
      "\t Epoch 3 - Batch 3 - Loss: 0.6663137817382813 - Learning rate: 0.16200000000000003\n",
      "\t Epoch 3 - Batch 4 - Loss: 0.6436777496337891 - Learning rate: 0.16200000000000003\n",
      "Epoch 3 - Training loss: 0.6771713447570801, Validation loss: 0.6134293460845948\n",
      "\t Epoch 4 - Batch 1 - Loss: 0.6572505950927734 - Learning rate: 0.14580000000000004\n",
      "\t Epoch 4 - Batch 2 - Loss: 0.6815071868896484 - Learning rate: 0.14580000000000004\n",
      "\t Epoch 4 - Batch 3 - Loss: 0.6659046173095703 - Learning rate: 0.14580000000000004\n",
      "\t Epoch 4 - Batch 4 - Loss: 0.688687973022461 - Learning rate: 0.14580000000000004\n",
      "Epoch 4 - Training loss: 0.6733375930786133, Validation loss: 0.6130776619911193\n",
      "\t Epoch 5 - Batch 1 - Loss: 0.6594957733154296 - Learning rate: 0.13122000000000003\n",
      "\t Epoch 5 - Batch 2 - Loss: 0.6807215118408203 - Learning rate: 0.13122000000000003\n",
      "\t Epoch 5 - Batch 3 - Loss: 0.6631292724609374 - Learning rate: 0.13122000000000003\n",
      "\t Epoch 5 - Batch 4 - Loss: 0.6924275970458984 - Learning rate: 0.13122000000000003\n",
      "Epoch 5 - Training loss: 0.6739435386657715, Validation loss: 0.6133912274241448\n",
      "\t Epoch 6 - Batch 1 - Loss: 0.671639404296875 - Learning rate: 0.11809800000000004\n",
      "\t Epoch 6 - Batch 2 - Loss: 0.672992935180664 - Learning rate: 0.11809800000000004\n",
      "\t Epoch 6 - Batch 3 - Loss: 0.6750375366210938 - Learning rate: 0.11809800000000004\n",
      "\t Epoch 6 - Batch 4 - Loss: 0.6769490814208985 - Learning rate: 0.11809800000000004\n",
      "Epoch 6 - Training loss: 0.6741547393798828, Validation loss: 0.6135431119799614\n",
      "\t Epoch 7 - Batch 1 - Loss: 0.6437484741210937 - Learning rate: 0.10628820000000004\n",
      "\t Epoch 7 - Batch 2 - Loss: 0.7319345092773437 - Learning rate: 0.10628820000000004\n",
      "\t Epoch 7 - Batch 3 - Loss: 0.6807032012939453 - Learning rate: 0.10628820000000004\n",
      "\t Epoch 7 - Batch 4 - Loss: 0.6402235412597657 - Learning rate: 0.10628820000000004\n",
      "Epoch 7 - Training loss: 0.6741524314880372, Validation loss: 0.6134826636314392\n",
      "\t Epoch 8 - Batch 1 - Loss: 0.6706887817382813 - Learning rate: 0.09565938000000004\n",
      "\t Epoch 8 - Batch 2 - Loss: 0.6503964996337891 - Learning rate: 0.09565938000000004\n",
      "\t Epoch 8 - Batch 3 - Loss: 0.6870876312255859 - Learning rate: 0.09565938000000004\n",
      "\t Epoch 8 - Batch 4 - Loss: 0.6881438446044922 - Learning rate: 0.09565938000000004\n",
      "Epoch 8 - Training loss: 0.6740791893005371, Validation loss: 0.6134163025021553\n",
      "\t Epoch 9 - Batch 1 - Loss: 0.6890457153320313 - Learning rate: 0.08609344200000005\n",
      "\t Epoch 9 - Batch 2 - Loss: 0.645008544921875 - Learning rate: 0.08609344200000005\n",
      "\t Epoch 9 - Batch 3 - Loss: 0.6669947814941406 - Learning rate: 0.08609344200000005\n",
      "\t Epoch 9 - Batch 4 - Loss: 0.6949411010742188 - Learning rate: 0.08609344200000005\n",
      "Epoch 9 - Training loss: 0.6739975357055664, Validation loss: 0.613385069668293\n",
      "\t Epoch 10 - Batch 1 - Loss: 0.7196664428710937 - Learning rate: 0.07748409780000004\n",
      "\t Epoch 10 - Batch 2 - Loss: 0.6149643325805664 - Learning rate: 0.07748409780000004\n",
      "\t Epoch 10 - Batch 3 - Loss: 0.7039694213867187 - Learning rate: 0.07748409780000004\n",
      "\t Epoch 10 - Batch 4 - Loss: 0.6575457763671875 - Learning rate: 0.07748409780000004\n",
      "Epoch 10 - Training loss: 0.6740364933013916, Validation loss: 0.6132421311736107\n",
      "\t Epoch 11 - Batch 1 - Loss: 0.6699685668945312 - Learning rate: 0.06973568802000003\n",
      "\t Epoch 11 - Batch 2 - Loss: 0.7033335876464843 - Learning rate: 0.06973568802000003\n",
      "\t Epoch 11 - Batch 3 - Loss: 0.6807836151123047 - Learning rate: 0.06973568802000003\n",
      "\t Epoch 11 - Batch 4 - Loss: 0.6412514495849609 - Learning rate: 0.06973568802000003\n",
      "Epoch 11 - Training loss: 0.6738343048095703, Validation loss: 0.613210683465004\n",
      "\t Epoch 12 - Batch 1 - Loss: 0.6745320129394531 - Learning rate: 0.06276211921800003\n",
      "\t Epoch 12 - Batch 2 - Loss: 0.6787317657470703 - Learning rate: 0.06276211921800003\n",
      "\t Epoch 12 - Batch 3 - Loss: 0.6590734100341797 - Learning rate: 0.06276211921800003\n",
      "\t Epoch 12 - Batch 4 - Loss: 0.6829914855957031 - Learning rate: 0.06276211921800003\n",
      "Epoch 12 - Training loss: 0.6738321685791016, Validation loss: 0.613119401037693\n",
      "\t Epoch 13 - Batch 1 - Loss: 0.6729610443115235 - Learning rate: 0.056485907296200025\n",
      "\t Epoch 13 - Batch 2 - Loss: 0.7040965270996093 - Learning rate: 0.056485907296200025\n",
      "\t Epoch 13 - Batch 3 - Loss: 0.6993775177001953 - Learning rate: 0.056485907296200025\n",
      "\t Epoch 13 - Batch 4 - Loss: 0.618472023010254 - Learning rate: 0.056485907296200025\n",
      "Epoch 13 - Training loss: 0.6737267780303955, Validation loss: 0.6130897983908653\n",
      "\t Epoch 14 - Batch 1 - Loss: 0.7134475708007812 - Learning rate: 0.050837316566580026\n",
      "\t Epoch 14 - Batch 2 - Loss: 0.6601020050048828 - Learning rate: 0.050837316566580026\n",
      "\t Epoch 14 - Batch 3 - Loss: 0.6561595153808594 - Learning rate: 0.050837316566580026\n",
      "\t Epoch 14 - Batch 4 - Loss: 0.665407943725586 - Learning rate: 0.050837316566580026\n",
      "Epoch 14 - Training loss: 0.6737792587280274, Validation loss: 0.6130558177828789\n",
      "\t Epoch 15 - Batch 1 - Loss: 0.6736134338378906 - Learning rate: 0.04575358490992203\n",
      "\t Epoch 15 - Batch 2 - Loss: 0.7016291809082031 - Learning rate: 0.04575358490992203\n",
      "\t Epoch 15 - Batch 3 - Loss: 0.6748252105712891 - Learning rate: 0.04575358490992203\n",
      "\t Epoch 15 - Batch 4 - Loss: 0.6447335815429688 - Learning rate: 0.04575358490992203\n",
      "Epoch 15 - Training loss: 0.6737003517150879, Validation loss: 0.6130055430531501\n",
      "\t Epoch 16 - Batch 1 - Loss: 0.6994120025634766 - Learning rate: 0.04117822641892983\n",
      "\t Epoch 16 - Batch 2 - Loss: 0.6606145477294922 - Learning rate: 0.04117822641892983\n",
      "\t Epoch 16 - Batch 3 - Loss: 0.7363562774658203 - Learning rate: 0.04117822641892983\n",
      "\t Epoch 16 - Batch 4 - Loss: 0.5984954071044922 - Learning rate: 0.04117822641892983\n",
      "Epoch 16 - Training loss: 0.6737195587158203, Validation loss: 0.6129921090602874\n",
      "\t Epoch 17 - Batch 1 - Loss: 0.6906348419189453 - Learning rate: 0.03706040377703684\n",
      "\t Epoch 17 - Batch 2 - Loss: 0.6671242523193359 - Learning rate: 0.03706040377703684\n",
      "\t Epoch 17 - Batch 3 - Loss: 0.634710922241211 - Learning rate: 0.03706040377703684\n",
      "\t Epoch 17 - Batch 4 - Loss: 0.7021623992919922 - Learning rate: 0.03706040377703684\n",
      "Epoch 17 - Training loss: 0.6736581039428712, Validation loss: 0.6129611191153527\n",
      "\t Epoch 18 - Batch 1 - Loss: 0.7014905548095703 - Learning rate: 0.03335436339933316\n",
      "\t Epoch 18 - Batch 2 - Loss: 0.6768229675292968 - Learning rate: 0.03335436339933316\n",
      "\t Epoch 18 - Batch 3 - Loss: 0.6451458740234375 - Learning rate: 0.03335436339933316\n",
      "\t Epoch 18 - Batch 4 - Loss: 0.6711122131347657 - Learning rate: 0.03335436339933316\n",
      "Epoch 18 - Training loss: 0.6736429023742676, Validation loss: 0.6129445019364357\n",
      "\t Epoch 19 - Batch 1 - Loss: 0.686520767211914 - Learning rate: 0.030018927059399847\n",
      "\t Epoch 19 - Batch 2 - Loss: 0.6725897216796874 - Learning rate: 0.030018927059399847\n",
      "\t Epoch 19 - Batch 3 - Loss: 0.6561540222167969 - Learning rate: 0.030018927059399847\n",
      "\t Epoch 19 - Batch 4 - Loss: 0.6791213989257813 - Learning rate: 0.030018927059399847\n",
      "Epoch 19 - Training loss: 0.6735964775085449, Validation loss: 0.6129396981000901\n",
      "\t Epoch 20 - Batch 1 - Loss: 0.657840576171875 - Learning rate: 0.027017034353459864\n",
      "\t Epoch 20 - Batch 2 - Loss: 0.7171820831298829 - Learning rate: 0.027017034353459864\n",
      "\t Epoch 20 - Batch 3 - Loss: 0.6753752899169921 - Learning rate: 0.027017034353459864\n",
      "\t Epoch 20 - Batch 4 - Loss: 0.644136734008789 - Learning rate: 0.027017034353459864\n",
      "Epoch 20 - Training loss: 0.6736336708068847, Validation loss: 0.6129259994626045\n",
      "\t Epoch 21 - Batch 1 - Loss: 0.689632568359375 - Learning rate: 0.02431533091811388\n",
      "\t Epoch 21 - Batch 2 - Loss: 0.7004925537109375 - Learning rate: 0.02431533091811388\n",
      "\t Epoch 21 - Batch 3 - Loss: 0.6660396575927734 - Learning rate: 0.02431533091811388\n",
      "\t Epoch 21 - Batch 4 - Loss: 0.6382485580444336 - Learning rate: 0.02431533091811388\n",
      "Epoch 21 - Training loss: 0.6736033344268799, Validation loss: 0.612930329144001\n",
      "\t Epoch 22 - Batch 1 - Loss: 0.6631728363037109 - Learning rate: 0.02188379782630249\n",
      "\t Epoch 22 - Batch 2 - Loss: 0.6696757507324219 - Learning rate: 0.02188379782630249\n",
      "\t Epoch 22 - Batch 3 - Loss: 0.6955435180664062 - Learning rate: 0.02188379782630249\n",
      "\t Epoch 22 - Batch 4 - Loss: 0.6660086059570313 - Learning rate: 0.02188379782630249\n",
      "Epoch 22 - Training loss: 0.6736001777648927, Validation loss: 0.6129247677326203\n",
      "\t Epoch 23 - Batch 1 - Loss: 0.6739263916015625 - Learning rate: 0.019695418043672242\n",
      "\t Epoch 23 - Batch 2 - Loss: 0.7093150329589843 - Learning rate: 0.019695418043672242\n",
      "\t Epoch 23 - Batch 3 - Loss: 0.6413434600830078 - Learning rate: 0.019695418043672242\n",
      "\t Epoch 23 - Batch 4 - Loss: 0.6697692108154297 - Learning rate: 0.019695418043672242\n",
      "Epoch 23 - Training loss: 0.6735885238647461, Validation loss: 0.6129224854707718\n",
      "\t Epoch 24 - Batch 1 - Loss: 0.632842903137207 - Learning rate: 0.01772587623930502\n",
      "\t Epoch 24 - Batch 2 - Loss: 0.7034516143798828 - Learning rate: 0.01772587623930502\n",
      "\t Epoch 24 - Batch 3 - Loss: 0.6615222930908203 - Learning rate: 0.01772587623930502\n",
      "\t Epoch 24 - Batch 4 - Loss: 0.6967879486083984 - Learning rate: 0.01772587623930502\n",
      "Epoch 24 - Training loss: 0.6736511898040771, Validation loss: 0.6129161050915718\n",
      "\t Epoch 25 - Batch 1 - Loss: 0.6777435302734375 - Learning rate: 0.015953288615374518\n",
      "\t Epoch 25 - Batch 2 - Loss: 0.6356102752685547 - Learning rate: 0.015953288615374518\n",
      "\t Epoch 25 - Batch 3 - Loss: 0.6794997406005859 - Learning rate: 0.015953288615374518\n",
      "\t Epoch 25 - Batch 4 - Loss: 0.701541519165039 - Learning rate: 0.015953288615374518\n",
      "Epoch 25 - Training loss: 0.6735987663269043, Validation loss: 0.6129161268472672\n",
      "\t Epoch 26 - Batch 1 - Loss: 0.6146986389160156 - Learning rate: 0.014357959753837067\n",
      "\t Epoch 26 - Batch 2 - Loss: 0.7152559661865234 - Learning rate: 0.014357959753837067\n",
      "\t Epoch 26 - Batch 3 - Loss: 0.65305908203125 - Learning rate: 0.014357959753837067\n",
      "\t Epoch 26 - Batch 4 - Loss: 0.711341552734375 - Learning rate: 0.014357959753837067\n",
      "Epoch 26 - Training loss: 0.6735888099670411, Validation loss: 0.6129151633381844\n",
      "\t Epoch 27 - Batch 1 - Loss: 0.6633180999755859 - Learning rate: 0.012922163778453361\n",
      "\t Epoch 27 - Batch 2 - Loss: 0.671862564086914 - Learning rate: 0.012922163778453361\n",
      "\t Epoch 27 - Batch 3 - Loss: 0.6791440582275391 - Learning rate: 0.012922163778453361\n",
      "\t Epoch 27 - Batch 4 - Loss: 0.6800496673583984 - Learning rate: 0.012922163778453361\n",
      "Epoch 27 - Training loss: 0.6735935974121094, Validation loss: 0.6129176846146583\n",
      "\t Epoch 28 - Batch 1 - Loss: 0.7186490631103516 - Learning rate: 0.011629947400608026\n",
      "\t Epoch 28 - Batch 2 - Loss: 0.6564617919921875 - Learning rate: 0.011629947400608026\n",
      "\t Epoch 28 - Batch 3 - Loss: 0.6693016052246094 - Learning rate: 0.011629947400608026\n",
      "\t Epoch 28 - Batch 4 - Loss: 0.6499427032470703 - Learning rate: 0.011629947400608026\n",
      "Epoch 28 - Training loss: 0.6735887908935546, Validation loss: 0.6129163128137588\n",
      "\t Epoch 29 - Batch 1 - Loss: 0.7246857452392578 - Learning rate: 0.010466952660547223\n",
      "\t Epoch 29 - Batch 2 - Loss: 0.6497190093994141 - Learning rate: 0.010466952660547223\n",
      "\t Epoch 29 - Batch 3 - Loss: 0.6994589233398437 - Learning rate: 0.010466952660547223\n",
      "\t Epoch 29 - Batch 4 - Loss: 0.6204820251464844 - Learning rate: 0.010466952660547223\n",
      "Epoch 29 - Training loss: 0.6735864257812499, Validation loss: 0.6129156681895256\n",
      "\t Epoch 30 - Batch 1 - Loss: 0.6705005645751954 - Learning rate: 0.0094202573944925\n",
      "\t Epoch 30 - Batch 2 - Loss: 0.6906307220458985 - Learning rate: 0.0094202573944925\n",
      "\t Epoch 30 - Batch 3 - Loss: 0.646843032836914 - Learning rate: 0.0094202573944925\n",
      "\t Epoch 30 - Batch 4 - Loss: 0.6863667297363282 - Learning rate: 0.0094202573944925\n",
      "Epoch 30 - Training loss: 0.6735852622985841, Validation loss: 0.6129153847694397\n",
      "\t Epoch 31 - Batch 1 - Loss: 0.6453652191162109 - Learning rate: 0.008478231655043252\n",
      "\t Epoch 31 - Batch 2 - Loss: 0.7146699523925781 - Learning rate: 0.008478231655043252\n",
      "\t Epoch 31 - Batch 3 - Loss: 0.674767837524414 - Learning rate: 0.008478231655043252\n",
      "\t Epoch 31 - Batch 4 - Loss: 0.6595896911621094 - Learning rate: 0.008478231655043252\n",
      "Epoch 31 - Training loss: 0.6735981750488281, Validation loss: 0.612912925183773\n",
      "\t Epoch 32 - Batch 1 - Loss: 0.6937792205810547 - Learning rate: 0.007630408489538927\n",
      "\t Epoch 32 - Batch 2 - Loss: 0.6618302154541016 - Learning rate: 0.007630408489538927\n",
      "\t Epoch 32 - Batch 3 - Loss: 0.6687447357177735 - Learning rate: 0.007630408489538927\n",
      "\t Epoch 32 - Batch 4 - Loss: 0.6700016021728515 - Learning rate: 0.007630408489538927\n",
      "Epoch 32 - Training loss: 0.6735889434814454, Validation loss: 0.6129142886400223\n",
      "\t Epoch 33 - Batch 1 - Loss: 0.649486083984375 - Learning rate: 0.006867367640585034\n",
      "\t Epoch 33 - Batch 2 - Loss: 0.6927946472167968 - Learning rate: 0.006867367640585034\n",
      "\t Epoch 33 - Batch 3 - Loss: 0.676531753540039 - Learning rate: 0.006867367640585034\n",
      "\t Epoch 33 - Batch 4 - Loss: 0.6755525207519532 - Learning rate: 0.006867367640585034\n",
      "Epoch 33 - Training loss: 0.673591251373291, Validation loss: 0.6129123827815056\n",
      "\t Epoch 34 - Batch 1 - Loss: 0.7010234069824218 - Learning rate: 0.0061806308765265305\n",
      "\t Epoch 34 - Batch 2 - Loss: 0.6454322814941407 - Learning rate: 0.0061806308765265305\n",
      "\t Epoch 34 - Batch 3 - Loss: 0.6358971786499024 - Learning rate: 0.0061806308765265305\n",
      "\t Epoch 34 - Batch 4 - Loss: 0.7119859313964844 - Learning rate: 0.0061806308765265305\n",
      "Epoch 34 - Training loss: 0.6735846996307373, Validation loss: 0.6129131424427032\n",
      "\t Epoch 35 - Batch 1 - Loss: 0.7313188934326171 - Learning rate: 0.005562567788873878\n",
      "\t Epoch 35 - Batch 2 - Loss: 0.6156473922729492 - Learning rate: 0.005562567788873878\n",
      "\t Epoch 35 - Batch 3 - Loss: 0.6608591461181641 - Learning rate: 0.005562567788873878\n",
      "\t Epoch 35 - Batch 4 - Loss: 0.686510238647461 - Learning rate: 0.005562567788873878\n",
      "Epoch 35 - Training loss: 0.6735839176177979, Validation loss: 0.6129127264022827\n",
      "\t Epoch 36 - Batch 1 - Loss: 0.6871792602539063 - Learning rate: 0.00500631100998649\n",
      "\t Epoch 36 - Batch 2 - Loss: 0.6607215881347657 - Learning rate: 0.00500631100998649\n",
      "\t Epoch 36 - Batch 3 - Loss: 0.6650043487548828 - Learning rate: 0.00500631100998649\n",
      "\t Epoch 36 - Batch 4 - Loss: 0.6814552307128906 - Learning rate: 0.00500631100998649\n",
      "Epoch 36 - Training loss: 0.6735901069641114, Validation loss: 0.6129138150811195\n",
      "\t Epoch 37 - Batch 1 - Loss: 0.6906466674804688 - Learning rate: 0.004505679908987841\n",
      "\t Epoch 37 - Batch 2 - Loss: 0.6734747314453124 - Learning rate: 0.004505679908987841\n",
      "\t Epoch 37 - Batch 3 - Loss: 0.6942464447021485 - Learning rate: 0.004505679908987841\n",
      "\t Epoch 37 - Batch 4 - Loss: 0.6360388946533203 - Learning rate: 0.004505679908987841\n",
      "Epoch 37 - Training loss: 0.6736016845703126, Validation loss: 0.6129116532206536\n",
      "\t Epoch 38 - Batch 1 - Loss: 0.6857020568847656 - Learning rate: 0.004055111918089057\n",
      "\t Epoch 38 - Batch 2 - Loss: 0.6894229125976562 - Learning rate: 0.004055111918089057\n",
      "\t Epoch 38 - Batch 3 - Loss: 0.6580857086181641 - Learning rate: 0.004055111918089057\n",
      "\t Epoch 38 - Batch 4 - Loss: 0.6611486053466797 - Learning rate: 0.004055111918089057\n",
      "Epoch 38 - Training loss: 0.6735898208618164, Validation loss: 0.612913108766079\n",
      "\t Epoch 39 - Batch 1 - Loss: 0.6709915924072266 - Learning rate: 0.0036496007262801517\n",
      "\t Epoch 39 - Batch 2 - Loss: 0.6513533020019531 - Learning rate: 0.0036496007262801517\n",
      "\t Epoch 39 - Batch 3 - Loss: 0.6915987396240234 - Learning rate: 0.0036496007262801517\n",
      "\t Epoch 39 - Batch 4 - Loss: 0.6804044342041016 - Learning rate: 0.0036496007262801517\n",
      "Epoch 39 - Training loss: 0.6735870170593261, Validation loss: 0.612913191318512\n",
      "\t Epoch 40 - Batch 1 - Loss: 0.7139110565185547 - Learning rate: 0.0032846406536521365\n",
      "\t Epoch 40 - Batch 2 - Loss: 0.6460511016845704 - Learning rate: 0.0032846406536521365\n",
      "\t Epoch 40 - Batch 3 - Loss: 0.6749344635009765 - Learning rate: 0.0032846406536521365\n",
      "\t Epoch 40 - Batch 4 - Loss: 0.6594426727294922 - Learning rate: 0.0032846406536521365\n",
      "Epoch 40 - Training loss: 0.6735848236083986, Validation loss: 0.6129129487276077\n"
     ]
    }
   ],
   "source": [
    "tloss, vloss = FSC_tofit.optimize_psionly(NEpochs = 40, NBatch = 100, lr = 0.2, gamma = 0.9)"
   ]
  },
  {
   "cell_type": "markdown",
   "metadata": {},
   "source": [
    "### Comparison"
   ]
  },
  {
   "cell_type": "code",
   "execution_count": 62,
   "metadata": {},
   "outputs": [
    {
     "name": "stdout",
     "output_type": "stream",
     "text": [
      "Initializing FSC with 2 memory states, 2 actions, and 5 observations.\n"
     ]
    }
   ],
   "source": [
    "FSC_inferred = FSC_DiscreteObs(FSC_tofit.theta.detach().cpu().double().numpy(),\n",
    "                               FSC_tofit.psi.detach().cpu().double().numpy(), verbose = True)"
   ]
  },
  {
   "cell_type": "code",
   "execution_count": 63,
   "metadata": {},
   "outputs": [
    {
     "data": {
      "image/png": "[encoded data removed]",
      "text/plain": [
       "<Figure size 700x400 with 1 Axes>"
      ]
     },
     "metadata": {},
     "output_type": "display_data"
    }
   ],
   "source": [
    "fig, ax = plt.subplots(1,1, figsize=(7,4))\n",
    "ax.bar(bins_h, h, color = \"dimgray\", alpha = 0.5, label = \"True\")\n",
    "ax.scatter(np.arange(M), FSC_inferred.rho, color = \"black\", marker = \"D\", s = 50, label = \"Inferred\")\n",
    "ax.scatter(np.arange(M), rho_pre_fit, color = \"black\", marker = \"x\", s = 50, label = \"Pre-fit\")\n",
    "\n",
    "ax.set_xlabel(\"$m$\", fontsize = 15)\n",
    "ax.set_ylabel(\"$\\\\rho_m$\", fontsize = 15)\n",
    "\n",
    "ax.tick_params(axis='both', which='major', labelsize=12)\n",
    "\n",
    "plt.legend(fontsize = 14, bbox_to_anchor=(1.05, 1), loc='upper left')\n",
    "\n",
    "plt.show()"
   ]
  },
  {
   "cell_type": "markdown",
   "metadata": {},
   "source": [
    "# Finite State Controller with $M = 4$, $A = 3$, $Y = 5$"
   ]
  },
  {
   "cell_type": "markdown",
   "metadata": {},
   "source": [
    "# Observations, one step"
   ]
  },
  {
   "cell_type": "code",
   "execution_count": 64,
   "metadata": {},
   "outputs": [],
   "source": [
    "NStepsObs = 1\n",
    "NTraj = 1000\n",
    "Y = 5\n",
    "RateMatrixObs = np.ones((Y,Y))\n",
    "RateMatrixObs = RateMatrixObs + 2*np.eye(Y)\n",
    "\n",
    "observations = ObsModels.DiscreteMarkovChain(NTraj, NStepsObs, RateMatrixObs, initial_seed = 0)"
   ]
  },
  {
   "cell_type": "code",
   "execution_count": 66,
   "metadata": {},
   "outputs": [
    {
     "name": "stdout",
     "output_type": "stream",
     "text": [
      "Initializing FSC with 4 memory states, 3 actions, and 5 observations.\n"
     ]
    }
   ],
   "source": [
    "M = 4\n",
    "A = 3\n",
    "\n",
    "np.random.seed(0)\n",
    "Theta = np.random.randn(Y, M, M, A)\n",
    "\n",
    "Psi = np.random.randn(M)\n",
    "\n",
    "FSC = FSC_DiscreteObs(Theta, Psi, verbose = True)"
   ]
  },
  {
   "cell_type": "code",
   "execution_count": 67,
   "metadata": {},
   "outputs": [],
   "source": [
    "FSC.load_observations(observations)"
   ]
  },
  {
   "cell_type": "code",
   "execution_count": 69,
   "metadata": {},
   "outputs": [],
   "source": [
    "NSteps = NStepsObs\n",
    "trajectories = FSC.generate_trajectories(NSteps)\n",
    "Time = np.arange(NSteps)"
   ]
  },
  {
   "cell_type": "code",
   "execution_count": 70,
   "metadata": {},
   "outputs": [
    {
     "data": {
      "image/png": "[encoded data removed]",
      "text/plain": [
       "<Figure size 600x300 with 1 Axes>"
      ]
     },
     "metadata": {},
     "output_type": "display_data"
    }
   ],
   "source": [
    "initial_memories = np.array([tr[\"memories\"][0] for tr in trajectories])\n",
    "\n",
    "fig, ax = plt.subplots(1,1, figsize=(6,3))\n",
    "\n",
    "h, bins_h = np.histogram(initial_memories.flatten(), bins = np.arange(-0.5, M+0.5, 1))\n",
    "h = h/np.sum(h)\n",
    "bins_h = (bins_h[1:] + bins_h[:-1])/2\n",
    "\n",
    "ax.bar(bins_h, h, width = 0.8, color = 'dimgray', alpha = 0.5)\n",
    "\n",
    "ax.set_xlabel('Initial Memories')\n",
    "ax.set_ylabel('Frequency')\n",
    "\n",
    "ax.set_xticks(np.arange(0, M, 1))\n",
    "\n",
    "ax.set_title('Initial memory distribution of the trajectories')\n",
    "\n",
    "plt.show()"
   ]
  },
  {
   "cell_type": "code",
   "execution_count": 71,
   "metadata": {},
   "outputs": [
    {
     "data": {
      "text/plain": [
       "0.7842935779887066"
      ]
     },
     "execution_count": 71,
     "metadata": {},
     "output_type": "execute_result"
    }
   ],
   "source": [
    "FSC.evaluate_nloglikelihood(trajectories[0])"
   ]
  },
  {
   "cell_type": "markdown",
   "metadata": {},
   "source": [
    "### Inference"
   ]
  },
  {
   "cell_type": "code",
   "execution_count": 72,
   "metadata": {},
   "outputs": [
    {
     "data": {
      "text/plain": [
       "tensor(0.7764, device='mps:0', grad_fn=<SubBackward0>)"
      ]
     },
     "execution_count": 72,
     "metadata": {},
     "output_type": "execute_result"
    }
   ],
   "source": [
    "FSC_tofit = FSC_InferenceDiscreteObs(M, A, Y, seed = 123)\n",
    "FSC_tofit.load_theta(Theta.astype(np.float32))\n",
    "FSC_tofit.load_trajectories(trajectories)\n",
    "FSC_tofit.evaluate_nloglikelihood(idx_traj = 0)"
   ]
  },
  {
   "cell_type": "code",
   "execution_count": 73,
   "metadata": {},
   "outputs": [],
   "source": [
    "psi_pre_fit = FSC_tofit.psi.detach().cpu().numpy()\n",
    "rho_pre_fit = FSC_tofit.rho.detach().cpu().numpy()"
   ]
  },
  {
   "cell_type": "code",
   "execution_count": 74,
   "metadata": {},
   "outputs": [
    {
     "name": "stdout",
     "output_type": "stream",
     "text": [
      "Training with 800 trajectories and validating with 200 trajectories.\n",
      "\t Epoch 1 - Batch 1 - Loss: 1.066803970336914 - Learning rate: 0.1\n",
      "\t Epoch 1 - Batch 2 - Loss: 1.0836109161376952 - Learning rate: 0.1\n",
      "\t Epoch 1 - Batch 3 - Loss: 1.076968002319336 - Learning rate: 0.1\n",
      "\t Epoch 1 - Batch 4 - Loss: 1.0709051513671874 - Learning rate: 0.1\n",
      "\t Epoch 1 - Batch 5 - Loss: 1.054081802368164 - Learning rate: 0.1\n",
      "\t Epoch 1 - Batch 6 - Loss: 1.0732620239257813 - Learning rate: 0.1\n",
      "\t Epoch 1 - Batch 7 - Loss: 1.0946415710449218 - Learning rate: 0.1\n",
      "\t Epoch 1 - Batch 8 - Loss: 1.0795824432373047 - Learning rate: 0.1\n",
      "Epoch 1 - Training loss: 1.074981985092163, Validation loss: 1.0702756717801094\n",
      "\t Epoch 2 - Batch 1 - Loss: 1.0393124389648438 - Learning rate: 0.09000000000000001\n",
      "\t Epoch 2 - Batch 2 - Loss: 1.0712783813476563 - Learning rate: 0.09000000000000001\n",
      "\t Epoch 2 - Batch 3 - Loss: 1.0554747772216797 - Learning rate: 0.09000000000000001\n",
      "\t Epoch 2 - Batch 4 - Loss: 1.0869413757324218 - Learning rate: 0.09000000000000001\n",
      "\t Epoch 2 - Batch 5 - Loss: 1.0829839324951172 - Learning rate: 0.09000000000000001\n",
      "\t Epoch 2 - Batch 6 - Loss: 1.0839546203613282 - Learning rate: 0.09000000000000001\n",
      "\t Epoch 2 - Batch 7 - Loss: 1.0721092224121094 - Learning rate: 0.09000000000000001\n",
      "\t Epoch 2 - Batch 8 - Loss: 1.092656478881836 - Learning rate: 0.09000000000000001\n",
      "Epoch 2 - Training loss: 1.073088903427124, Validation loss: 1.0691953149437905\n",
      "\t Epoch 3 - Batch 1 - Loss: 1.0707147216796875 - Learning rate: 0.08100000000000002\n",
      "\t Epoch 3 - Batch 2 - Loss: 1.03882080078125 - Learning rate: 0.08100000000000002\n",
      "\t Epoch 3 - Batch 3 - Loss: 1.0695279693603517 - Learning rate: 0.08100000000000002\n",
      "\t Epoch 3 - Batch 4 - Loss: 1.0978925323486328 - Learning rate: 0.08100000000000002\n",
      "\t Epoch 3 - Batch 5 - Loss: 1.0628248596191405 - Learning rate: 0.08100000000000002\n",
      "\t Epoch 3 - Batch 6 - Loss: 1.0764895629882814 - Learning rate: 0.08100000000000002\n",
      "\t Epoch 3 - Batch 7 - Loss: 1.0475190734863282 - Learning rate: 0.08100000000000002\n",
      "\t Epoch 3 - Batch 8 - Loss: 1.110635757446289 - Learning rate: 0.08100000000000002\n",
      "Epoch 3 - Training loss: 1.0718031597137452, Validation loss: 1.0698076298832893\n",
      "\t Epoch 4 - Batch 1 - Loss: 1.0722491455078125 - Learning rate: 0.07290000000000002\n",
      "\t Epoch 4 - Batch 2 - Loss: 1.0814019775390624 - Learning rate: 0.07290000000000002\n",
      "\t Epoch 4 - Batch 3 - Loss: 1.0679989624023438 - Learning rate: 0.07290000000000002\n",
      "\t Epoch 4 - Batch 4 - Loss: 1.0436294555664063 - Learning rate: 0.07290000000000002\n",
      "\t Epoch 4 - Batch 5 - Loss: 1.0754266357421876 - Learning rate: 0.07290000000000002\n",
      "\t Epoch 4 - Batch 6 - Loss: 1.0862136840820313 - Learning rate: 0.07290000000000002\n",
      "\t Epoch 4 - Batch 7 - Loss: 1.0875022888183594 - Learning rate: 0.07290000000000002\n",
      "\t Epoch 4 - Batch 8 - Loss: 1.0614340209960937 - Learning rate: 0.07290000000000002\n",
      "Epoch 4 - Training loss: 1.071982021331787, Validation loss: 1.0700893846154214\n",
      "\t Epoch 5 - Batch 1 - Loss: 1.0428836059570312 - Learning rate: 0.06561000000000002\n",
      "\t Epoch 5 - Batch 2 - Loss: 1.1159731292724608 - Learning rate: 0.06561000000000002\n",
      "\t Epoch 5 - Batch 3 - Loss: 1.051789321899414 - Learning rate: 0.06561000000000002\n",
      "\t Epoch 5 - Batch 4 - Loss: 1.040500946044922 - Learning rate: 0.06561000000000002\n",
      "\t Epoch 5 - Batch 5 - Loss: 1.1179054260253907 - Learning rate: 0.06561000000000002\n",
      "\t Epoch 5 - Batch 6 - Loss: 1.0778533935546875 - Learning rate: 0.06561000000000002\n",
      "\t Epoch 5 - Batch 7 - Loss: 1.0497891235351562 - Learning rate: 0.06561000000000002\n",
      "\t Epoch 5 - Batch 8 - Loss: 1.0784148406982421 - Learning rate: 0.06561000000000002\n",
      "Epoch 5 - Training loss: 1.0718887233734131, Validation loss: 1.069893802702427\n",
      "\t Epoch 6 - Batch 1 - Loss: 1.0866999816894531 - Learning rate: 0.05904900000000002\n",
      "\t Epoch 6 - Batch 2 - Loss: 1.0789740753173829 - Learning rate: 0.05904900000000002\n",
      "\t Epoch 6 - Batch 3 - Loss: 1.1075908660888671 - Learning rate: 0.05904900000000002\n",
      "\t Epoch 6 - Batch 4 - Loss: 1.052828369140625 - Learning rate: 0.05904900000000002\n",
      "\t Epoch 6 - Batch 5 - Loss: 1.066302261352539 - Learning rate: 0.05904900000000002\n",
      "\t Epoch 6 - Batch 6 - Loss: 1.0905107879638671 - Learning rate: 0.05904900000000002\n",
      "\t Epoch 6 - Batch 7 - Loss: 1.0247492218017578 - Learning rate: 0.05904900000000002\n",
      "\t Epoch 6 - Batch 8 - Loss: 1.068252410888672 - Learning rate: 0.05904900000000002\n",
      "Epoch 6 - Training loss: 1.0719884967803954, Validation loss: 1.069612599313259\n",
      "\t Epoch 7 - Batch 1 - Loss: 1.055966796875 - Learning rate: 0.05314410000000002\n",
      "\t Epoch 7 - Batch 2 - Loss: 1.0496328735351563 - Learning rate: 0.05314410000000002\n",
      "\t Epoch 7 - Batch 3 - Loss: 1.0825662231445312 - Learning rate: 0.05314410000000002\n",
      "\t Epoch 7 - Batch 4 - Loss: 1.1078441619873047 - Learning rate: 0.05314410000000002\n",
      "\t Epoch 7 - Batch 5 - Loss: 1.0585623931884767 - Learning rate: 0.05314410000000002\n",
      "\t Epoch 7 - Batch 6 - Loss: 1.0858582305908202 - Learning rate: 0.05314410000000002\n",
      "\t Epoch 7 - Batch 7 - Loss: 1.0786904144287108 - Learning rate: 0.05314410000000002\n",
      "\t Epoch 7 - Batch 8 - Loss: 1.0550665283203124 - Learning rate: 0.05314410000000002\n",
      "Epoch 7 - Training loss: 1.071773452758789, Validation loss: 1.0696676406264305\n",
      "\t Epoch 8 - Batch 1 - Loss: 1.0578173828125 - Learning rate: 0.04782969000000002\n",
      "\t Epoch 8 - Batch 2 - Loss: 1.0821498870849608 - Learning rate: 0.04782969000000002\n",
      "\t Epoch 8 - Batch 3 - Loss: 1.0383750152587892 - Learning rate: 0.04782969000000002\n",
      "\t Epoch 8 - Batch 4 - Loss: 1.059189224243164 - Learning rate: 0.04782969000000002\n",
      "\t Epoch 8 - Batch 5 - Loss: 1.1078361511230468 - Learning rate: 0.04782969000000002\n",
      "\t Epoch 8 - Batch 6 - Loss: 1.0774988555908203 - Learning rate: 0.04782969000000002\n",
      "\t Epoch 8 - Batch 7 - Loss: 1.0780935668945313 - Learning rate: 0.04782969000000002\n",
      "\t Epoch 8 - Batch 8 - Loss: 1.0733850860595704 - Learning rate: 0.04782969000000002\n",
      "Epoch 8 - Training loss: 1.071793146133423, Validation loss: 1.0695732727646827\n",
      "\t Epoch 9 - Batch 1 - Loss: 1.0979086303710937 - Learning rate: 0.043046721000000024\n",
      "\t Epoch 9 - Batch 2 - Loss: 1.0461708831787109 - Learning rate: 0.043046721000000024\n",
      "\t Epoch 9 - Batch 3 - Loss: 1.0827508544921876 - Learning rate: 0.043046721000000024\n",
      "\t Epoch 9 - Batch 4 - Loss: 1.066984634399414 - Learning rate: 0.043046721000000024\n",
      "\t Epoch 9 - Batch 5 - Loss: 1.053313217163086 - Learning rate: 0.043046721000000024\n",
      "\t Epoch 9 - Batch 6 - Loss: 1.0932483673095703 - Learning rate: 0.043046721000000024\n",
      "\t Epoch 9 - Batch 7 - Loss: 1.046788558959961 - Learning rate: 0.043046721000000024\n",
      "\t Epoch 9 - Batch 8 - Loss: 1.0875677490234374 - Learning rate: 0.043046721000000024\n",
      "Epoch 9 - Training loss: 1.0718416118621825, Validation loss: 1.0698314973711966\n",
      "\t Epoch 10 - Batch 1 - Loss: 1.0756444549560547 - Learning rate: 0.03874204890000002\n",
      "\t Epoch 10 - Batch 2 - Loss: 1.069960250854492 - Learning rate: 0.03874204890000002\n",
      "\t Epoch 10 - Batch 3 - Loss: 1.0903885650634766 - Learning rate: 0.03874204890000002\n",
      "\t Epoch 10 - Batch 4 - Loss: 1.0503241729736328 - Learning rate: 0.03874204890000002\n",
      "\t Epoch 10 - Batch 5 - Loss: 1.0690917205810546 - Learning rate: 0.03874204890000002\n",
      "\t Epoch 10 - Batch 6 - Loss: 1.0474523162841798 - Learning rate: 0.03874204890000002\n",
      "\t Epoch 10 - Batch 7 - Loss: 1.1012776184082032 - Learning rate: 0.03874204890000002\n",
      "\t Epoch 10 - Batch 8 - Loss: 1.0698023986816407 - Learning rate: 0.03874204890000002\n",
      "Epoch 10 - Training loss: 1.071742687225342, Validation loss: 1.0698178702592849\n",
      "\t Epoch 11 - Batch 1 - Loss: 1.077317886352539 - Learning rate: 0.03486784401000002\n",
      "\t Epoch 11 - Batch 2 - Loss: 1.0720933532714845 - Learning rate: 0.03486784401000002\n",
      "\t Epoch 11 - Batch 3 - Loss: 1.0368856811523437 - Learning rate: 0.03486784401000002\n",
      "\t Epoch 11 - Batch 4 - Loss: 1.0629957580566407 - Learning rate: 0.03486784401000002\n",
      "\t Epoch 11 - Batch 5 - Loss: 1.0769869995117187 - Learning rate: 0.03486784401000002\n",
      "\t Epoch 11 - Batch 6 - Loss: 1.0936217498779297 - Learning rate: 0.03486784401000002\n",
      "\t Epoch 11 - Batch 7 - Loss: 1.073898468017578 - Learning rate: 0.03486784401000002\n",
      "\t Epoch 11 - Batch 8 - Loss: 1.0807644653320312 - Learning rate: 0.03486784401000002\n",
      "Epoch 11 - Training loss: 1.0718205451965332, Validation loss: 1.0698491117358209\n",
      "\t Epoch 12 - Batch 1 - Loss: 1.0574576568603515 - Learning rate: 0.03138105960900001\n",
      "\t Epoch 12 - Batch 2 - Loss: 1.0959115600585938 - Learning rate: 0.03138105960900001\n",
      "\t Epoch 12 - Batch 3 - Loss: 1.0705215454101562 - Learning rate: 0.03138105960900001\n",
      "\t Epoch 12 - Batch 4 - Loss: 1.0688904571533202 - Learning rate: 0.03138105960900001\n",
      "\t Epoch 12 - Batch 5 - Loss: 1.0516935729980468 - Learning rate: 0.03138105960900001\n",
      "\t Epoch 12 - Batch 6 - Loss: 1.052987289428711 - Learning rate: 0.03138105960900001\n",
      "\t Epoch 12 - Batch 7 - Loss: 1.1199068450927734 - Learning rate: 0.03138105960900001\n",
      "\t Epoch 12 - Batch 8 - Loss: 1.0565673065185548 - Learning rate: 0.03138105960900001\n",
      "Epoch 12 - Training loss: 1.0717420291900637, Validation loss: 1.0698433193564414\n",
      "\t Epoch 13 - Batch 1 - Loss: 1.1084001922607423 - Learning rate: 0.028242953648100012\n",
      "\t Epoch 13 - Batch 2 - Loss: 1.052493896484375 - Learning rate: 0.028242953648100012\n",
      "\t Epoch 13 - Batch 3 - Loss: 1.0804953002929687 - Learning rate: 0.028242953648100012\n",
      "\t Epoch 13 - Batch 4 - Loss: 1.0741868591308594 - Learning rate: 0.028242953648100012\n",
      "\t Epoch 13 - Batch 5 - Loss: 1.0750919342041017 - Learning rate: 0.028242953648100012\n",
      "\t Epoch 13 - Batch 6 - Loss: 1.0538848114013672 - Learning rate: 0.028242953648100012\n",
      "\t Epoch 13 - Batch 7 - Loss: 1.0462245178222656 - Learning rate: 0.028242953648100012\n",
      "\t Epoch 13 - Batch 8 - Loss: 1.0841919708251953 - Learning rate: 0.028242953648100012\n",
      "Epoch 13 - Training loss: 1.0718711853027343, Validation loss: 1.0701449102163314\n",
      "\t Epoch 14 - Batch 1 - Loss: 1.0529706573486328 - Learning rate: 0.025418658283290013\n",
      "\t Epoch 14 - Batch 2 - Loss: 1.0841278076171874 - Learning rate: 0.025418658283290013\n",
      "\t Epoch 14 - Batch 3 - Loss: 1.0732917785644531 - Learning rate: 0.025418658283290013\n",
      "\t Epoch 14 - Batch 4 - Loss: 1.0846426391601562 - Learning rate: 0.025418658283290013\n",
      "\t Epoch 14 - Batch 5 - Loss: 1.036707077026367 - Learning rate: 0.025418658283290013\n",
      "\t Epoch 14 - Batch 6 - Loss: 1.076481704711914 - Learning rate: 0.025418658283290013\n",
      "\t Epoch 14 - Batch 7 - Loss: 1.0738563537597656 - Learning rate: 0.025418658283290013\n",
      "\t Epoch 14 - Batch 8 - Loss: 1.0918360900878907 - Learning rate: 0.025418658283290013\n",
      "Epoch 14 - Training loss: 1.071739263534546, Validation loss: 1.0699959605932237\n",
      "\t Epoch 15 - Batch 1 - Loss: 1.0699178314208984 - Learning rate: 0.022876792454961013\n",
      "\t Epoch 15 - Batch 2 - Loss: 1.0820446014404297 - Learning rate: 0.022876792454961013\n",
      "\t Epoch 15 - Batch 3 - Loss: 1.0709940338134765 - Learning rate: 0.022876792454961013\n",
      "\t Epoch 15 - Batch 4 - Loss: 1.060429458618164 - Learning rate: 0.022876792454961013\n",
      "\t Epoch 15 - Batch 5 - Loss: 1.0915184783935548 - Learning rate: 0.022876792454961013\n",
      "\t Epoch 15 - Batch 6 - Loss: 1.055811080932617 - Learning rate: 0.022876792454961013\n",
      "\t Epoch 15 - Batch 7 - Loss: 1.0778479766845703 - Learning rate: 0.022876792454961013\n",
      "\t Epoch 15 - Batch 8 - Loss: 1.0653590393066406 - Learning rate: 0.022876792454961013\n",
      "Epoch 15 - Training loss: 1.0717403125762939, Validation loss: 1.069931146800518\n",
      "\t Epoch 16 - Batch 1 - Loss: 1.0695236206054688 - Learning rate: 0.020589113209464913\n",
      "\t Epoch 16 - Batch 2 - Loss: 1.0666413879394532 - Learning rate: 0.020589113209464913\n",
      "\t Epoch 16 - Batch 3 - Loss: 1.0748698425292968 - Learning rate: 0.020589113209464913\n",
      "\t Epoch 16 - Batch 4 - Loss: 1.071344985961914 - Learning rate: 0.020589113209464913\n",
      "\t Epoch 16 - Batch 5 - Loss: 1.0449379730224608 - Learning rate: 0.020589113209464913\n",
      "\t Epoch 16 - Batch 6 - Loss: 1.072347183227539 - Learning rate: 0.020589113209464913\n",
      "\t Epoch 16 - Batch 7 - Loss: 1.077900619506836 - Learning rate: 0.020589113209464913\n",
      "\t Epoch 16 - Batch 8 - Loss: 1.0965570068359376 - Learning rate: 0.020589113209464913\n",
      "Epoch 16 - Training loss: 1.0717653274536132, Validation loss: 1.070028083026409\n",
      "\t Epoch 17 - Batch 1 - Loss: 1.0688626861572266 - Learning rate: 0.01853020188851842\n",
      "\t Epoch 17 - Batch 2 - Loss: 1.1029886627197265 - Learning rate: 0.01853020188851842\n",
      "\t Epoch 17 - Batch 3 - Loss: 1.0873004913330078 - Learning rate: 0.01853020188851842\n",
      "\t Epoch 17 - Batch 4 - Loss: 1.1147457122802735 - Learning rate: 0.01853020188851842\n",
      "\t Epoch 17 - Batch 5 - Loss: 1.0415941619873046 - Learning rate: 0.01853020188851842\n",
      "\t Epoch 17 - Batch 6 - Loss: 1.0490799713134766 - Learning rate: 0.01853020188851842\n",
      "\t Epoch 17 - Batch 7 - Loss: 1.0643882751464844 - Learning rate: 0.01853020188851842\n",
      "\t Epoch 17 - Batch 8 - Loss: 1.0448004150390624 - Learning rate: 0.01853020188851842\n",
      "Epoch 17 - Training loss: 1.0717200469970702, Validation loss: 1.0700829833745957\n",
      "\t Epoch 18 - Batch 1 - Loss: 1.0227161407470704 - Learning rate: 0.01667718169966658\n",
      "\t Epoch 18 - Batch 2 - Loss: 1.0892566680908202 - Learning rate: 0.01667718169966658\n",
      "\t Epoch 18 - Batch 3 - Loss: 1.0852405548095703 - Learning rate: 0.01667718169966658\n",
      "\t Epoch 18 - Batch 4 - Loss: 1.0608889770507812 - Learning rate: 0.01667718169966658\n",
      "\t Epoch 18 - Batch 5 - Loss: 1.1060221099853516 - Learning rate: 0.01667718169966658\n",
      "\t Epoch 18 - Batch 6 - Loss: 1.0627708435058594 - Learning rate: 0.01667718169966658\n",
      "\t Epoch 18 - Batch 7 - Loss: 1.0595398712158204 - Learning rate: 0.01667718169966658\n",
      "\t Epoch 18 - Batch 8 - Loss: 1.0874195861816407 - Learning rate: 0.01667718169966658\n",
      "Epoch 18 - Training loss: 1.0717318439483643, Validation loss: 1.0698698207736015\n",
      "\t Epoch 19 - Batch 1 - Loss: 1.0858558654785155 - Learning rate: 0.015009463529699923\n",
      "\t Epoch 19 - Batch 2 - Loss: 1.1062083435058594 - Learning rate: 0.015009463529699923\n",
      "\t Epoch 19 - Batch 3 - Loss: 1.0899789428710938 - Learning rate: 0.015009463529699923\n",
      "\t Epoch 19 - Batch 4 - Loss: 1.0646286010742188 - Learning rate: 0.015009463529699923\n",
      "\t Epoch 19 - Batch 5 - Loss: 1.0863394165039062 - Learning rate: 0.015009463529699923\n",
      "\t Epoch 19 - Batch 6 - Loss: 1.0475022888183594 - Learning rate: 0.015009463529699923\n",
      "\t Epoch 19 - Batch 7 - Loss: 1.0223020935058593 - Learning rate: 0.015009463529699923\n",
      "\t Epoch 19 - Batch 8 - Loss: 1.0707014465332032 - Learning rate: 0.015009463529699923\n",
      "Epoch 19 - Training loss: 1.0716896247863767, Validation loss: 1.0698776316642762\n",
      "\t Epoch 20 - Batch 1 - Loss: 1.0380432891845703 - Learning rate: 0.013508517176729932\n",
      "\t Epoch 20 - Batch 2 - Loss: 1.050901870727539 - Learning rate: 0.013508517176729932\n",
      "\t Epoch 20 - Batch 3 - Loss: 1.0695085906982422 - Learning rate: 0.013508517176729932\n",
      "\t Epoch 20 - Batch 4 - Loss: 1.0801366424560548 - Learning rate: 0.013508517176729932\n",
      "\t Epoch 20 - Batch 5 - Loss: 1.073116226196289 - Learning rate: 0.013508517176729932\n",
      "\t Epoch 20 - Batch 6 - Loss: 1.0714991760253907 - Learning rate: 0.013508517176729932\n",
      "\t Epoch 20 - Batch 7 - Loss: 1.109648208618164 - Learning rate: 0.013508517176729932\n",
      "\t Epoch 20 - Batch 8 - Loss: 1.0809469604492188 - Learning rate: 0.013508517176729932\n",
      "Epoch 20 - Training loss: 1.0717251205444338, Validation loss: 1.069807505607605\n"
     ]
    }
   ],
   "source": [
    "tloss, vloss = FSC_tofit.optimize_psionly(NEpochs = 20, NBatch = 100, lr = 0.1, gamma = 0.9)"
   ]
  },
  {
   "cell_type": "markdown",
   "metadata": {},
   "source": [
    "### Comparison"
   ]
  },
  {
   "cell_type": "code",
   "execution_count": 75,
   "metadata": {},
   "outputs": [
    {
     "name": "stdout",
     "output_type": "stream",
     "text": [
      "Initializing FSC with 4 memory states, 3 actions, and 5 observations.\n"
     ]
    }
   ],
   "source": [
    "FSC_inferred = FSC_DiscreteObs(FSC_tofit.theta.detach().cpu().double().numpy(),\n",
    "                               FSC_tofit.psi.detach().cpu().double().numpy(), verbose = True)"
   ]
  },
  {
   "cell_type": "code",
   "execution_count": 76,
   "metadata": {},
   "outputs": [
    {
     "data": {
      "image/png": "[encoded data removed]",
      "text/plain": [
       "<Figure size 700x400 with 1 Axes>"
      ]
     },
     "metadata": {},
     "output_type": "display_data"
    }
   ],
   "source": [
    "fig, ax = plt.subplots(1,1, figsize=(7,4))\n",
    "ax.bar(bins_h, h, color = \"dimgray\", alpha = 0.5, label = \"True\")\n",
    "ax.scatter(np.arange(M), FSC_inferred.rho, color = \"black\", marker = \"D\", s = 50, label = \"Inferred\")\n",
    "ax.scatter(np.arange(M), rho_pre_fit, color = \"black\", marker = \"x\", s = 50, label = \"Pre-fit\")\n",
    "\n",
    "ax.set_xlabel(\"$m$\", fontsize = 15)\n",
    "ax.set_ylabel(\"$\\\\rho_m$\", fontsize = 15)\n",
    "\n",
    "ax.tick_params(axis='both', which='major', labelsize=12)\n",
    "\n",
    "plt.legend(fontsize = 14, bbox_to_anchor=(1.05, 1), loc='upper left')\n",
    "\n",
    "plt.show()"
   ]
  },
  {
   "cell_type": "markdown",
   "metadata": {},
   "source": [
    "# Finite State Controller with $M = 8$, $A = 7$, $Y = 5$"
   ]
  },
  {
   "cell_type": "markdown",
   "metadata": {},
   "source": [
    "# Observations, one step"
   ]
  },
  {
   "cell_type": "code",
   "execution_count": 346,
   "metadata": {},
   "outputs": [],
   "source": [
    "NStepsObs = 1\n",
    "NTraj = 3000\n",
    "Y = 5\n",
    "RateMatrixObs = np.ones((Y,Y))\n",
    "RateMatrixObs = RateMatrixObs + 2*np.eye(Y)\n",
    "\n",
    "observations = ObsModels.DiscreteMarkovChain(NTraj, NStepsObs, RateMatrixObs, initial_seed = 3)"
   ]
  },
  {
   "cell_type": "code",
   "execution_count": 347,
   "metadata": {},
   "outputs": [
    {
     "name": "stdout",
     "output_type": "stream",
     "text": [
      "Initializing FSC with 8 memory states, 7 actions, and 5 observations.\n"
     ]
    }
   ],
   "source": [
    "M = 8\n",
    "A = 7\n",
    "\n",
    "np.random.seed(9)\n",
    "Theta = np.random.randn(Y, M, M, A)\n",
    "\n",
    "Psi = np.random.randn(M)\n",
    "\n",
    "FSC = FSC_DiscreteObs(Theta, Psi, verbose = True)"
   ]
  },
  {
   "cell_type": "code",
   "execution_count": 348,
   "metadata": {},
   "outputs": [],
   "source": [
    "FSC.load_observations(observations)"
   ]
  },
  {
   "cell_type": "code",
   "execution_count": 349,
   "metadata": {},
   "outputs": [],
   "source": [
    "NSteps = NStepsObs\n",
    "trajectories = FSC.generate_trajectories(NSteps)\n",
    "Time = np.arange(NSteps)"
   ]
  },
  {
   "cell_type": "code",
   "execution_count": 350,
   "metadata": {},
   "outputs": [
    {
     "data": {
      "image/png": "[encoded data removed]",
      "text/plain": [
       "<Figure size 600x300 with 1 Axes>"
      ]
     },
     "metadata": {},
     "output_type": "display_data"
    }
   ],
   "source": [
    "initial_memories = np.array([tr[\"memories\"][0] for tr in trajectories])\n",
    "\n",
    "fig, ax = plt.subplots(1,1, figsize=(6,3))\n",
    "\n",
    "h, bins_h = np.histogram(initial_memories.flatten(), bins = np.arange(-0.5, M+0.5, 1))\n",
    "h = h/np.sum(h)\n",
    "bins_h = (bins_h[1:] + bins_h[:-1])/2\n",
    "\n",
    "ax.bar(bins_h, h, width = 0.8, color = 'dimgray', alpha = 0.5)\n",
    "\n",
    "ax.set_xlabel('Initial Memories')\n",
    "ax.set_ylabel('Frequency')\n",
    "\n",
    "ax.set_xticks(np.arange(0, M, 1))\n",
    "\n",
    "ax.set_title('Initial memory distribution of the trajectories')\n",
    "\n",
    "plt.show()"
   ]
  },
  {
   "cell_type": "code",
   "execution_count": 351,
   "metadata": {},
   "outputs": [
    {
     "data": {
      "text/plain": [
       "1.4681756798545755"
      ]
     },
     "execution_count": 351,
     "metadata": {},
     "output_type": "execute_result"
    }
   ],
   "source": [
    "FSC.evaluate_nloglikelihood(trajectories[0])"
   ]
  },
  {
   "cell_type": "markdown",
   "metadata": {},
   "source": [
    "### Inference"
   ]
  },
  {
   "cell_type": "code",
   "execution_count": 365,
   "metadata": {},
   "outputs": [
    {
     "data": {
      "text/plain": [
       "tensor(1.6269, device='mps:0', grad_fn=<SubBackward0>)"
      ]
     },
     "execution_count": 365,
     "metadata": {},
     "output_type": "execute_result"
    }
   ],
   "source": [
    "FSC_tofit = FSC_InferenceDiscreteObs(M, A, Y, seed = 42, minus1_opt = False)\n",
    "FSC_tofit.load_theta(Theta.astype(np.float32))\n",
    "FSC_tofit.load_trajectories(trajectories)\n",
    "FSC_tofit.evaluate_nloglikelihood(idx_traj = 0)"
   ]
  },
  {
   "cell_type": "code",
   "execution_count": 366,
   "metadata": {},
   "outputs": [],
   "source": [
    "psi_pre_fit = FSC_tofit.psi.detach().cpu().numpy()\n",
    "rho_pre_fit = FSC_tofit.rho.detach().cpu().numpy()"
   ]
  },
  {
   "cell_type": "code",
   "execution_count": 367,
   "metadata": {},
   "outputs": [
    {
     "name": "stdout",
     "output_type": "stream",
     "text": [
      "Training with 2400 trajectories and validating with 600 trajectories.\n",
      "Epoch 1 - Training loss: 1.938591842651367, Validation loss: 1.9297829888264337 - Learning rate: 0.01\n",
      "Epoch 2 - Training loss: 1.937333450317383, Validation loss: 1.9288926881551742 - Learning rate: 0.0099\n",
      "Epoch 3 - Training loss: 1.9362227376302084, Validation loss: 1.9280485343933105 - Learning rate: 0.009801\n",
      "Epoch 4 - Training loss: 1.9353133900960289, Validation loss: 1.927216246922811 - Learning rate: 0.00970299\n",
      "Epoch 5 - Training loss: 1.9344055938720703, Validation loss: 1.9264730761448543 - Learning rate: 0.0096059601\n",
      "Epoch 6 - Training loss: 1.9334988911946613, Validation loss: 1.925833835999171 - Learning rate: 0.009509900499\n",
      "Epoch 7 - Training loss: 1.932799377441406, Validation loss: 1.9252493053674697 - Learning rate: 0.00941480149401\n",
      "Epoch 8 - Training loss: 1.9320687103271483, Validation loss: 1.924760310848554 - Learning rate: 0.0093206534790699\n",
      "Epoch 9 - Training loss: 1.9315320587158205, Validation loss: 1.924315994779269 - Learning rate: 0.0092274469442792\n",
      "Epoch 10 - Training loss: 1.9309757995605468, Validation loss: 1.9239458052317302 - Learning rate: 0.009135172474836408\n",
      "Epoch 11 - Training loss: 1.9305836741129558, Validation loss: 1.923602391878764 - Learning rate: 0.009043820750088045\n",
      "Epoch 12 - Training loss: 1.9301758321126303, Validation loss: 1.9233304363489152 - Learning rate: 0.008953382542587164\n",
      "Epoch 13 - Training loss: 1.9297973378499347, Validation loss: 1.923107454776764 - Learning rate: 0.008863848717161293\n",
      "Epoch 14 - Training loss: 1.9295171356201173, Validation loss: 1.9229128229618073 - Learning rate: 0.00877521022998968\n",
      "Epoch 15 - Training loss: 1.9292790222167968, Validation loss: 1.9227515906095505 - Learning rate: 0.008687458127689783\n",
      "Epoch 16 - Training loss: 1.9290645345052084, Validation loss: 1.9226230613390605 - Learning rate: 0.008600583546412886\n",
      "Epoch 17 - Training loss: 1.9288926951090495, Validation loss: 1.922502360343933 - Learning rate: 0.008514577710948757\n",
      "Epoch 18 - Training loss: 1.9287082417805987, Validation loss: 1.922404405872027 - Learning rate: 0.00842943193383927\n",
      "Epoch 19 - Training loss: 1.9286165110270181, Validation loss: 1.9223118247588475 - Learning rate: 0.008345137614500876\n",
      "Epoch 20 - Training loss: 1.9284805297851564, Validation loss: 1.9222494131326675 - Learning rate: 0.008261686238355867\n",
      "Epoch 21 - Training loss: 1.9283544158935548, Validation loss: 1.9221936353047688 - Learning rate: 0.008179069375972308\n",
      "Epoch 22 - Training loss: 1.928271484375, Validation loss: 1.9221414603789648 - Learning rate: 0.008097278682212584\n",
      "Epoch 23 - Training loss: 1.9281930287679039, Validation loss: 1.9220952157179514 - Learning rate: 0.00801630589539046\n",
      "Epoch 24 - Training loss: 1.928133239746094, Validation loss: 1.9220586760838827 - Learning rate: 0.007936142836436554\n",
      "Epoch 25 - Training loss: 1.928059488932292, Validation loss: 1.922013988494873 - Learning rate: 0.007856781408072189\n",
      "Epoch 26 - Training loss: 1.928015823364258, Validation loss: 1.9219714279969533 - Learning rate: 0.007778213593991467\n",
      "Epoch 27 - Training loss: 1.9279552205403645, Validation loss: 1.9219396374622981 - Learning rate: 0.007700431458051552\n",
      "Epoch 28 - Training loss: 1.9279066212972005, Validation loss: 1.921910465359688 - Learning rate: 0.007623427143471037\n",
      "Epoch 29 - Training loss: 1.9278511555989581, Validation loss: 1.9218962484598159 - Learning rate: 0.007547192872036326\n",
      "Epoch 30 - Training loss: 1.9278143819173177, Validation loss: 1.9218689854939779 - Learning rate: 0.007471720943315963\n",
      "Epoch 31 - Training loss: 1.927776616414388, Validation loss: 1.92184457163016 - Learning rate: 0.007397003733882804\n",
      "Epoch 32 - Training loss: 1.9277397918701171, Validation loss: 1.921831506093343 - Learning rate: 0.007323033696543976\n",
      "Epoch 33 - Training loss: 1.9277040354410806, Validation loss: 1.921807712515195 - Learning rate: 0.007249803359578536\n",
      "Epoch 34 - Training loss: 1.9276737213134767, Validation loss: 1.921792013645172 - Learning rate: 0.0071773053259827505\n",
      "Epoch 35 - Training loss: 1.9276380920410157, Validation loss: 1.9217775557438532 - Learning rate: 0.007105532272722923\n",
      "Epoch 36 - Training loss: 1.92760014851888, Validation loss: 1.9217522579431534 - Learning rate: 0.007034476949995694\n",
      "Epoch 37 - Training loss: 1.9275745137532552, Validation loss: 1.9217261670033137 - Learning rate: 0.006964132180495737\n",
      "Epoch 38 - Training loss: 1.92755002339681, Validation loss: 1.9217068099975585 - Learning rate: 0.00689449085869078\n",
      "Epoch 39 - Training loss: 1.9275262196858722, Validation loss: 1.921684900522232 - Learning rate: 0.006825545950103872\n",
      "Epoch 40 - Training loss: 1.927495803833008, Validation loss: 1.92168037434419 - Learning rate: 0.0067572904906028335\n",
      "Epoch 41 - Training loss: 1.9274791971842449, Validation loss: 1.921665996313095 - Learning rate: 0.006689717585696805\n",
      "Epoch 42 - Training loss: 1.9274474843343097, Validation loss: 1.921659489075343 - Learning rate: 0.006622820409839836\n",
      "Epoch 43 - Training loss: 1.9274449157714846, Validation loss: 1.921628625591596 - Learning rate: 0.006556592205741438\n",
      "Epoch 44 - Training loss: 1.9274121348063151, Validation loss: 1.921634914080302 - Learning rate: 0.006491026283684023\n",
      "Epoch 45 - Training loss: 1.9273831176757816, Validation loss: 1.9216271563371023 - Learning rate: 0.006426116020847182\n",
      "Epoch 46 - Training loss: 1.9273603057861328, Validation loss: 1.921607518394788 - Learning rate: 0.006361854860638711\n",
      "Epoch 47 - Training loss: 1.9273470306396483, Validation loss: 1.9216094414393108 - Learning rate: 0.006298236312032323\n",
      "Epoch 48 - Training loss: 1.9273237864176433, Validation loss: 1.921601397395134 - Learning rate: 0.006235253948912\n",
      "Epoch 49 - Training loss: 1.9273084513346355, Validation loss: 1.921579634944598 - Learning rate: 0.00617290140942288\n",
      "Epoch 50 - Training loss: 1.9272868601481121, Validation loss: 1.921577284137408 - Learning rate: 0.006111172395328651\n",
      "Epoch 51 - Training loss: 1.927273178100586, Validation loss: 1.9215785851081213 - Learning rate: 0.0060500606713753645\n",
      "Epoch 52 - Training loss: 1.9272499084472656, Validation loss: 1.9215678358078003 - Learning rate: 0.005989560064661611\n",
      "Epoch 53 - Training loss: 1.9272407023111977, Validation loss: 1.9215605092048644 - Learning rate: 0.005929664464014994\n",
      "Epoch 54 - Training loss: 1.9272257232666015, Validation loss: 1.921553955078125 - Learning rate: 0.0058703678193748445\n",
      "Epoch 55 - Training loss: 1.9272033182779948, Validation loss: 1.9215439363320668 - Learning rate: 0.005811664141181096\n",
      "Epoch 56 - Training loss: 1.9271890513102214, Validation loss: 1.9215330336491268 - Learning rate: 0.0057535474997692845\n",
      "Epoch 57 - Training loss: 1.9271768442789714, Validation loss: 1.921523361603419 - Learning rate: 0.005696012024771591\n",
      "Epoch 58 - Training loss: 1.9271608734130858, Validation loss: 1.9215255703528722 - Learning rate: 0.005639051904523875\n",
      "Epoch 59 - Training loss: 1.9271515146891278, Validation loss: 1.921525439620018 - Learning rate: 0.005582661385478636\n",
      "Epoch 60 - Training loss: 1.9271402231852213, Validation loss: 1.9215189365545908 - Learning rate: 0.0055268347716238495\n",
      "Epoch 61 - Training loss: 1.9271197255452475, Validation loss: 1.9215225873390833 - Learning rate: 0.005471566423907611\n",
      "Epoch 62 - Training loss: 1.9271100107828776, Validation loss: 1.9215188751618066 - Learning rate: 0.005416850759668535\n",
      "Epoch 63 - Training loss: 1.9270984141031902, Validation loss: 1.9215093384186426 - Learning rate: 0.005362682252071849\n",
      "Epoch 64 - Training loss: 1.9270908610026043, Validation loss: 1.9215159543355307 - Learning rate: 0.005309055429551131\n",
      "Epoch 65 - Training loss: 1.9270803833007812, Validation loss: 1.9215059395631153 - Learning rate: 0.00525596487525562\n",
      "Epoch 66 - Training loss: 1.92706174214681, Validation loss: 1.9214971264203389 - Learning rate: 0.005203405226503063\n",
      "Epoch 67 - Training loss: 1.9270470682779948, Validation loss: 1.921495595375697 - Learning rate: 0.005151371174238033\n",
      "Epoch 68 - Training loss: 1.9270472462972006, Validation loss: 1.9215036137898762 - Learning rate: 0.005099857462495652\n",
      "Epoch 69 - Training loss: 1.9270362854003906, Validation loss: 1.9214978754520415 - Learning rate: 0.005048858887870696\n",
      "Epoch 70 - Training loss: 1.92702153523763, Validation loss: 1.9214956633249918 - Learning rate: 0.004998370298991989\n",
      "Epoch 71 - Training loss: 1.9270186360677084, Validation loss: 1.9214857345819474 - Learning rate: 0.00494838659600207\n",
      "Epoch 72 - Training loss: 1.927010014851888, Validation loss: 1.9214831338326137 - Learning rate: 0.004898902730042049\n",
      "Epoch 73 - Training loss: 1.9269923400878906, Validation loss: 1.921480619907379 - Learning rate: 0.004849913702741628\n",
      "Epoch 74 - Training loss: 1.9269863128662108, Validation loss: 1.9214847048123678 - Learning rate: 0.004801414565714212\n",
      "Epoch 75 - Training loss: 1.9269773101806642, Validation loss: 1.9214772150913875 - Learning rate: 0.0047534004200570695\n",
      "Epoch 76 - Training loss: 1.9269742075602212, Validation loss: 1.9214701503515244 - Learning rate: 0.004705866415856499\n",
      "Epoch 77 - Training loss: 1.9269609578450522, Validation loss: 1.921473336617152 - Learning rate: 0.004658807751697934\n",
      "Epoch 78 - Training loss: 1.9269551595052083, Validation loss: 1.9214735847711564 - Learning rate: 0.004612219674180955\n",
      "Epoch 79 - Training loss: 1.926947479248047, Validation loss: 1.9214794745047887 - Learning rate: 0.004566097477439145\n",
      "Epoch 80 - Training loss: 1.9269395446777342, Validation loss: 1.9214836772282917 - Learning rate: 0.004520436502664754\n",
      "Epoch 81 - Training loss: 1.926935297648112, Validation loss: 1.9214858174324037 - Learning rate: 0.004475232137638106\n",
      "Epoch 82 - Training loss: 1.926924311319987, Validation loss: 1.9214723364512125 - Learning rate: 0.004430479816261725\n",
      "Epoch 83 - Training loss: 1.9269182586669922, Validation loss: 1.9214687232176464 - Learning rate: 0.004386175018099108\n",
      "Epoch 84 - Training loss: 1.9269157409667972, Validation loss: 1.9214675360918045 - Learning rate: 0.004342313267918117\n",
      "Epoch 85 - Training loss: 1.9269050852457683, Validation loss: 1.9214627983172734 - Learning rate: 0.004298890135238936\n",
      "Epoch 86 - Training loss: 1.9269011688232422, Validation loss: 1.9214739308754603 - Learning rate: 0.004255901233886547\n",
      "Epoch 87 - Training loss: 1.9268932596842447, Validation loss: 1.9214708371957143 - Learning rate: 0.004213342221547681\n",
      "Epoch 88 - Training loss: 1.926889394124349, Validation loss: 1.921476293404897 - Learning rate: 0.004171208799332205\n",
      "Epoch 89 - Training loss: 1.9268772633870441, Validation loss: 1.9214774094025293 - Learning rate: 0.004129496711338883\n",
      "Epoch 90 - Training loss: 1.9268756866455081, Validation loss: 1.9214709558089573 - Learning rate: 0.004088201744225493\n",
      "Epoch 91 - Training loss: 1.9268741861979166, Validation loss: 1.9214601997534435 - Learning rate: 0.004047319726783238\n",
      "Epoch 92 - Training loss: 1.9268690490722655, Validation loss: 1.9214672180016836 - Learning rate: 0.004006846529515406\n",
      "Epoch 93 - Training loss: 1.926858952840169, Validation loss: 1.9214671442906062 - Learning rate: 0.003966778064220252\n",
      "Epoch 94 - Training loss: 1.9268530273437499, Validation loss: 1.9214643502235413 - Learning rate: 0.003927110283578049\n",
      "Epoch 95 - Training loss: 1.9268475596110024, Validation loss: 1.921468785603841 - Learning rate: 0.0038878391807422685\n",
      "Epoch 96 - Training loss: 1.926845016479492, Validation loss: 1.9214630327622095 - Learning rate: 0.0038489607889348456\n",
      "Epoch 97 - Training loss: 1.9268378702799478, Validation loss: 1.9214618096748988 - Learning rate: 0.0038104711810454973\n",
      "Epoch 98 - Training loss: 1.9268334452311198, Validation loss: 1.9214677466948826 - Learning rate: 0.0037723664692350424\n",
      "Epoch 99 - Training loss: 1.9268312072753908, Validation loss: 1.9214692157506943 - Learning rate: 0.003734642804542692\n",
      "Epoch 100 - Training loss: 1.92682497660319, Validation loss: 1.9214652301867803 - Learning rate: 0.003697296376497265\n",
      "Best validation loss: 1.9214601997534435 reached at epoch 91\n"
     ]
    }
   ],
   "source": [
    "tloss, vloss = FSC_tofit.optimize_psionly(NEpochs = 100, NBatch = 400, lr = 0.01, gamma = 0.99)"
   ]
  },
  {
   "cell_type": "markdown",
   "metadata": {},
   "source": [
    "### Comparison"
   ]
  },
  {
   "cell_type": "code",
   "execution_count": 368,
   "metadata": {},
   "outputs": [
    {
     "name": "stdout",
     "output_type": "stream",
     "text": [
      "Initializing FSC with 8 memory states, 7 actions, and 5 observations.\n"
     ]
    }
   ],
   "source": [
    "FSC_inferred = FSC_DiscreteObs(FSC_tofit.theta.detach().cpu().double().numpy(),\n",
    "                               FSC_tofit.psi.detach().cpu().double().numpy(), verbose = True)"
   ]
  },
  {
   "cell_type": "code",
   "execution_count": 369,
   "metadata": {},
   "outputs": [
    {
     "data": {
      "image/png": "[encoded data removed]",
      "text/plain": [
       "<Figure size 700x400 with 1 Axes>"
      ]
     },
     "metadata": {},
     "output_type": "display_data"
    }
   ],
   "source": [
    "fig, ax = plt.subplots(1,1, figsize=(7,4))\n",
    "ax.bar(bins_h, h, color = \"dimgray\", alpha = 0.5, label = \"True\")\n",
    "ax.scatter(np.arange(M), FSC_inferred.rho, color = \"black\", marker = \"D\", s = 50, label = \"Inferred\")\n",
    "ax.scatter(np.arange(M), rho_pre_fit, color = \"black\", marker = \"x\", s = 50, label = \"Pre-fit\")\n",
    "\n",
    "ax.set_xlabel(\"$m$\", fontsize = 15)\n",
    "ax.set_ylabel(\"$\\\\rho_m$\", fontsize = 15)\n",
    "\n",
    "ax.tick_params(axis='both', which='major', labelsize=12)\n",
    "\n",
    "plt.legend(fontsize = 14, bbox_to_anchor=(1.05, 1), loc='upper left')\n",
    "\n",
    "plt.show()"
   ]
  },
  {
   "cell_type": "code",
   "execution_count": null,
   "metadata": {},
   "outputs": [],
   "source": []
  }
 ],
 "metadata": {
  "kernelspec": {
   "display_name": "torch",
   "language": "python",
   "name": "python3"
  },
  "language_info": {
   "codemirror_mode": {
    "name": "ipython",
    "version": 3
   },
   "file_extension": ".py",
   "mimetype": "text/x-python",
   "name": "python",
   "nbconvert_exporter": "python",
   "pygments_lexer": "ipython3",
   "version": "3.12.7"
  }
 },
 "nbformat": 4,
 "nbformat_minor": 2
}
