{
 "cells": [
  {
   "cell_type": "code",
   "execution_count": 1,
   "id": "cdd35631-105c-47ca-8348-ad9499beb11c",
   "metadata": {},
   "outputs": [],
   "source": [
    "%load_ext autoreload\n",
    "%autoreload 2"
   ]
  },
  {
   "cell_type": "code",
   "execution_count": 2,
   "id": "a739250d-8f22-410a-9e56-326fc845ecaa",
   "metadata": {},
   "outputs": [],
   "source": [
    "from matplotlib.pyplot import cm\n",
    "import torch\n",
    "from torch import nn\n",
    "from torch.utils.data import DataLoader\n",
    "from torchvision import datasets\n",
    "from torchvision.transforms import ToTensor\n",
    "import matplotlib.pyplot as plt\n",
    "import pickle\n",
    "import numpy as np\n",
    "import random\n",
    "from scipy.special import softmax as softmax\n",
    "from math import ceil\n",
    "from IPython.display import display, clear_output\n",
    "from utils import *\n",
    "sm0 = nn.Softmax(dim = 0)\n",
    "sm1 = nn.Softmax(dim = 1)"
   ]
  },
  {
   "cell_type": "code",
   "execution_count": 3,
   "id": "c61abd18",
   "metadata": {},
   "outputs": [
    {
     "data": {
      "text/plain": [
       "True"
      ]
     },
     "execution_count": 3,
     "metadata": {},
     "output_type": "execute_result"
    }
   ],
   "source": [
    "# check if CUDA is available\n",
    "torch.cuda.is_available()"
   ]
  },
  {
   "cell_type": "code",
   "execution_count": 4,
   "id": "93df2fcc-facb-40d0-9ab3-32ce5142aaa4",
   "metadata": {},
   "outputs": [],
   "source": [
    "Y = 2          #number of observations\n",
    "M = 2          #number of memory states\n",
    "A = 2          #number of actions\n",
    "F = 1 + 1      #number of linear features (+ bias)\n",
    "\n",
    "# optimizer parameters\n",
    "lr = 0.01\n",
    "n_epochs = 10\n",
    "n_batch = 50\n",
    "threshold_act = 30\n",
    "dx = 125\n",
    "\n",
    "# trajectories limited?\n",
    "maxT = 5000 \n",
    "\n",
    "# shuffle gradient position\n",
    "x_pos_shuffle = False\n",
    "x_max_shuffle = 5\n",
    "\n",
    "# percentage of training data\n",
    "train_perc = 80"
   ]
  },
  {
   "cell_type": "code",
   "execution_count": 5,
   "id": "cbf05adf-aa3b-497b-b535-bc15bc6c0aba",
   "metadata": {},
   "outputs": [],
   "source": [
    "# #Load the trajectories\n",
    "# name_traj = \"./samples/trjs_N500len500test.pkl\"\n",
    "# with open(name_traj, \"rb\") as f:\n",
    "#     trjs_dict = pickle.load(f)\n",
    "\n",
    "# # Splitting into train and test\n",
    "# Neps = len(trjs_dict)\n",
    "# Ntrain = int(Neps*train_perc/100)\n",
    "\n",
    "# trjs_train = trjs_dict[:Ntrain]\n",
    "# trjs_test = trjs_dict[Ntrain:]"
   ]
  },
  {
   "cell_type": "code",
   "execution_count": null,
   "id": "3412696f-a294-4df9-acbc-c1bb8ac7162c",
   "metadata": {},
   "outputs": [],
   "source": []
  },
  {
   "cell_type": "code",
   "execution_count": 6,
   "id": "c107dda1-b68f-441b-8327-9d7213f9598e",
   "metadata": {},
   "outputs": [],
   "source": [
    "# parameters for softmax policy\n",
    "# dims: {Y, M, M', A} \n",
    "# F = #features + bias\n",
    "\n",
    "#Start from a random theta ---default!\n",
    "theta = torch.rand( (F, M, M, A), requires_grad=True, device='cuda')\n",
    "theta.data = 2*theta.data-1\n",
    "theta.data /= 5\n",
    "\n",
    "\n",
    "#If you restart theta from a saved file\n",
    "theta_is_from_restart = False\n",
    "\n",
    "#If you start theta from a fixed set of numbers\n",
    "theta_is_fixed = False\n",
    "\n",
    "if theta_is_from_restart:\n",
    "    theta_restart_file = \"./results/virtual_data_antonio_FSC/theta_bacteria_FSC_M2_loglike431.11_th30_MselfconsTrue_FromRandom_FSCtrajs.dat\"\n",
    "    theta = torch.from_numpy(np.loadtxt(theta_restart_file).reshape(F,M,M,A))\n",
    "elif theta_is_fixed:\n",
    "    theta=np.array([[[[-0.61114431,-0.55987562],[ 0.59255672,0.82834098]],[[-0.88220033,0.46330714],[ 0.43192955,-0.52351326]]],\n",
    "               [[[ 0.41101729,-0.31575377],[-0.64954147,0.36582982]],[[-0.24503104,0.00449758],[ 0.8396274,0.59647384]]]])\n",
    "    theta=torch.from_numpy(theta.reshape(F,M,M,A))"
   ]
  },
  {
   "cell_type": "code",
   "execution_count": 7,
   "id": "5e9c681b-c7ea-4cca-a7bf-836458f3299a",
   "metadata": {},
   "outputs": [],
   "source": [
    "#parameters for softmax of psi to get rho(m_0)\n",
    "psi=torch.rand(M,requires_grad=True, device='cuda')\n",
    "psi_uniform=False\n",
    "if psi_uniform:\n",
    "    psi=torch.ones(M,requires_grad=True)"
   ]
  },
  {
   "cell_type": "code",
   "execution_count": 8,
   "id": "8ac66bff-30d3-4870-9969-dcc67385860f",
   "metadata": {},
   "outputs": [],
   "source": [
    "sm0 = nn.Softmax(dim = 0)"
   ]
  },
  {
   "cell_type": "code",
   "execution_count": null,
   "id": "fe3e2275-d20f-48c3-aca0-fa80493cd1ac",
   "metadata": {},
   "outputs": [],
   "source": []
  },
  {
   "cell_type": "code",
   "execution_count": 9,
   "id": "364064b0-b13e-4e9d-9c26-87fe5fd0049b",
   "metadata": {},
   "outputs": [
    {
     "name": "stdout",
     "output_type": "stream",
     "text": [
      "500 / 500\n"
     ]
    }
   ],
   "source": [
    "\n",
    "#Produce trajectories\n",
    "#ground_truth_theta=np.array([[[[-0.61114431,-0.55987562],[ 0.59255672,0.82834098]],[[-0.88220033,0.46330714],[ 0.43192955,-0.52351326]]], \n",
    "#[[[ 0.41101729,-0.31575377],[-0.64954147,0.36582982]],[[-0.24503104,0.00449758],[ 0.8396274,0.59647384]]]])\n",
    "\n",
    "\n",
    "Ntraj=500\n",
    "traj_len=100\n",
    "signal=get_signal_landscape('step_like',traj_len,Ntraj)\n",
    "dict_trajectories,original_theta = get_traj_from_theta(F,M,A,signal,'False',Ntraj,traj_len)"
   ]
  },
  {
   "cell_type": "code",
   "execution_count": 10,
   "id": "99ac1167",
   "metadata": {},
   "outputs": [
    {
     "data": {
      "text/plain": [
       "array([[[[-0.9629398 ,  0.14707666],\n",
       "         [-0.83063267,  0.88302487]],\n",
       "\n",
       "        [[-0.21978671, -0.86869579],\n",
       "         [-0.87569959, -0.42727133]]],\n",
       "\n",
       "\n",
       "       [[[-0.74046244, -0.11874317],\n",
       "         [-0.8246854 ,  0.62118121]],\n",
       "\n",
       "        [[-0.0649276 , -0.23490731],\n",
       "         [-0.14607044, -0.30270079]]]])"
      ]
     },
     "execution_count": 10,
     "metadata": {},
     "output_type": "execute_result"
    }
   ],
   "source": [
    "original_theta"
   ]
  },
  {
   "cell_type": "code",
   "execution_count": 12,
   "id": "27d3c01f",
   "metadata": {},
   "outputs": [
    {
     "data": {
      "image/png": "[encoded data removed]",
      "text/plain": [
       "<Figure size 640x480 with 1 Axes>"
      ]
     },
     "metadata": {},
     "output_type": "display_data"
    },
    {
     "data": {
      "text/plain": [
       "array([0.274, 0.726])"
      ]
     },
     "execution_count": 12,
     "metadata": {},
     "output_type": "execute_result"
    }
   ],
   "source": [
    "plt.hist([dict[\"memories\"][0] for dict in dict_trajectories])\n",
    "plt.show()\n",
    "\n",
    "np.unique([dict[\"memories\"][0] for dict in dict_trajectories], return_counts=True)[1]/Ntraj"
   ]
  },
  {
   "cell_type": "code",
   "execution_count": 13,
   "id": "75886077-7ee0-489b-9745-e75459c5460e",
   "metadata": {},
   "outputs": [],
   "source": [
    "trjs_dict=dict_trajectories\n",
    "# Splitting into train and test\n",
    "Neps = len(trjs_dict)\n",
    "Ntrain = int(Neps*train_perc/100)\n",
    "\n",
    "trjs_train = trjs_dict[:Ntrain]\n",
    "trjs_test = trjs_dict[Ntrain:]"
   ]
  },
  {
   "cell_type": "code",
   "execution_count": 14,
   "id": "9abaff09-1211-4146-9c32-9096eee7a7ab",
   "metadata": {},
   "outputs": [
    {
     "data": {
      "text/plain": [
       "(tensor([[[[ 0.1450, -0.0189],\n",
       "           [ 0.1528,  0.1927]],\n",
       " \n",
       "          [[ 0.0591,  0.0914],\n",
       "           [ 0.1113, -0.1871]]],\n",
       " \n",
       " \n",
       "         [[[-0.1760,  0.0465],\n",
       "           [ 0.0093,  0.0971]],\n",
       " \n",
       "          [[-0.1522, -0.1391],\n",
       "           [-0.0617,  0.0541]]]], device='cuda:0', requires_grad=True),\n",
       " tensor([0.3416, 0.4836], device='cuda:0', requires_grad=True))"
      ]
     },
     "execution_count": 14,
     "metadata": {},
     "output_type": "execute_result"
    }
   ],
   "source": [
    "theta,psi"
   ]
  },
  {
   "cell_type": "code",
   "execution_count": 15,
   "id": "6c1c472c",
   "metadata": {},
   "outputs": [
    {
     "data": {
      "text/plain": [
       "tensor([0.4646, 0.5354], device='cuda:0', grad_fn=<SoftmaxBackward0>)"
      ]
     },
     "execution_count": 15,
     "metadata": {},
     "output_type": "execute_result"
    }
   ],
   "source": [
    "nn.Softmax(dim=0)(psi)"
   ]
  },
  {
   "cell_type": "code",
   "execution_count": 16,
   "id": "c8655899",
   "metadata": {},
   "outputs": [],
   "source": [
    "n_epochs = 20"
   ]
  },
  {
   "cell_type": "code",
   "execution_count": 17,
   "id": "d2fb7108-af05-412e-a75b-1716ca8c5481",
   "metadata": {},
   "outputs": [
    {
     "name": "stderr",
     "output_type": "stream",
     "text": [
      "/home/giorgio/miniconda3/envs/minpy/lib/python3.11/site-packages/torch/__init__.py:1144: UserWarning: torch.set_default_tensor_type() is deprecated as of PyTorch 2.1, please use torch.set_default_dtype() and torch.set_default_device() as alternatives. (Triggered internally at ../torch/csrc/tensor/python_tensor.cpp:432.)\n",
      "  _C._set_default_tensor_type(t)\n"
     ]
    },
    {
     "name": "stdout",
     "output_type": "stream",
     "text": [
      "Epoch: 0 \tLoss train: 68.65822996919393\n",
      "\t Initial distribution: tensor([0.5023, 0.4977], grad_fn=<SoftmaxBackward0>)\n",
      "Epoch: 1 \tLoss train: 66.89736899444246\n",
      "\t Initial distribution: tensor([0.5195, 0.4805], grad_fn=<SoftmaxBackward0>)\n",
      "Epoch: 2 \tLoss train: 66.38582924331207\n",
      "\t Initial distribution: tensor([0.5003, 0.4997], grad_fn=<SoftmaxBackward0>)\n",
      "Batch 3/8: loss 66.32115620379817\r"
     ]
    }
   ],
   "source": [
    "\n",
    "# use CUDA if available\n",
    "device = torch.device(\"cuda\" if torch.cuda.is_available() else \"cpu\")\n",
    "theta = theta.to(device)\n",
    "psi = psi.to(device)\n",
    "\n",
    "optimizer_theta = torch.optim.Adam([theta], lr=lr)\n",
    "optimizer_psi = torch.optim.Adam([psi], lr=lr)\n",
    "\n",
    "optimizer = torch.optim.Adam([theta, psi], lr=lr)\n",
    "\n",
    "# if you want to use the same device for all tensors\n",
    "torch.set_default_tensor_type('torch.cuda.FloatTensor')\n",
    "\n",
    "count = 0\n",
    "\n",
    "Neps = len(trjs_dict)\n",
    "\n",
    "lr_mav = 1. / Ntrain\n",
    "\n",
    "losses_train_theta = []\n",
    "losses_test_theta = []\n",
    "\n",
    "losses_train_psi = []\n",
    "losses_test_psi = []\n",
    "\n",
    "losses_train = []\n",
    "losses_test = []\n",
    "\n",
    "alternate_update = False\n",
    "\n",
    "grad_required=True\n",
    "for epochs in range(n_epochs):\n",
    "\n",
    "    running_loss_theta = 0.\n",
    "    running_loss_psi = 0.\n",
    "    running_loss = 0.\n",
    "    random.shuffle(trjs_train)\n",
    "\n",
    "    for ibatch, batch in enumerate(batched(trjs_train, n_batch)):\n",
    "        if alternate_update:\n",
    "            # Update theta while keeping psi fixed\n",
    "            loss_theta = trajs_loss_eval(theta, psi.detach(), batch, trjs_train)\n",
    "            loss_theta.backward()\n",
    "            running_loss_theta += loss_theta.item()\n",
    "                \n",
    "            optimizer_theta.step()\n",
    "            optimizer_theta.zero_grad()\n",
    "            \n",
    "            # Update theta while keeping psi fixed\n",
    "            loss_psi= trajs_loss_eval(theta.detach(), psi, batch, trjs_train)\n",
    "            loss_psi.backward()\n",
    "            running_loss_psi += loss_psi.item()\n",
    "                \n",
    "            optimizer_psi.step()\n",
    "            optimizer_psi.zero_grad()\n",
    "            \n",
    "            \n",
    "            print(f\"Batch {ibatch+1}/{ceil(Ntrain/n_batch)}: loss_psi {loss_psi.item()}\")\n",
    "            print(f\"Batch {ibatch+1}/{ceil(Ntrain/n_batch)}: loss_theta {loss_theta.item()}\", end='\\r')\n",
    "        else:\n",
    "            # update both theta and psi\n",
    "            loss = trajs_loss_eval(theta, psi, batch, trjs_train)\n",
    "            loss.backward()\n",
    "            running_loss += loss.item()\n",
    "            optimizer.step()\n",
    "            optimizer.zero_grad()\n",
    "            print(f\"Batch {ibatch+1}/{ceil(Ntrain/n_batch)}: loss {loss.item()}\", end='\\r')\n",
    "    if alternate_update:\n",
    "        loss_test_theta = trajs_loss_eval(theta, psi.detach(), batch, trjs_train)\n",
    "        loss_test_psi = trajs_loss_eval(theta.detach(), psi, batch, trjs_train)\n",
    "    \n",
    "        print(f\"Epoch: {epochs} \\tLoss train: {running_loss_theta/ceil(Ntrain/n_batch)} \\tLoss test: {loss_test_psi}\")\n",
    "        print(f\"Epoch: {epochs} \\tLoss train: {running_loss_psi/ceil(Ntrain/n_batch)} \\tLoss test: {loss_test_theta}\")\n",
    "        losses_train_theta.append(running_loss_theta)\n",
    "        losses_train_psi.append(running_loss_psi)\n",
    "        losses_test_theta.append(loss_test_theta)\n",
    "        losses_test_psi.append(loss_test_psi)\n",
    "    else:\n",
    "        loss_test = trajs_loss_eval(theta, psi, batch, trjs_train)\n",
    "        print(f\"Epoch: {epochs} \\tLoss train: {running_loss/ceil(Ntrain/n_batch)}\")\n",
    "        losses_train.append(running_loss)\n",
    "        losses_test.append(loss_test)\n",
    "\n",
    "        print(f\"\\t Initial distribution: {nn.Softmax(dim=0)(psi)}\")"
   ]
  },
  {
   "cell_type": "code",
   "execution_count": 142,
   "id": "b7436043",
   "metadata": {},
   "outputs": [],
   "source": [
    "n_epochs = 5"
   ]
  },
  {
   "cell_type": "code",
   "execution_count": 143,
   "id": "20961e43",
   "metadata": {},
   "outputs": [
    {
     "name": "stdout",
     "output_type": "stream",
     "text": [
      "Epoch: 0 \tLoss train: 55.060594883380574\n",
      "\t Initial distribution: tensor([0.8511, 0.1489], grad_fn=<SoftmaxBackward0>)\n",
      "Epoch: 1 \tLoss train: 55.05383537603025\n",
      "\t Initial distribution: tensor([0.8428, 0.1572], grad_fn=<SoftmaxBackward0>)\n",
      "Epoch: 2 \tLoss train: 55.047555039108154\n",
      "\t Initial distribution: tensor([0.8356, 0.1644], grad_fn=<SoftmaxBackward0>)\n",
      "Epoch: 3 \tLoss train: 55.042400453463365\n",
      "\t Initial distribution: tensor([0.8294, 0.1706], grad_fn=<SoftmaxBackward0>)\n",
      "Epoch: 4 \tLoss train: 55.03781994519788\n",
      "\t Initial distribution: tensor([0.8256, 0.1744], grad_fn=<SoftmaxBackward0>)\n"
     ]
    }
   ],
   "source": [
    "\n",
    "# use CUDA if available\n",
    "device = torch.device(\"cuda\" if torch.cuda.is_available() else \"cpu\")\n",
    "theta = theta.to(device)\n",
    "psi = psi.to(device)\n",
    "\n",
    "optimizer_theta = torch.optim.Adam([theta], lr=lr)\n",
    "optimizer_psi = torch.optim.Adam([psi], lr=lr)\n",
    "\n",
    "optimizer = torch.optim.Adam([theta, psi], lr=lr)\n",
    "\n",
    "# if you want to use the same device for all tensors\n",
    "torch.set_default_tensor_type('torch.cuda.FloatTensor')\n",
    "\n",
    "count = 0\n",
    "\n",
    "Neps = len(trjs_dict)\n",
    "\n",
    "lr_mav = 1. / Ntrain\n",
    "\n",
    "losses_train_theta = []\n",
    "losses_test_theta = []\n",
    "\n",
    "losses_train_psi = []\n",
    "losses_test_psi = []\n",
    "\n",
    "losses_train = []\n",
    "losses_test = []\n",
    "\n",
    "alternate_update = False\n",
    "\n",
    "grad_required=True\n",
    "for epochs in range(n_epochs):\n",
    "\n",
    "    running_loss_theta = 0.\n",
    "    running_loss_psi = 0.\n",
    "    running_loss = 0.\n",
    "    random.shuffle(trjs_train)\n",
    "\n",
    "    for ibatch, batch in enumerate(batched(trjs_train, n_batch)):\n",
    "        if alternate_update:\n",
    "            # Update theta while keeping psi fixed\n",
    "            loss_theta = trajs_loss_eval(theta, psi.detach(), batch, trjs_train)\n",
    "            loss_theta.backward()\n",
    "            running_loss_theta += loss_theta.item()\n",
    "                \n",
    "            optimizer_theta.step()\n",
    "            optimizer_theta.zero_grad()\n",
    "            \n",
    "            # Update theta while keeping psi fixed\n",
    "            loss_psi= trajs_loss_eval(theta.detach(), psi, batch, trjs_train)\n",
    "            loss_psi.backward()\n",
    "            running_loss_psi += loss_psi.item()\n",
    "                \n",
    "            optimizer_psi.step()\n",
    "            optimizer_psi.zero_grad()\n",
    "            \n",
    "            \n",
    "            print(f\"Batch {ibatch+1}/{ceil(Ntrain/n_batch)}: loss_psi {loss_psi.item()}\")\n",
    "            print(f\"Batch {ibatch+1}/{ceil(Ntrain/n_batch)}: loss_theta {loss_theta.item()}\", end='\\r')\n",
    "        else:\n",
    "            # update both theta and psi\n",
    "            loss = trajs_loss_eval(theta, psi, batch, trjs_train)\n",
    "            loss.backward()\n",
    "            running_loss += loss.item()\n",
    "            optimizer.step()\n",
    "            optimizer.zero_grad()\n",
    "            print(f\"Batch {ibatch+1}/{ceil(Ntrain/n_batch)}: loss {loss.item()}\", end='\\r')\n",
    "    if alternate_update:\n",
    "        loss_test_theta = trajs_loss_eval(theta, psi.detach(), batch, trjs_train)\n",
    "        loss_test_psi = trajs_loss_eval(theta.detach(), psi, batch, trjs_train)\n",
    "    \n",
    "        print(f\"Epoch: {epochs} \\tLoss train: {running_loss_theta/ceil(Ntrain/n_batch)} \\tLoss test: {loss_test_psi}\")\n",
    "        print(f\"Epoch: {epochs} \\tLoss train: {running_loss_psi/ceil(Ntrain/n_batch)} \\tLoss test: {loss_test_theta}\")\n",
    "        losses_train_theta.append(running_loss_theta)\n",
    "        losses_train_psi.append(running_loss_psi)\n",
    "        losses_test_theta.append(loss_test_theta)\n",
    "        losses_test_psi.append(loss_test_psi)\n",
    "    else:\n",
    "        loss_test = trajs_loss_eval(theta, psi, batch, trjs_train)\n",
    "        print(f\"Epoch: {epochs} \\tLoss train: {running_loss/ceil(Ntrain/n_batch)}\")\n",
    "        losses_train.append(running_loss)\n",
    "        losses_test.append(loss_test)\n",
    "\n",
    "        print(f\"\\t Initial distribution: {nn.Softmax(dim=0)(psi)}\")"
   ]
  },
  {
   "cell_type": "code",
   "execution_count": 150,
   "id": "bef1684a",
   "metadata": {},
   "outputs": [
    {
     "name": "stdout",
     "output_type": "stream",
     "text": [
      "Epoch: 0 \tLoss train: 55.03349660062381\n",
      "\t Initial distribution: tensor([0.8259, 0.1741], grad_fn=<SoftmaxBackward0>)\n",
      "Epoch: 1 \tLoss train: 55.02920592334819\n",
      "\t Initial distribution: tensor([0.8301, 0.1699], grad_fn=<SoftmaxBackward0>)\n",
      "Epoch: 2 \tLoss train: 55.02449706772866\n",
      "\t Initial distribution: tensor([0.8368, 0.1632], grad_fn=<SoftmaxBackward0>)\n",
      "Epoch: 3 \tLoss train: 55.0192174497293\n",
      "\t Initial distribution: tensor([0.8449, 0.1551], grad_fn=<SoftmaxBackward0>)\n",
      "Epoch: 4 \tLoss train: 55.01332293934659\n",
      "\t Initial distribution: tensor([0.8540, 0.1460], grad_fn=<SoftmaxBackward0>)\n"
     ]
    }
   ],
   "source": [
    "grad_required=True\n",
    "for epochs in range(n_epochs):\n",
    "\n",
    "    running_loss_theta = 0.\n",
    "    running_loss_psi = 0.\n",
    "    running_loss = 0.\n",
    "    random.shuffle(trjs_train)\n",
    "\n",
    "    for ibatch, batch in enumerate(batched(trjs_train, n_batch)):\n",
    "        if alternate_update:\n",
    "            # Update theta while keeping psi fixed\n",
    "            loss_theta = trajs_loss_eval(theta, psi.detach(), batch, trjs_train)\n",
    "            loss_theta.backward()\n",
    "            running_loss_theta += loss_theta.item()\n",
    "                \n",
    "            optimizer_theta.step()\n",
    "            optimizer_theta.zero_grad()\n",
    "            \n",
    "            # Update theta while keeping psi fixed\n",
    "            loss_psi= trajs_loss_eval(theta.detach(), psi, batch, trjs_train)\n",
    "            loss_psi.backward()\n",
    "            running_loss_psi += loss_psi.item()\n",
    "                \n",
    "            optimizer_psi.step()\n",
    "            optimizer_psi.zero_grad()\n",
    "            \n",
    "            \n",
    "            print(f\"Batch {ibatch+1}/{ceil(Ntrain/n_batch)}: loss_psi {loss_psi.item()}\")\n",
    "            print(f\"Batch {ibatch+1}/{ceil(Ntrain/n_batch)}: loss_theta {loss_theta.item()}\", end='\\r')\n",
    "        else:\n",
    "            # update both theta and psi\n",
    "            loss = trajs_loss_eval(theta, psi, batch, trjs_train)\n",
    "            loss.backward()\n",
    "            running_loss += loss.item()\n",
    "            optimizer.step()\n",
    "            optimizer.zero_grad()\n",
    "            print(f\"Batch {ibatch+1}/{ceil(Ntrain/n_batch)}: loss {loss.item()}\", end='\\r')\n",
    "    if alternate_update:\n",
    "        loss_test_theta = trajs_loss_eval(theta, psi.detach(), batch, trjs_train)\n",
    "        loss_test_psi = trajs_loss_eval(theta.detach(), psi, batch, trjs_train)\n",
    "    \n",
    "        print(f\"Epoch: {epochs} \\tLoss train: {running_loss_theta/ceil(Ntrain/n_batch)} \\tLoss test: {loss_test_psi}\")\n",
    "        print(f\"Epoch: {epochs} \\tLoss train: {running_loss_psi/ceil(Ntrain/n_batch)} \\tLoss test: {loss_test_theta}\")\n",
    "        losses_train_theta.append(running_loss_theta)\n",
    "        losses_train_psi.append(running_loss_psi)\n",
    "        losses_test_theta.append(loss_test_theta)\n",
    "        losses_test_psi.append(loss_test_psi)\n",
    "    else:\n",
    "        loss_test = trajs_loss_eval(theta, psi, batch, trjs_train)\n",
    "        print(f\"Epoch: {epochs} \\tLoss train: {running_loss/ceil(Ntrain/n_batch)}\")\n",
    "        losses_train.append(running_loss)\n",
    "        losses_test.append(loss_test)\n",
    "\n",
    "        print(f\"\\t Initial distribution: {nn.Softmax(dim=0)(psi)}\")"
   ]
  },
  {
   "cell_type": "code",
   "execution_count": 151,
   "id": "2195ace8",
   "metadata": {},
   "outputs": [
    {
     "data": {
      "text/plain": [
       "tensor([0.8540, 0.1460], grad_fn=<SoftmaxBackward0>)"
      ]
     },
     "execution_count": 151,
     "metadata": {},
     "output_type": "execute_result"
    }
   ],
   "source": [
    "nn.Softmax(dim=0)(psi)"
   ]
  },
  {
   "cell_type": "code",
   "execution_count": 152,
   "id": "8c58e7fc",
   "metadata": {},
   "outputs": [
    {
     "data": {
      "text/plain": [
       "tensor([[[[-0.0362, -0.0627],\n",
       "          [-0.2971,  0.4285]],\n",
       "\n",
       "         [[ 0.6432, -0.7863],\n",
       "          [-0.2410,  0.0240]]],\n",
       "\n",
       "\n",
       "        [[[-0.2395,  0.4461],\n",
       "          [-0.0655,  0.0299]],\n",
       "\n",
       "         [[ 0.3534, -0.3930],\n",
       "          [-0.0440,  0.3929]]]], requires_grad=True)"
      ]
     },
     "execution_count": 152,
     "metadata": {},
     "output_type": "execute_result"
    }
   ],
   "source": [
    "theta"
   ]
  },
  {
   "cell_type": "code",
   "execution_count": 153,
   "id": "91eb0281-f34f-4454-9276-d0654cc9a83a",
   "metadata": {},
   "outputs": [
    {
     "data": {
      "text/plain": [
       "(array([0.23064303, 0.22461489, 0.17767354, 0.36706855]),\n",
       " array([0.4564469 , 0.10928453, 0.18852946, 0.24573911]))"
      ]
     },
     "execution_count": 153,
     "metadata": {},
     "output_type": "execute_result"
    }
   ],
   "source": [
    "pi_f(theta.detach().cpu().numpy(), f_traj[1], 0), pi_f(theta.detach().cpu().numpy(), f_traj[1], 1)"
   ]
  },
  {
   "cell_type": "code",
   "execution_count": 154,
   "id": "4251afd8-54cc-4ccf-ba7b-950a4e2f1507",
   "metadata": {},
   "outputs": [
    {
     "data": {
      "text/plain": [
       "(array([0.14781318, 0.17739546, 0.47524408, 0.19954728]),\n",
       " array([0.18376921, 0.43676727, 0.25392884, 0.12553467]))"
      ]
     },
     "execution_count": 154,
     "metadata": {},
     "output_type": "execute_result"
    }
   ],
   "source": [
    "pi_f(original_theta, f_traj[0], 0), pi_f(original_theta, f_traj[0], 1)"
   ]
  },
  {
   "cell_type": "code",
   "execution_count": 155,
   "id": "783bb722",
   "metadata": {},
   "outputs": [
    {
     "data": {
      "text/plain": [
       "(array([[0.1155057 , 0.08897865],\n",
       "        [0.22785895, 0.09411418]]),\n",
       " array([[0.11248681, 0.1838274 ],\n",
       "        [0.054555  , 0.12267332]]))"
      ]
     },
     "execution_count": 155,
     "metadata": {},
     "output_type": "execute_result"
    }
   ],
   "source": [
    "np_Tmm(theta.detach().cpu().numpy(), f_traj[1], 0), np_Tmm(theta.detach().cpu().numpy(), f_traj[1], 1)"
   ]
  },
  {
   "cell_type": "code",
   "execution_count": 156,
   "id": "49e62630",
   "metadata": {},
   "outputs": [
    {
     "data": {
      "text/plain": [
       "(array([[0.06244315, 0.20076516],\n",
       "        [0.10613657, 0.14665752]]),\n",
       " array([[0.07494007, 0.08429803],\n",
       "        [0.25225651, 0.072503  ]]))"
      ]
     },
     "execution_count": 156,
     "metadata": {},
     "output_type": "execute_result"
    }
   ],
   "source": [
    "np_Tmm(original_theta, f_traj[0], 0), np_Tmm(original_theta, f_traj[0], 1)"
   ]
  },
  {
   "cell_type": "code",
   "execution_count": null,
   "id": "2c216bb9",
   "metadata": {},
   "outputs": [],
   "source": []
  }
 ],
 "metadata": {
  "kernelspec": {
   "display_name": "Python 3 (ipykernel)",
   "language": "python",
   "name": "python3"
  },
  "language_info": {
   "codemirror_mode": {
    "name": "ipython",
    "version": 3
   },
   "file_extension": ".py",
   "mimetype": "text/x-python",
   "name": "python",
   "nbconvert_exporter": "python",
   "pygments_lexer": "ipython3",
   "version": "3.11.10"
  }
 },
 "nbformat": 4,
 "nbformat_minor": 5
}
